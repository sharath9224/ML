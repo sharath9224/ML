{
 "cells": [
  {
   "cell_type": "code",
   "execution_count": 1,
   "id": "91509270",
   "metadata": {},
   "outputs": [],
   "source": [
    "import pandas as pd\n",
    "import numpy as np\n",
    "import matplotlib.pyplot as plt\n",
    "%matplotlib inline\n",
    "import seaborn as sns\n",
    "import warnings\n",
    "warnings.filterwarnings(\"ignore\")"
   ]
  },
  {
   "cell_type": "code",
   "execution_count": 2,
   "id": "911a1377",
   "metadata": {},
   "outputs": [],
   "source": [
    "df=pd.read_csv(\"Breast_cancer_preprocessed_data.csv\")"
   ]
  },
  {
   "cell_type": "code",
   "execution_count": 3,
   "id": "1a931a9c",
   "metadata": {},
   "outputs": [
    {
     "data": {
      "text/plain": [
       "(4023, 16)"
      ]
     },
     "execution_count": 3,
     "metadata": {},
     "output_type": "execute_result"
    }
   ],
   "source": [
    "df.shape"
   ]
  },
  {
   "cell_type": "code",
   "execution_count": 4,
   "id": "51855097",
   "metadata": {},
   "outputs": [
    {
     "data": {
      "text/html": [
       "<div>\n",
       "<style scoped>\n",
       "    .dataframe tbody tr th:only-of-type {\n",
       "        vertical-align: middle;\n",
       "    }\n",
       "\n",
       "    .dataframe tbody tr th {\n",
       "        vertical-align: top;\n",
       "    }\n",
       "\n",
       "    .dataframe thead th {\n",
       "        text-align: right;\n",
       "    }\n",
       "</style>\n",
       "<table border=\"1\" class=\"dataframe\">\n",
       "  <thead>\n",
       "    <tr style=\"text-align: right;\">\n",
       "      <th></th>\n",
       "      <th>Unnamed: 0</th>\n",
       "      <th>Age</th>\n",
       "      <th>Race</th>\n",
       "      <th>MaritalStatus</th>\n",
       "      <th>TStage</th>\n",
       "      <th>NStage</th>\n",
       "      <th>6thStage</th>\n",
       "      <th>Grade</th>\n",
       "      <th>AStage</th>\n",
       "      <th>TumorSize</th>\n",
       "      <th>EstrogenStatus</th>\n",
       "      <th>ProgesteroneStatus</th>\n",
       "      <th>RegionalNodeExamined</th>\n",
       "      <th>ReginolNodePositive</th>\n",
       "      <th>SurvivalMonths</th>\n",
       "      <th>Status</th>\n",
       "    </tr>\n",
       "  </thead>\n",
       "  <tbody>\n",
       "    <tr>\n",
       "      <th>0</th>\n",
       "      <td>0</td>\n",
       "      <td>43</td>\n",
       "      <td>Other (American Indian/AK Native, Asian/Pacifi...</td>\n",
       "      <td>Married (including common law)</td>\n",
       "      <td>T2</td>\n",
       "      <td>N3</td>\n",
       "      <td>IIIC</td>\n",
       "      <td>Moderately differentiated; Grade II</td>\n",
       "      <td>Regional</td>\n",
       "      <td>40</td>\n",
       "      <td>Positive</td>\n",
       "      <td>Positive</td>\n",
       "      <td>19</td>\n",
       "      <td>11</td>\n",
       "      <td>1</td>\n",
       "      <td>Alive</td>\n",
       "    </tr>\n",
       "    <tr>\n",
       "      <th>1</th>\n",
       "      <td>1</td>\n",
       "      <td>47</td>\n",
       "      <td>Other (American Indian/AK Native, Asian/Pacifi...</td>\n",
       "      <td>Married (including common law)</td>\n",
       "      <td>T2</td>\n",
       "      <td>N2</td>\n",
       "      <td>IIIA</td>\n",
       "      <td>Moderately differentiated; Grade II</td>\n",
       "      <td>Regional</td>\n",
       "      <td>45</td>\n",
       "      <td>Positive</td>\n",
       "      <td>Positive</td>\n",
       "      <td>25</td>\n",
       "      <td>9</td>\n",
       "      <td>2</td>\n",
       "      <td>Alive</td>\n",
       "    </tr>\n",
       "    <tr>\n",
       "      <th>2</th>\n",
       "      <td>2</td>\n",
       "      <td>67</td>\n",
       "      <td>White</td>\n",
       "      <td>Married (including common law)</td>\n",
       "      <td>T2</td>\n",
       "      <td>N1</td>\n",
       "      <td>IIB</td>\n",
       "      <td>Poorly differentiated; Grade III</td>\n",
       "      <td>Regional</td>\n",
       "      <td>25</td>\n",
       "      <td>Positive</td>\n",
       "      <td>Positive</td>\n",
       "      <td>4</td>\n",
       "      <td>1</td>\n",
       "      <td>2</td>\n",
       "      <td>Dead</td>\n",
       "    </tr>\n",
       "    <tr>\n",
       "      <th>3</th>\n",
       "      <td>3</td>\n",
       "      <td>46</td>\n",
       "      <td>White</td>\n",
       "      <td>Divorced</td>\n",
       "      <td>T1</td>\n",
       "      <td>N1</td>\n",
       "      <td>IIA</td>\n",
       "      <td>Moderately differentiated; Grade II</td>\n",
       "      <td>Regional</td>\n",
       "      <td>19</td>\n",
       "      <td>Positive</td>\n",
       "      <td>Positive</td>\n",
       "      <td>26</td>\n",
       "      <td>1</td>\n",
       "      <td>2</td>\n",
       "      <td>Dead</td>\n",
       "    </tr>\n",
       "    <tr>\n",
       "      <th>4</th>\n",
       "      <td>4</td>\n",
       "      <td>63</td>\n",
       "      <td>White</td>\n",
       "      <td>Married (including common law)</td>\n",
       "      <td>T2</td>\n",
       "      <td>N2</td>\n",
       "      <td>IIIA</td>\n",
       "      <td>Moderately differentiated; Grade II</td>\n",
       "      <td>Regional</td>\n",
       "      <td>35</td>\n",
       "      <td>Positive</td>\n",
       "      <td>Positive</td>\n",
       "      <td>21</td>\n",
       "      <td>5</td>\n",
       "      <td>3</td>\n",
       "      <td>Dead</td>\n",
       "    </tr>\n",
       "  </tbody>\n",
       "</table>\n",
       "</div>"
      ],
      "text/plain": [
       "   Unnamed: 0  Age                                               Race  \\\n",
       "0           0   43  Other (American Indian/AK Native, Asian/Pacifi...   \n",
       "1           1   47  Other (American Indian/AK Native, Asian/Pacifi...   \n",
       "2           2   67                                              White   \n",
       "3           3   46                                              White   \n",
       "4           4   63                                              White   \n",
       "\n",
       "                    MaritalStatus TStage NStage 6thStage  \\\n",
       "0  Married (including common law)     T2     N3     IIIC   \n",
       "1  Married (including common law)     T2     N2     IIIA   \n",
       "2  Married (including common law)     T2     N1      IIB   \n",
       "3                        Divorced     T1     N1      IIA   \n",
       "4  Married (including common law)     T2     N2     IIIA   \n",
       "\n",
       "                                 Grade    AStage  TumorSize EstrogenStatus  \\\n",
       "0  Moderately differentiated; Grade II  Regional         40       Positive   \n",
       "1  Moderately differentiated; Grade II  Regional         45       Positive   \n",
       "2     Poorly differentiated; Grade III  Regional         25       Positive   \n",
       "3  Moderately differentiated; Grade II  Regional         19       Positive   \n",
       "4  Moderately differentiated; Grade II  Regional         35       Positive   \n",
       "\n",
       "  ProgesteroneStatus  RegionalNodeExamined  ReginolNodePositive  \\\n",
       "0           Positive                    19                   11   \n",
       "1           Positive                    25                    9   \n",
       "2           Positive                     4                    1   \n",
       "3           Positive                    26                    1   \n",
       "4           Positive                    21                    5   \n",
       "\n",
       "   SurvivalMonths Status  \n",
       "0               1  Alive  \n",
       "1               2  Alive  \n",
       "2               2   Dead  \n",
       "3               2   Dead  \n",
       "4               3   Dead  "
      ]
     },
     "execution_count": 4,
     "metadata": {},
     "output_type": "execute_result"
    }
   ],
   "source": [
    "df.head()"
   ]
  },
  {
   "cell_type": "code",
   "execution_count": 5,
   "id": "641013f0",
   "metadata": {},
   "outputs": [
    {
     "data": {
      "text/plain": [
       "Unnamed: 0              0\n",
       "Age                     0\n",
       "Race                    0\n",
       "MaritalStatus           0\n",
       "TStage                  0\n",
       "NStage                  0\n",
       "6thStage                0\n",
       "Grade                   0\n",
       "AStage                  0\n",
       "TumorSize               0\n",
       "EstrogenStatus          0\n",
       "ProgesteroneStatus      0\n",
       "RegionalNodeExamined    0\n",
       "ReginolNodePositive     0\n",
       "SurvivalMonths          0\n",
       "Status                  0\n",
       "dtype: int64"
      ]
     },
     "execution_count": 5,
     "metadata": {},
     "output_type": "execute_result"
    }
   ],
   "source": [
    "df.isna().sum()"
   ]
  },
  {
   "cell_type": "code",
   "execution_count": 6,
   "id": "bfec1762",
   "metadata": {},
   "outputs": [],
   "source": [
    "df.drop([\"Unnamed: 0\"],axis=1,inplace=True)\n"
   ]
  },
  {
   "cell_type": "code",
   "execution_count": 7,
   "id": "d3a254ad",
   "metadata": {},
   "outputs": [
    {
     "data": {
      "text/html": [
       "<div>\n",
       "<style scoped>\n",
       "    .dataframe tbody tr th:only-of-type {\n",
       "        vertical-align: middle;\n",
       "    }\n",
       "\n",
       "    .dataframe tbody tr th {\n",
       "        vertical-align: top;\n",
       "    }\n",
       "\n",
       "    .dataframe thead th {\n",
       "        text-align: right;\n",
       "    }\n",
       "</style>\n",
       "<table border=\"1\" class=\"dataframe\">\n",
       "  <thead>\n",
       "    <tr style=\"text-align: right;\">\n",
       "      <th></th>\n",
       "      <th>Age</th>\n",
       "      <th>Race</th>\n",
       "      <th>MaritalStatus</th>\n",
       "      <th>TStage</th>\n",
       "      <th>NStage</th>\n",
       "      <th>6thStage</th>\n",
       "      <th>Grade</th>\n",
       "      <th>AStage</th>\n",
       "      <th>TumorSize</th>\n",
       "      <th>EstrogenStatus</th>\n",
       "      <th>ProgesteroneStatus</th>\n",
       "      <th>RegionalNodeExamined</th>\n",
       "      <th>ReginolNodePositive</th>\n",
       "      <th>SurvivalMonths</th>\n",
       "      <th>Status</th>\n",
       "    </tr>\n",
       "  </thead>\n",
       "  <tbody>\n",
       "  </tbody>\n",
       "</table>\n",
       "</div>"
      ],
      "text/plain": [
       "Empty DataFrame\n",
       "Columns: [Age, Race, MaritalStatus, TStage, NStage, 6thStage, Grade, AStage, TumorSize, EstrogenStatus, ProgesteroneStatus, RegionalNodeExamined, ReginolNodePositive, SurvivalMonths, Status]\n",
       "Index: []"
      ]
     },
     "execution_count": 7,
     "metadata": {},
     "output_type": "execute_result"
    }
   ],
   "source": [
    "duplicate=df[df.duplicated()]\n",
    "duplicate"
   ]
  },
  {
   "cell_type": "code",
   "execution_count": 8,
   "id": "821acfe1",
   "metadata": {},
   "outputs": [
    {
     "data": {
      "text/plain": [
       "(4023, 15)"
      ]
     },
     "execution_count": 8,
     "metadata": {},
     "output_type": "execute_result"
    }
   ],
   "source": [
    "df.shape"
   ]
  },
  {
   "cell_type": "code",
   "execution_count": 9,
   "id": "062853f9",
   "metadata": {},
   "outputs": [
    {
     "data": {
      "text/plain": [
       "Index(['Age', 'Race', 'MaritalStatus', 'TStage', 'NStage', '6thStage', 'Grade',\n",
       "       'AStage', 'TumorSize', 'EstrogenStatus', 'ProgesteroneStatus',\n",
       "       'RegionalNodeExamined', 'ReginolNodePositive', 'SurvivalMonths',\n",
       "       'Status'],\n",
       "      dtype='object')"
      ]
     },
     "execution_count": 9,
     "metadata": {},
     "output_type": "execute_result"
    }
   ],
   "source": [
    "df.columns"
   ]
  },
  {
   "cell_type": "markdown",
   "id": "84b360a3",
   "metadata": {},
   "source": [
    "# encoding :converting categorial data into numerical data"
   ]
  },
  {
   "cell_type": "code",
   "execution_count": 10,
   "id": "bd2f0ba3",
   "metadata": {},
   "outputs": [],
   "source": [
    "from sklearn.preprocessing import LabelEncoder\n",
    "le=LabelEncoder()\n",
    "df1=df.copy(deep=True)\n",
    "df1['6thStage']=le.fit_transform(df1['6thStage'])\n",
    "df1['Race']=le.fit_transform(df1['Race'])\n",
    "df1['MaritalStatus']=le.fit_transform(df1['MaritalStatus'])\n",
    "df1['TStage']=le.fit_transform(df1['TStage'])\n",
    "df1['NStage']=le.fit_transform(df1['NStage'])\n",
    "df1['Grade']=le.fit_transform(df1['Grade'])\n",
    "df1['AStage']=le.fit_transform(df1['AStage'])\n",
    "df1['EstrogenStatus']=le.fit_transform(df1['EstrogenStatus'])\n",
    "df1['ProgesteroneStatus']=le.fit_transform(df1['ProgesteroneStatus'])\n",
    "df1['Status']=le.fit_transform(df1['Status'])"
   ]
  },
  {
   "cell_type": "code",
   "execution_count": 11,
   "id": "8764551f",
   "metadata": {},
   "outputs": [
    {
     "data": {
      "text/html": [
       "<div>\n",
       "<style scoped>\n",
       "    .dataframe tbody tr th:only-of-type {\n",
       "        vertical-align: middle;\n",
       "    }\n",
       "\n",
       "    .dataframe tbody tr th {\n",
       "        vertical-align: top;\n",
       "    }\n",
       "\n",
       "    .dataframe thead th {\n",
       "        text-align: right;\n",
       "    }\n",
       "</style>\n",
       "<table border=\"1\" class=\"dataframe\">\n",
       "  <thead>\n",
       "    <tr style=\"text-align: right;\">\n",
       "      <th></th>\n",
       "      <th>Age</th>\n",
       "      <th>Race</th>\n",
       "      <th>MaritalStatus</th>\n",
       "      <th>TStage</th>\n",
       "      <th>NStage</th>\n",
       "      <th>6thStage</th>\n",
       "      <th>Grade</th>\n",
       "      <th>AStage</th>\n",
       "      <th>TumorSize</th>\n",
       "      <th>EstrogenStatus</th>\n",
       "      <th>ProgesteroneStatus</th>\n",
       "      <th>RegionalNodeExamined</th>\n",
       "      <th>ReginolNodePositive</th>\n",
       "      <th>SurvivalMonths</th>\n",
       "      <th>Status</th>\n",
       "    </tr>\n",
       "  </thead>\n",
       "  <tbody>\n",
       "    <tr>\n",
       "      <th>0</th>\n",
       "      <td>43</td>\n",
       "      <td>1</td>\n",
       "      <td>1</td>\n",
       "      <td>1</td>\n",
       "      <td>2</td>\n",
       "      <td>4</td>\n",
       "      <td>0</td>\n",
       "      <td>1</td>\n",
       "      <td>40</td>\n",
       "      <td>1</td>\n",
       "      <td>1</td>\n",
       "      <td>19</td>\n",
       "      <td>11</td>\n",
       "      <td>1</td>\n",
       "      <td>0</td>\n",
       "    </tr>\n",
       "    <tr>\n",
       "      <th>1</th>\n",
       "      <td>47</td>\n",
       "      <td>1</td>\n",
       "      <td>1</td>\n",
       "      <td>1</td>\n",
       "      <td>1</td>\n",
       "      <td>2</td>\n",
       "      <td>0</td>\n",
       "      <td>1</td>\n",
       "      <td>45</td>\n",
       "      <td>1</td>\n",
       "      <td>1</td>\n",
       "      <td>25</td>\n",
       "      <td>9</td>\n",
       "      <td>2</td>\n",
       "      <td>0</td>\n",
       "    </tr>\n",
       "    <tr>\n",
       "      <th>2</th>\n",
       "      <td>67</td>\n",
       "      <td>2</td>\n",
       "      <td>1</td>\n",
       "      <td>1</td>\n",
       "      <td>0</td>\n",
       "      <td>1</td>\n",
       "      <td>1</td>\n",
       "      <td>1</td>\n",
       "      <td>25</td>\n",
       "      <td>1</td>\n",
       "      <td>1</td>\n",
       "      <td>4</td>\n",
       "      <td>1</td>\n",
       "      <td>2</td>\n",
       "      <td>1</td>\n",
       "    </tr>\n",
       "    <tr>\n",
       "      <th>3</th>\n",
       "      <td>46</td>\n",
       "      <td>2</td>\n",
       "      <td>0</td>\n",
       "      <td>0</td>\n",
       "      <td>0</td>\n",
       "      <td>0</td>\n",
       "      <td>0</td>\n",
       "      <td>1</td>\n",
       "      <td>19</td>\n",
       "      <td>1</td>\n",
       "      <td>1</td>\n",
       "      <td>26</td>\n",
       "      <td>1</td>\n",
       "      <td>2</td>\n",
       "      <td>1</td>\n",
       "    </tr>\n",
       "    <tr>\n",
       "      <th>4</th>\n",
       "      <td>63</td>\n",
       "      <td>2</td>\n",
       "      <td>1</td>\n",
       "      <td>1</td>\n",
       "      <td>1</td>\n",
       "      <td>2</td>\n",
       "      <td>0</td>\n",
       "      <td>1</td>\n",
       "      <td>35</td>\n",
       "      <td>1</td>\n",
       "      <td>1</td>\n",
       "      <td>21</td>\n",
       "      <td>5</td>\n",
       "      <td>3</td>\n",
       "      <td>1</td>\n",
       "    </tr>\n",
       "  </tbody>\n",
       "</table>\n",
       "</div>"
      ],
      "text/plain": [
       "   Age  Race  MaritalStatus  TStage  NStage  6thStage  Grade  AStage  \\\n",
       "0   43     1              1       1       2         4      0       1   \n",
       "1   47     1              1       1       1         2      0       1   \n",
       "2   67     2              1       1       0         1      1       1   \n",
       "3   46     2              0       0       0         0      0       1   \n",
       "4   63     2              1       1       1         2      0       1   \n",
       "\n",
       "   TumorSize  EstrogenStatus  ProgesteroneStatus  RegionalNodeExamined  \\\n",
       "0         40               1                   1                    19   \n",
       "1         45               1                   1                    25   \n",
       "2         25               1                   1                     4   \n",
       "3         19               1                   1                    26   \n",
       "4         35               1                   1                    21   \n",
       "\n",
       "   ReginolNodePositive  SurvivalMonths  Status  \n",
       "0                   11               1       0  \n",
       "1                    9               2       0  \n",
       "2                    1               2       1  \n",
       "3                    1               2       1  \n",
       "4                    5               3       1  "
      ]
     },
     "execution_count": 11,
     "metadata": {},
     "output_type": "execute_result"
    }
   ],
   "source": [
    "df1.head(5)"
   ]
  },
  {
   "cell_type": "code",
   "execution_count": 12,
   "id": "760fb35d",
   "metadata": {},
   "outputs": [
    {
     "data": {
      "text/html": [
       "<div>\n",
       "<style scoped>\n",
       "    .dataframe tbody tr th:only-of-type {\n",
       "        vertical-align: middle;\n",
       "    }\n",
       "\n",
       "    .dataframe tbody tr th {\n",
       "        vertical-align: top;\n",
       "    }\n",
       "\n",
       "    .dataframe thead th {\n",
       "        text-align: right;\n",
       "    }\n",
       "</style>\n",
       "<table border=\"1\" class=\"dataframe\">\n",
       "  <thead>\n",
       "    <tr style=\"text-align: right;\">\n",
       "      <th></th>\n",
       "      <th>Age</th>\n",
       "      <th>Race</th>\n",
       "      <th>MaritalStatus</th>\n",
       "      <th>TStage</th>\n",
       "      <th>NStage</th>\n",
       "      <th>6thStage</th>\n",
       "      <th>Grade</th>\n",
       "      <th>AStage</th>\n",
       "      <th>TumorSize</th>\n",
       "      <th>EstrogenStatus</th>\n",
       "      <th>ProgesteroneStatus</th>\n",
       "      <th>RegionalNodeExamined</th>\n",
       "      <th>ReginolNodePositive</th>\n",
       "      <th>SurvivalMonths</th>\n",
       "      <th>Status</th>\n",
       "    </tr>\n",
       "  </thead>\n",
       "  <tbody>\n",
       "    <tr>\n",
       "      <th>0</th>\n",
       "      <td>0.333333</td>\n",
       "      <td>1</td>\n",
       "      <td>1</td>\n",
       "      <td>1</td>\n",
       "      <td>2</td>\n",
       "      <td>4</td>\n",
       "      <td>0</td>\n",
       "      <td>1</td>\n",
       "      <td>0.450929</td>\n",
       "      <td>1</td>\n",
       "      <td>1</td>\n",
       "      <td>0.573086</td>\n",
       "      <td>1.339018</td>\n",
       "      <td>-3.067246</td>\n",
       "      <td>0</td>\n",
       "    </tr>\n",
       "    <tr>\n",
       "      <th>1</th>\n",
       "      <td>0.435897</td>\n",
       "      <td>1</td>\n",
       "      <td>1</td>\n",
       "      <td>1</td>\n",
       "      <td>1</td>\n",
       "      <td>2</td>\n",
       "      <td>0</td>\n",
       "      <td>1</td>\n",
       "      <td>0.687686</td>\n",
       "      <td>1</td>\n",
       "      <td>1</td>\n",
       "      <td>1.313897</td>\n",
       "      <td>0.947559</td>\n",
       "      <td>-3.023616</td>\n",
       "      <td>0</td>\n",
       "    </tr>\n",
       "    <tr>\n",
       "      <th>2</th>\n",
       "      <td>0.948718</td>\n",
       "      <td>2</td>\n",
       "      <td>1</td>\n",
       "      <td>1</td>\n",
       "      <td>0</td>\n",
       "      <td>1</td>\n",
       "      <td>1</td>\n",
       "      <td>1</td>\n",
       "      <td>-0.259345</td>\n",
       "      <td>1</td>\n",
       "      <td>1</td>\n",
       "      <td>-1.278941</td>\n",
       "      <td>-0.618278</td>\n",
       "      <td>-3.023616</td>\n",
       "      <td>1</td>\n",
       "    </tr>\n",
       "    <tr>\n",
       "      <th>3</th>\n",
       "      <td>0.410256</td>\n",
       "      <td>2</td>\n",
       "      <td>0</td>\n",
       "      <td>0</td>\n",
       "      <td>0</td>\n",
       "      <td>0</td>\n",
       "      <td>0</td>\n",
       "      <td>1</td>\n",
       "      <td>-0.543454</td>\n",
       "      <td>1</td>\n",
       "      <td>1</td>\n",
       "      <td>1.437366</td>\n",
       "      <td>-0.618278</td>\n",
       "      <td>-3.023616</td>\n",
       "      <td>1</td>\n",
       "    </tr>\n",
       "    <tr>\n",
       "      <th>4</th>\n",
       "      <td>0.846154</td>\n",
       "      <td>2</td>\n",
       "      <td>1</td>\n",
       "      <td>1</td>\n",
       "      <td>1</td>\n",
       "      <td>2</td>\n",
       "      <td>0</td>\n",
       "      <td>1</td>\n",
       "      <td>0.214171</td>\n",
       "      <td>1</td>\n",
       "      <td>1</td>\n",
       "      <td>0.820023</td>\n",
       "      <td>0.164641</td>\n",
       "      <td>-2.979986</td>\n",
       "      <td>1</td>\n",
       "    </tr>\n",
       "  </tbody>\n",
       "</table>\n",
       "</div>"
      ],
      "text/plain": [
       "        Age  Race  MaritalStatus  TStage  NStage  6thStage  Grade  AStage  \\\n",
       "0  0.333333     1              1       1       2         4      0       1   \n",
       "1  0.435897     1              1       1       1         2      0       1   \n",
       "2  0.948718     2              1       1       0         1      1       1   \n",
       "3  0.410256     2              0       0       0         0      0       1   \n",
       "4  0.846154     2              1       1       1         2      0       1   \n",
       "\n",
       "   TumorSize  EstrogenStatus  ProgesteroneStatus  RegionalNodeExamined  \\\n",
       "0   0.450929               1                   1              0.573086   \n",
       "1   0.687686               1                   1              1.313897   \n",
       "2  -0.259345               1                   1             -1.278941   \n",
       "3  -0.543454               1                   1              1.437366   \n",
       "4   0.214171               1                   1              0.820023   \n",
       "\n",
       "   ReginolNodePositive  SurvivalMonths  Status  \n",
       "0             1.339018       -3.067246       0  \n",
       "1             0.947559       -3.023616       0  \n",
       "2            -0.618278       -3.023616       1  \n",
       "3            -0.618278       -3.023616       1  \n",
       "4             0.164641       -2.979986       1  "
      ]
     },
     "execution_count": 12,
     "metadata": {},
     "output_type": "execute_result"
    }
   ],
   "source": [
    "from sklearn.preprocessing import MinMaxScaler,StandardScaler\n",
    "mms=MinMaxScaler()\n",
    "ss=StandardScaler()\n",
    "\n",
    "df1[\"Age\"]=mms.fit_transform(df1[[\"Age\"]])\n",
    "df1[\"TumorSize\"]=ss.fit_transform(df1[[\"TumorSize\"]])\n",
    "df1[\"RegionalNodeExamined\"]=ss.fit_transform(df1[[\"RegionalNodeExamined\"]])\n",
    "df1[\"ReginolNodePositive\"]=ss.fit_transform(df1[[\"ReginolNodePositive\"]])\n",
    "df1[\"SurvivalMonths\"]=ss.fit_transform(df1[[\"SurvivalMonths\"]])\n",
    "df1.head()"
   ]
  },
  {
   "cell_type": "code",
   "execution_count": 13,
   "id": "b24860f6",
   "metadata": {},
   "outputs": [
    {
     "data": {
      "image/png": "[encoded data removed]",
      "text/plain": [
       "<Figure size 864x720 with 2 Axes>"
      ]
     },
     "metadata": {
      "needs_background": "light"
     },
     "output_type": "display_data"
    }
   ],
   "source": [
    "plt.figure(figsize=(12,10))\n",
    "corr=df1.corr()\n",
    "sns.heatmap(corr,annot=True,cmap=plt.cm.CMRmap_r)\n",
    "plt.show()"
   ]
  },
  {
   "cell_type": "code",
   "execution_count": 14,
   "id": "07a478db",
   "metadata": {},
   "outputs": [],
   "source": [
    "def correlation(dataset,thresold):\n",
    "    col_corr=set()   #set all the correlated columns\n",
    "    corr_matrix= dataset.corr()\n",
    "    for i in range(len(corr_matrix.columns)):\n",
    "        for j in range(i):\n",
    "            if abs (corr_matrix.iloc[i,j])> thresold:  # we are interseted in absolute coeff value\n",
    "                col_name =corr_matrix.columns[i]   #getting the name of the column\n",
    "    return col_corr"
   ]
  },
  {
   "cell_type": "code",
   "execution_count": 15,
   "id": "c5d41677",
   "metadata": {},
   "outputs": [
    {
     "data": {
      "text/plain": [
       "0"
      ]
     },
     "execution_count": 15,
     "metadata": {},
     "output_type": "execute_result"
    }
   ],
   "source": [
    "corr_features=correlation(df1,0.80)\n",
    "len(set(corr_features))"
   ]
  },
  {
   "cell_type": "code",
   "execution_count": 16,
   "id": "d5b0fd81",
   "metadata": {},
   "outputs": [
    {
     "data": {
      "text/plain": [
       "set()"
      ]
     },
     "execution_count": 16,
     "metadata": {},
     "output_type": "execute_result"
    }
   ],
   "source": [
    "corr_features"
   ]
  },
  {
   "cell_type": "code",
   "execution_count": 17,
   "id": "cf1e58fa",
   "metadata": {},
   "outputs": [],
   "source": [
    "df1.drop(corr_features,axis=1,inplace=True)"
   ]
  },
  {
   "cell_type": "code",
   "execution_count": 18,
   "id": "018901b1",
   "metadata": {},
   "outputs": [],
   "source": [
    "X=df1.iloc[:,:-1]\n",
    "y=df.iloc[:,-1]\n"
   ]
  },
  {
   "cell_type": "code",
   "execution_count": 19,
   "id": "5bd27013",
   "metadata": {},
   "outputs": [
    {
     "data": {
      "text/plain": [
       "((3218, 14), (805, 14))"
      ]
     },
     "execution_count": 19,
     "metadata": {},
     "output_type": "execute_result"
    }
   ],
   "source": [
    "from sklearn.model_selection import train_test_split\n",
    "X_train,X_test,y_train,y_test=train_test_split(X,y,test_size=0.2,random_state=0)\n",
    "X_train.shape,X_test.shape"
   ]
  },
  {
   "cell_type": "code",
   "execution_count": 20,
   "id": "50c055a7",
   "metadata": {},
   "outputs": [
    {
     "data": {
      "text/plain": [
       "(3218, 14)"
      ]
     },
     "execution_count": 20,
     "metadata": {},
     "output_type": "execute_result"
    }
   ],
   "source": [
    "X_train.shape"
   ]
  },
  {
   "cell_type": "code",
   "execution_count": 21,
   "id": "423f0a2d",
   "metadata": {},
   "outputs": [
    {
     "data": {
      "text/plain": [
       "Index(['Age', 'Race', 'MaritalStatus', 'TStage', 'NStage', '6thStage', 'Grade',\n",
       "       'AStage', 'TumorSize', 'EstrogenStatus', 'ProgesteroneStatus',\n",
       "       'RegionalNodeExamined', 'ReginolNodePositive', 'SurvivalMonths'],\n",
       "      dtype='object')"
      ]
     },
     "execution_count": 21,
     "metadata": {},
     "output_type": "execute_result"
    }
   ],
   "source": [
    "X_train.columns"
   ]
  },
  {
   "cell_type": "code",
   "execution_count": 22,
   "id": "6b0863c5",
   "metadata": {},
   "outputs": [
    {
     "data": {
      "text/html": [
       "<div>\n",
       "<style scoped>\n",
       "    .dataframe tbody tr th:only-of-type {\n",
       "        vertical-align: middle;\n",
       "    }\n",
       "\n",
       "    .dataframe tbody tr th {\n",
       "        vertical-align: top;\n",
       "    }\n",
       "\n",
       "    .dataframe thead th {\n",
       "        text-align: right;\n",
       "    }\n",
       "</style>\n",
       "<table border=\"1\" class=\"dataframe\">\n",
       "  <thead>\n",
       "    <tr style=\"text-align: right;\">\n",
       "      <th></th>\n",
       "      <th>Age</th>\n",
       "      <th>Race</th>\n",
       "      <th>MaritalStatus</th>\n",
       "      <th>TStage</th>\n",
       "      <th>NStage</th>\n",
       "      <th>6thStage</th>\n",
       "      <th>Grade</th>\n",
       "      <th>AStage</th>\n",
       "      <th>TumorSize</th>\n",
       "      <th>EstrogenStatus</th>\n",
       "      <th>ProgesteroneStatus</th>\n",
       "      <th>RegionalNodeExamined</th>\n",
       "      <th>ReginolNodePositive</th>\n",
       "      <th>SurvivalMonths</th>\n",
       "    </tr>\n",
       "  </thead>\n",
       "  <tbody>\n",
       "    <tr>\n",
       "      <th>1493</th>\n",
       "      <td>0.769231</td>\n",
       "      <td>2</td>\n",
       "      <td>1</td>\n",
       "      <td>0</td>\n",
       "      <td>0</td>\n",
       "      <td>0</td>\n",
       "      <td>0</td>\n",
       "      <td>1</td>\n",
       "      <td>-0.496103</td>\n",
       "      <td>1</td>\n",
       "      <td>1</td>\n",
       "      <td>-0.414661</td>\n",
       "      <td>-0.226819</td>\n",
       "      <td>-0.318574</td>\n",
       "    </tr>\n",
       "    <tr>\n",
       "      <th>2587</th>\n",
       "      <td>0.461538</td>\n",
       "      <td>2</td>\n",
       "      <td>3</td>\n",
       "      <td>0</td>\n",
       "      <td>0</td>\n",
       "      <td>0</td>\n",
       "      <td>0</td>\n",
       "      <td>1</td>\n",
       "      <td>-0.780212</td>\n",
       "      <td>1</td>\n",
       "      <td>1</td>\n",
       "      <td>0.696555</td>\n",
       "      <td>-0.618278</td>\n",
       "      <td>0.466761</td>\n",
       "    </tr>\n",
       "    <tr>\n",
       "      <th>891</th>\n",
       "      <td>0.487179</td>\n",
       "      <td>2</td>\n",
       "      <td>2</td>\n",
       "      <td>0</td>\n",
       "      <td>0</td>\n",
       "      <td>0</td>\n",
       "      <td>0</td>\n",
       "      <td>1</td>\n",
       "      <td>-1.301079</td>\n",
       "      <td>1</td>\n",
       "      <td>1</td>\n",
       "      <td>-0.414661</td>\n",
       "      <td>-0.618278</td>\n",
       "      <td>-0.754871</td>\n",
       "    </tr>\n",
       "    <tr>\n",
       "      <th>1952</th>\n",
       "      <td>0.666667</td>\n",
       "      <td>2</td>\n",
       "      <td>3</td>\n",
       "      <td>1</td>\n",
       "      <td>0</td>\n",
       "      <td>1</td>\n",
       "      <td>0</td>\n",
       "      <td>1</td>\n",
       "      <td>-0.211993</td>\n",
       "      <td>1</td>\n",
       "      <td>1</td>\n",
       "      <td>-1.525877</td>\n",
       "      <td>-0.618278</td>\n",
       "      <td>0.030464</td>\n",
       "    </tr>\n",
       "    <tr>\n",
       "      <th>87</th>\n",
       "      <td>0.820513</td>\n",
       "      <td>2</td>\n",
       "      <td>1</td>\n",
       "      <td>1</td>\n",
       "      <td>2</td>\n",
       "      <td>4</td>\n",
       "      <td>1</td>\n",
       "      <td>1</td>\n",
       "      <td>-0.448751</td>\n",
       "      <td>0</td>\n",
       "      <td>0</td>\n",
       "      <td>0.449618</td>\n",
       "      <td>1.339018</td>\n",
       "      <td>-2.500060</td>\n",
       "    </tr>\n",
       "    <tr>\n",
       "      <th>...</th>\n",
       "      <td>...</td>\n",
       "      <td>...</td>\n",
       "      <td>...</td>\n",
       "      <td>...</td>\n",
       "      <td>...</td>\n",
       "      <td>...</td>\n",
       "      <td>...</td>\n",
       "      <td>...</td>\n",
       "      <td>...</td>\n",
       "      <td>...</td>\n",
       "      <td>...</td>\n",
       "      <td>...</td>\n",
       "      <td>...</td>\n",
       "      <td>...</td>\n",
       "    </tr>\n",
       "    <tr>\n",
       "      <th>3557</th>\n",
       "      <td>0.435897</td>\n",
       "      <td>2</td>\n",
       "      <td>1</td>\n",
       "      <td>0</td>\n",
       "      <td>0</td>\n",
       "      <td>0</td>\n",
       "      <td>0</td>\n",
       "      <td>1</td>\n",
       "      <td>-0.590806</td>\n",
       "      <td>1</td>\n",
       "      <td>1</td>\n",
       "      <td>-1.525877</td>\n",
       "      <td>-0.618278</td>\n",
       "      <td>1.208466</td>\n",
       "    </tr>\n",
       "    <tr>\n",
       "      <th>159</th>\n",
       "      <td>0.538462</td>\n",
       "      <td>2</td>\n",
       "      <td>0</td>\n",
       "      <td>2</td>\n",
       "      <td>2</td>\n",
       "      <td>4</td>\n",
       "      <td>1</td>\n",
       "      <td>1</td>\n",
       "      <td>1.634718</td>\n",
       "      <td>0</td>\n",
       "      <td>0</td>\n",
       "      <td>-0.044256</td>\n",
       "      <td>1.926207</td>\n",
       "      <td>-2.107392</td>\n",
       "    </tr>\n",
       "    <tr>\n",
       "      <th>3884</th>\n",
       "      <td>0.538462</td>\n",
       "      <td>2</td>\n",
       "      <td>4</td>\n",
       "      <td>1</td>\n",
       "      <td>0</td>\n",
       "      <td>1</td>\n",
       "      <td>3</td>\n",
       "      <td>1</td>\n",
       "      <td>0.687686</td>\n",
       "      <td>1</td>\n",
       "      <td>1</td>\n",
       "      <td>-0.414661</td>\n",
       "      <td>-0.618278</td>\n",
       "      <td>1.470244</td>\n",
       "    </tr>\n",
       "    <tr>\n",
       "      <th>3053</th>\n",
       "      <td>0.794872</td>\n",
       "      <td>0</td>\n",
       "      <td>1</td>\n",
       "      <td>0</td>\n",
       "      <td>0</td>\n",
       "      <td>0</td>\n",
       "      <td>0</td>\n",
       "      <td>1</td>\n",
       "      <td>-1.159025</td>\n",
       "      <td>1</td>\n",
       "      <td>1</td>\n",
       "      <td>0.573086</td>\n",
       "      <td>-0.226819</td>\n",
       "      <td>0.815799</td>\n",
       "    </tr>\n",
       "    <tr>\n",
       "      <th>3564</th>\n",
       "      <td>0.230769</td>\n",
       "      <td>2</td>\n",
       "      <td>1</td>\n",
       "      <td>0</td>\n",
       "      <td>0</td>\n",
       "      <td>0</td>\n",
       "      <td>0</td>\n",
       "      <td>1</td>\n",
       "      <td>-0.685509</td>\n",
       "      <td>1</td>\n",
       "      <td>1</td>\n",
       "      <td>-1.402409</td>\n",
       "      <td>-0.422548</td>\n",
       "      <td>1.208466</td>\n",
       "    </tr>\n",
       "  </tbody>\n",
       "</table>\n",
       "<p>805 rows × 14 columns</p>\n",
       "</div>"
      ],
      "text/plain": [
       "           Age  Race  MaritalStatus  TStage  NStage  6thStage  Grade  AStage  \\\n",
       "1493  0.769231     2              1       0       0         0      0       1   \n",
       "2587  0.461538     2              3       0       0         0      0       1   \n",
       "891   0.487179     2              2       0       0         0      0       1   \n",
       "1952  0.666667     2              3       1       0         1      0       1   \n",
       "87    0.820513     2              1       1       2         4      1       1   \n",
       "...        ...   ...            ...     ...     ...       ...    ...     ...   \n",
       "3557  0.435897     2              1       0       0         0      0       1   \n",
       "159   0.538462     2              0       2       2         4      1       1   \n",
       "3884  0.538462     2              4       1       0         1      3       1   \n",
       "3053  0.794872     0              1       0       0         0      0       1   \n",
       "3564  0.230769     2              1       0       0         0      0       1   \n",
       "\n",
       "      TumorSize  EstrogenStatus  ProgesteroneStatus  RegionalNodeExamined  \\\n",
       "1493  -0.496103               1                   1             -0.414661   \n",
       "2587  -0.780212               1                   1              0.696555   \n",
       "891   -1.301079               1                   1             -0.414661   \n",
       "1952  -0.211993               1                   1             -1.525877   \n",
       "87    -0.448751               0                   0              0.449618   \n",
       "...         ...             ...                 ...                   ...   \n",
       "3557  -0.590806               1                   1             -1.525877   \n",
       "159    1.634718               0                   0             -0.044256   \n",
       "3884   0.687686               1                   1             -0.414661   \n",
       "3053  -1.159025               1                   1              0.573086   \n",
       "3564  -0.685509               1                   1             -1.402409   \n",
       "\n",
       "      ReginolNodePositive  SurvivalMonths  \n",
       "1493            -0.226819       -0.318574  \n",
       "2587            -0.618278        0.466761  \n",
       "891             -0.618278       -0.754871  \n",
       "1952            -0.618278        0.030464  \n",
       "87               1.339018       -2.500060  \n",
       "...                   ...             ...  \n",
       "3557            -0.618278        1.208466  \n",
       "159              1.926207       -2.107392  \n",
       "3884            -0.618278        1.470244  \n",
       "3053            -0.226819        0.815799  \n",
       "3564            -0.422548        1.208466  \n",
       "\n",
       "[805 rows x 14 columns]"
      ]
     },
     "execution_count": 22,
     "metadata": {},
     "output_type": "execute_result"
    }
   ],
   "source": [
    "X_test"
   ]
  },
  {
   "cell_type": "code",
   "execution_count": 23,
   "id": "bc3ae023",
   "metadata": {},
   "outputs": [
    {
     "data": {
      "text/plain": [
       "Alive    2732\n",
       "Dead      486\n",
       "Name: Status, dtype: int64"
      ]
     },
     "execution_count": 23,
     "metadata": {},
     "output_type": "execute_result"
    }
   ],
   "source": [
    "y_train.value_counts()"
   ]
  },
  {
   "cell_type": "code",
   "execution_count": 24,
   "id": "0ca955c2",
   "metadata": {},
   "outputs": [
    {
     "data": {
      "image/png": "[encoded data removed]",
      "text/plain": [
       "<Figure size 432x288 with 1 Axes>"
      ]
     },
     "metadata": {},
     "output_type": "display_data"
    }
   ],
   "source": [
    "stat=df['Status'].value_counts().reset_index(name='counts')\n",
    "plt.pie(x='counts',data=stat,labels='index',autopct='%1.1f%%',explode=[0.1,0.1])\n",
    "plt.title(\"Distribution of dataset\")\n",
    "plt.legend()\n",
    "plt.show()"
   ]
  },
  {
   "cell_type": "code",
   "execution_count": 25,
   "id": "31228f68",
   "metadata": {},
   "outputs": [
    {
     "name": "stdout",
     "output_type": "stream",
     "text": [
      "Requirement already satisfied: imbalanced-learn in c:\\users\\sharath reddy\\anaconda3\\lib\\site-packages (0.11.0)\n",
      "Requirement already satisfied: numpy>=1.17.3 in c:\\users\\sharath reddy\\anaconda3\\lib\\site-packages (from imbalanced-learn) (1.22.4)\n",
      "Requirement already satisfied: scikit-learn>=1.0.2 in c:\\users\\sharath reddy\\anaconda3\\lib\\site-packages (from imbalanced-learn) (1.3.2)\n",
      "Requirement already satisfied: joblib>=1.1.1 in c:\\users\\sharath reddy\\anaconda3\\lib\\site-packages (from imbalanced-learn) (1.3.2)\n",
      "Requirement already satisfied: scipy>=1.5.0 in c:\\users\\sharath reddy\\anaconda3\\lib\\site-packages (from imbalanced-learn) (1.6.2)\n",
      "Requirement already satisfied: threadpoolctl>=2.0.0 in c:\\users\\sharath reddy\\anaconda3\\lib\\site-packages (from imbalanced-learn) (2.1.0)\n"
     ]
    }
   ],
   "source": [
    "!pip install imbalanced-learn"
   ]
  },
  {
   "cell_type": "code",
   "execution_count": 26,
   "id": "24151b20",
   "metadata": {},
   "outputs": [
    {
     "data": {
      "text/plain": [
       "Alive    2732\n",
       "Dead     2732\n",
       "Name: Status, dtype: int64"
      ]
     },
     "execution_count": 26,
     "metadata": {},
     "output_type": "execute_result"
    }
   ],
   "source": [
    "from imblearn.over_sampling import SMOTE\n",
    "smt=SMOTE()\n",
    "X_train,y_train=smt.fit_resample(X_train,y_train)\n",
    "X_test,y_test=smt.fit_resample(X_test,y_test)\n",
    "y_train.value_counts()"
   ]
  },
  {
   "cell_type": "code",
   "execution_count": 27,
   "id": "ada95a15",
   "metadata": {},
   "outputs": [
    {
     "data": {
      "text/plain": [
       "Alive    675\n",
       "Dead     675\n",
       "Name: Status, dtype: int64"
      ]
     },
     "execution_count": 27,
     "metadata": {},
     "output_type": "execute_result"
    }
   ],
   "source": [
    "y_test.value_counts()"
   ]
  },
  {
   "cell_type": "code",
   "execution_count": 28,
   "id": "67efab60",
   "metadata": {},
   "outputs": [
    {
     "name": "stdout",
     "output_type": "stream",
     "text": [
      "Collecting pandas-profiling\n",
      "  Downloading pandas_profiling-3.6.6-py2.py3-none-any.whl (324 kB)\n",
      "Collecting ydata-profiling\n",
      "  Downloading ydata_profiling-4.6.1-py2.py3-none-any.whl (357 kB)\n",
      "Collecting pydantic>=2\n",
      "  Using cached pydantic-2.4.2-py3-none-any.whl (395 kB)\n",
      "Collecting phik<0.13,>=0.11.1\n",
      "  Downloading phik-0.12.3-cp38-cp38-win_amd64.whl (663 kB)\n",
      "Requirement already satisfied: PyYAML<6.1,>=5.0.0 in c:\\users\\sharath reddy\\anaconda3\\lib\\site-packages (from ydata-profiling->pandas-profiling) (5.4.1)\n",
      "Requirement already satisfied: pandas!=1.4.0,<2.1,>1.1 in c:\\users\\sharath reddy\\anaconda3\\lib\\site-packages (from ydata-profiling->pandas-profiling) (1.2.4)\n",
      "Collecting imagehash==4.3.1\n",
      "  Downloading ImageHash-4.3.1-py2.py3-none-any.whl (296 kB)\n",
      "Collecting dacite>=1.8\n",
      "  Downloading dacite-1.8.1-py3-none-any.whl (14 kB)\n",
      "Requirement already satisfied: jinja2<3.2,>=2.11.1 in c:\\users\\sharath reddy\\anaconda3\\lib\\site-packages (from ydata-profiling->pandas-profiling) (2.11.3)\n",
      "Requirement already satisfied: seaborn<0.13,>=0.10.1 in c:\\users\\sharath reddy\\anaconda3\\lib\\site-packages (from ydata-profiling->pandas-profiling) (0.11.1)\n",
      "Collecting numba<0.59.0,>=0.56.0\n",
      "  Downloading numba-0.58.1-cp38-cp38-win_amd64.whl (2.6 MB)\n",
      "Requirement already satisfied: scipy<1.12,>=1.4.1 in c:\\users\\sharath reddy\\anaconda3\\lib\\site-packages (from ydata-profiling->pandas-profiling) (1.6.2)\n",
      "Collecting statsmodels<1,>=0.13.2\n",
      "  Downloading statsmodels-0.14.0-cp38-cp38-win_amd64.whl (9.4 MB)\n",
      "Collecting wordcloud>=1.9.1\n",
      "  Downloading wordcloud-1.9.2-cp38-cp38-win_amd64.whl (153 kB)\n",
      "Requirement already satisfied: tqdm<5,>=4.48.2 in c:\\users\\sharath reddy\\anaconda3\\lib\\site-packages (from ydata-profiling->pandas-profiling) (4.59.0)\n",
      "Collecting typeguard<5,>=4.1.2\n",
      "  Downloading typeguard-4.1.5-py3-none-any.whl (34 kB)\n",
      "Requirement already satisfied: requests<3,>=2.24.0 in c:\\users\\sharath reddy\\anaconda3\\lib\\site-packages (from ydata-profiling->pandas-profiling) (2.31.0)\n",
      "Collecting multimethod<2,>=1.4\n",
      "  Downloading multimethod-1.10-py3-none-any.whl (9.9 kB)\n",
      "Collecting htmlmin==0.1.12\n",
      "  Downloading htmlmin-0.1.12.tar.gz (19 kB)\n",
      "Collecting visions[type_image_path]==0.7.5\n",
      "  Downloading visions-0.7.5-py3-none-any.whl (102 kB)\n",
      "Requirement already satisfied: numpy<1.26,>=1.16.0 in c:\\users\\sharath reddy\\anaconda3\\lib\\site-packages (from ydata-profiling->pandas-profiling) (1.22.4)\n",
      "Requirement already satisfied: matplotlib<=3.7.3,>=3.2 in c:\\users\\sharath reddy\\anaconda3\\lib\\site-packages (from ydata-profiling->pandas-profiling) (3.3.4)\n",
      "Requirement already satisfied: pillow in c:\\users\\sharath reddy\\anaconda3\\lib\\site-packages (from imagehash==4.3.1->ydata-profiling->pandas-profiling) (8.2.0)\n",
      "Requirement already satisfied: PyWavelets in c:\\users\\sharath reddy\\anaconda3\\lib\\site-packages (from imagehash==4.3.1->ydata-profiling->pandas-profiling) (1.1.1)\n",
      "Requirement already satisfied: networkx>=2.4 in c:\\users\\sharath reddy\\anaconda3\\lib\\site-packages (from visions[type_image_path]==0.7.5->ydata-profiling->pandas-profiling) (2.5)\n",
      "Requirement already satisfied: attrs>=19.3.0 in c:\\users\\sharath reddy\\anaconda3\\lib\\site-packages (from visions[type_image_path]==0.7.5->ydata-profiling->pandas-profiling) (20.3.0)\n",
      "Collecting tangled-up-in-unicode>=0.0.4\n",
      "  Downloading tangled_up_in_unicode-0.2.0-py3-none-any.whl (4.7 MB)\n",
      "Requirement already satisfied: MarkupSafe>=0.23 in c:\\users\\sharath reddy\\anaconda3\\lib\\site-packages (from jinja2<3.2,>=2.11.1->ydata-profiling->pandas-profiling) (1.1.1)\n",
      "Requirement already satisfied: python-dateutil>=2.1 in c:\\users\\sharath reddy\\anaconda3\\lib\\site-packages (from matplotlib<=3.7.3,>=3.2->ydata-profiling->pandas-profiling) (2.8.1)\n",
      "Requirement already satisfied: cycler>=0.10 in c:\\users\\sharath reddy\\anaconda3\\lib\\site-packages (from matplotlib<=3.7.3,>=3.2->ydata-profiling->pandas-profiling) (0.10.0)\n",
      "Requirement already satisfied: kiwisolver>=1.0.1 in c:\\users\\sharath reddy\\anaconda3\\lib\\site-packages (from matplotlib<=3.7.3,>=3.2->ydata-profiling->pandas-profiling) (1.3.1)"
     ]
    },
    {
     "name": "stderr",
     "output_type": "stream",
     "text": [
      "ERROR: Cannot uninstall 'llvmlite'. It is a distutils installed project and thus we cannot accurately determine which files belong to it which would lead to only a partial uninstall.\n"
     ]
    },
    {
     "name": "stdout",
     "output_type": "stream",
     "text": [
      "\n",
      "Requirement already satisfied: pyparsing!=2.0.4,!=2.1.2,!=2.1.6,>=2.0.3 in c:\\users\\sharath reddy\\anaconda3\\lib\\site-packages (from matplotlib<=3.7.3,>=3.2->ydata-profiling->pandas-profiling) (2.4.7)\n",
      "Requirement already satisfied: six in c:\\users\\sharath reddy\\anaconda3\\lib\\site-packages (from cycler>=0.10->matplotlib<=3.7.3,>=3.2->ydata-profiling->pandas-profiling) (1.15.0)\n",
      "Requirement already satisfied: decorator>=4.3.0 in c:\\users\\sharath reddy\\anaconda3\\lib\\site-packages (from networkx>=2.4->visions[type_image_path]==0.7.5->ydata-profiling->pandas-profiling) (5.0.6)\n",
      "Requirement already satisfied: importlib-metadata in c:\\users\\sharath reddy\\anaconda3\\lib\\site-packages (from numba<0.59.0,>=0.56.0->ydata-profiling->pandas-profiling) (6.8.0)\n",
      "Collecting llvmlite<0.42,>=0.41.0dev0\n",
      "  Downloading llvmlite-0.41.1-cp38-cp38-win_amd64.whl (28.1 MB)\n",
      "Requirement already satisfied: pytz>=2017.3 in c:\\users\\sharath reddy\\anaconda3\\lib\\site-packages (from pandas!=1.4.0,<2.1,>1.1->ydata-profiling->pandas-profiling) (2021.1)\n",
      "Requirement already satisfied: joblib>=0.14.1 in c:\\users\\sharath reddy\\anaconda3\\lib\\site-packages (from phik<0.13,>=0.11.1->ydata-profiling->pandas-profiling) (1.3.2)\n",
      "Collecting annotated-types>=0.4.0\n",
      "  Downloading annotated_types-0.6.0-py3-none-any.whl (12 kB)\n",
      "Collecting typing-extensions>=4.6.1\n",
      "  Downloading typing_extensions-4.8.0-py3-none-any.whl (31 kB)\n",
      "Collecting pydantic-core==2.10.1\n",
      "  Downloading pydantic_core-2.10.1-cp38-none-win_amd64.whl (2.0 MB)\n",
      "Requirement already satisfied: idna<4,>=2.5 in c:\\users\\sharath reddy\\anaconda3\\lib\\site-packages (from requests<3,>=2.24.0->ydata-profiling->pandas-profiling) (2.10)\n",
      "Requirement already satisfied: charset-normalizer<4,>=2 in c:\\users\\sharath reddy\\anaconda3\\lib\\site-packages (from requests<3,>=2.24.0->ydata-profiling->pandas-profiling) (3.3.1)\n",
      "Requirement already satisfied: certifi>=2017.4.17 in c:\\users\\sharath reddy\\anaconda3\\lib\\site-packages (from requests<3,>=2.24.0->ydata-profiling->pandas-profiling) (2020.12.5)\n",
      "Requirement already satisfied: urllib3<3,>=1.21.1 in c:\\users\\sharath reddy\\anaconda3\\lib\\site-packages (from requests<3,>=2.24.0->ydata-profiling->pandas-profiling) (1.26.4)\n",
      "Collecting patsy>=0.5.2\n",
      "  Downloading patsy-0.5.3-py2.py3-none-any.whl (233 kB)\n",
      "Collecting packaging>=21.3\n",
      "  Downloading packaging-23.2-py3-none-any.whl (53 kB)\n",
      "Requirement already satisfied: zipp>=0.5 in c:\\users\\sharath reddy\\anaconda3\\lib\\site-packages (from importlib-metadata->numba<0.59.0,>=0.56.0->ydata-profiling->pandas-profiling) (3.4.1)\n",
      "Building wheels for collected packages: htmlmin\n",
      "  Building wheel for htmlmin (setup.py): started\n",
      "  Building wheel for htmlmin (setup.py): finished with status 'done'\n",
      "  Created wheel for htmlmin: filename=htmlmin-0.1.12-py3-none-any.whl size=27085 sha256=f57efde52eb764ad928229b0646532738534c4118b9666886c29fc1c23429435\n",
      "  Stored in directory: c:\\users\\sharath reddy\\appdata\\local\\pip\\cache\\wheels\\23\\14\\6e\\4be5bfeeb027f4939a01764b48edd5996acf574b0913fe5243\n",
      "Successfully built htmlmin\n",
      "Installing collected packages: typing-extensions, tangled-up-in-unicode, multimethod, visions, pydantic-core, patsy, packaging, llvmlite, imagehash, annotated-types, wordcloud, typeguard, statsmodels, pydantic, phik, numba, htmlmin, dacite, ydata-profiling, pandas-profiling\n",
      "  Attempting uninstall: typing-extensions\n",
      "    Found existing installation: typing-extensions 3.7.4.3\n",
      "    Uninstalling typing-extensions-3.7.4.3:\n",
      "      Successfully uninstalled typing-extensions-3.7.4.3\n",
      "  Attempting uninstall: patsy\n",
      "    Found existing installation: patsy 0.5.1\n",
      "    Uninstalling patsy-0.5.1:\n",
      "      Successfully uninstalled patsy-0.5.1\n",
      "  Attempting uninstall: packaging\n",
      "    Found existing installation: packaging 20.9\n",
      "    Uninstalling packaging-20.9:\n",
      "      Successfully uninstalled packaging-20.9\n",
      "  Attempting uninstall: llvmlite\n",
      "    Found existing installation: llvmlite 0.36.0\n"
     ]
    }
   ],
   "source": [
    "!pip install pandas-profiling"
   ]
  },
  {
   "cell_type": "code",
   "execution_count": null,
   "id": "f9b1cf1f",
   "metadata": {},
   "outputs": [],
   "source": []
  }
 ],
 "metadata": {
  "kernelspec": {
   "display_name": "Python 3",
   "language": "python",
   "name": "python3"
  },
  "language_info": {
   "codemirror_mode": {
    "name": "ipython",
    "version": 3
   },
   "file_extension": ".py",
   "mimetype": "text/x-python",
   "name": "python",
   "nbconvert_exporter": "python",
   "pygments_lexer": "ipython3",
   "version": "3.8.8"
  }
 },
 "nbformat": 4,
 "nbformat_minor": 5
}
