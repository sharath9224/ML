{
 "cells": [
  {
   "cell_type": "code",
   "execution_count": 4,
   "id": "7128be96",
   "metadata": {},
   "outputs": [
    {
     "name": "stdout",
     "output_type": "stream",
     "text": [
      "Collecting xgboost\n",
      "  Using cached xgboost-2.0.1-py3-none-win_amd64.whl (99.7 MB)\n",
      "Requirement already satisfied: numpy in c:\\users\\sharath reddy\\anaconda3\\lib\\site-packages (from xgboost) (1.20.1)\n",
      "Requirement already satisfied: scipy in c:\\users\\sharath reddy\\anaconda3\\lib\\site-packages (from xgboost) (1.6.2)\n",
      "Installing collected packages: xgboost\n",
      "Successfully installed xgboost-2.0.1\n"
     ]
    }
   ],
   "source": [
    "!pip install xgboost"
   ]
  },
  {
   "cell_type": "code",
   "execution_count": 5,
   "id": "31183ecc",
   "metadata": {},
   "outputs": [],
   "source": [
    "import pandas as pd\n",
    "import numpy as np\n",
    "from sklearn.tree import DecisionTreeClassifier"
   ]
  },
  {
   "cell_type": "code",
   "execution_count": 6,
   "id": "2700bd0b",
   "metadata": {},
   "outputs": [
    {
     "name": "stdout",
     "output_type": "stream",
     "text": [
      "   Variance  Skewness  Curtosis  Entropy  Class\n",
      "0   3.62160    8.6661   -2.8073 -0.44699      0\n",
      "1   4.54590    8.1674   -2.4586 -1.46210      0\n",
      "2   3.86600   -2.6383    1.9242  0.10645      0\n",
      "3   3.45660    9.5228   -4.0112 -3.59440      0\n",
      "4   0.32924   -4.4552    4.5718 -0.98880      0\n"
     ]
    }
   ],
   "source": [
    "dataset = pd.read_csv('bill_authentication.csv')\n",
    "print(dataset.head())"
   ]
  },
  {
   "cell_type": "code",
   "execution_count": 7,
   "id": "bd6717f0",
   "metadata": {},
   "outputs": [],
   "source": [
    "X = dataset.iloc[:, 0:4].values\n",
    "y = dataset.iloc[:, 4].values"
   ]
  },
  {
   "cell_type": "code",
   "execution_count": 8,
   "id": "35209638",
   "metadata": {},
   "outputs": [],
   "source": [
    "from sklearn.model_selection import train_test_split\n",
    "X_train, X_test, y_train, y_test = train_test_split(X, y, test_size=0.2, random_state=0)"
   ]
  },
  {
   "cell_type": "code",
   "execution_count": 9,
   "id": "37c6af27",
   "metadata": {},
   "outputs": [],
   "source": [
    "# Feature Scaling\n",
    "#print(\"Before applying Standard Scalar :\")\n",
    "#print(X_train)\n",
    "from sklearn.preprocessing import StandardScaler\n",
    "sc = StandardScaler()"
   ]
  },
  {
   "cell_type": "code",
   "execution_count": 10,
   "id": "b5ae8ff1",
   "metadata": {},
   "outputs": [],
   "source": [
    "X_train = sc.fit_transform(X_train)\n",
    "X_test = sc.transform(X_test)\n",
    "#print(\"After applying Standard Scalar :\")\n",
    "#print(X_train)"
   ]
  },
  {
   "cell_type": "code",
   "execution_count": 11,
   "id": "47f3e5e8",
   "metadata": {},
   "outputs": [],
   "source": [
    "from sklearn.ensemble import BaggingClassifier,RandomForestClassifier\n",
    "from sklearn.ensemble import AdaBoostClassifier,GradientBoostingClassifier\n",
    "from xgboost import XGBClassifier\n",
    "from sklearn.metrics import confusion_matrix, accuracy_score"
   ]
  },
  {
   "cell_type": "code",
   "execution_count": 13,
   "id": "2166c75c",
   "metadata": {},
   "outputs": [],
   "source": [
    "rc = BaggingClassifier(DecisionTreeClassifier(),n_estimators = 5)\n",
    "#rc = AdaBoostClassifier(n_estimators=22,learning_rate=1)\n",
    "#rc = GradientBoostingClassifier(max_depth=2,n_estimators =24,learning_rate=1.0)\n",
    "#rc = RandomForestClassifier(n_estimators=5)\n",
    "#rc = XGBClassifier()"
   ]
  },
  {
   "cell_type": "code",
   "execution_count": 14,
   "id": "8f768175",
   "metadata": {},
   "outputs": [
    {
     "name": "stdout",
     "output_type": "stream",
     "text": [
      "[[153   4]\n",
      " [  1 117]]\n",
      "98.18181818181819\n"
     ]
    }
   ],
   "source": [
    "rc.fit(X_train, y_train)\n",
    "y_pred = rc.predict(X_test)\n",
    "print(confusion_matrix(y_test,y_pred))\n",
    "print(accuracy_score(y_test, y_pred)*100)"
   ]
  },
  {
   "cell_type": "code",
   "execution_count": 15,
   "id": "75d9eccd",
   "metadata": {},
   "outputs": [
    {
     "name": "stdout",
     "output_type": "stream",
     "text": [
      "Accuracy for 1 estimators :0.9090909090909091\n",
      "Accuracy for 2 estimators :0.92\n",
      "Accuracy for 3 estimators :0.9563636363636364\n",
      "Accuracy for 4 estimators :0.9636363636363636\n",
      "Accuracy for 5 estimators :0.9745454545454545\n",
      "Accuracy for 6 estimators :0.9745454545454545\n",
      "Accuracy for 7 estimators :0.9745454545454545\n",
      "Accuracy for 8 estimators :0.9745454545454545\n",
      "Accuracy for 9 estimators :0.9890909090909091\n",
      "Accuracy for 10 estimators :0.9854545454545455\n",
      "Accuracy for 11 estimators :0.9927272727272727\n",
      "Accuracy for 12 estimators :0.9927272727272727\n",
      "Accuracy for 13 estimators :0.9927272727272727\n",
      "Accuracy for 14 estimators :0.9927272727272727\n",
      "Accuracy for 15 estimators :0.9890909090909091\n",
      "Accuracy for 16 estimators :0.9963636363636363\n",
      "Accuracy for 17 estimators :0.9927272727272727\n",
      "Accuracy for 18 estimators :0.9963636363636363\n",
      "Accuracy for 19 estimators :0.9963636363636363\n",
      "Accuracy for 20 estimators :0.9963636363636363\n",
      "Accuracy for 21 estimators :0.9963636363636363\n",
      "Accuracy for 22 estimators :0.9927272727272727\n",
      "Accuracy for 23 estimators :0.9963636363636363\n",
      "Accuracy for 24 estimators :1.0\n",
      "Accuracy for 25 estimators :1.0\n",
      "Accuracy for 26 estimators :1.0\n",
      "Accuracy for 27 estimators :1.0\n",
      "Accuracy for 28 estimators :1.0\n",
      "Accuracy for 29 estimators :1.0\n",
      "Accuracy for 30 estimators :1.0\n",
      "Accuracy for 31 estimators :1.0\n",
      "Accuracy for 32 estimators :1.0\n",
      "Accuracy for 33 estimators :1.0\n",
      "Accuracy for 34 estimators :1.0\n",
      "Accuracy for 35 estimators :1.0\n",
      "Accuracy for 36 estimators :1.0\n",
      "Accuracy for 37 estimators :1.0\n",
      "Accuracy for 38 estimators :1.0\n",
      "Accuracy for 39 estimators :1.0\n",
      "Accuracy for 40 estimators :1.0\n",
      "Accuracy for 41 estimators :1.0\n",
      "Accuracy for 42 estimators :1.0\n",
      "Accuracy for 43 estimators :1.0\n",
      "Accuracy for 44 estimators :1.0\n",
      "Accuracy for 45 estimators :1.0\n",
      "Accuracy for 46 estimators :1.0\n",
      "Accuracy for 47 estimators :1.0\n",
      "Accuracy for 48 estimators :1.0\n",
      "Accuracy for 49 estimators :1.0\n"
     ]
    }
   ],
   "source": [
    "for n in range(1,50):\n",
    "      #rc =AdaBoostClassifier(n_estimators=n,learning_rate=1)\n",
    "      rc = GradientBoostingClassifier(max_depth=2,n_estimators =n,learning_rate=1)\n",
    "      rc.fit(X_train, y_train)\n",
    "      y_pred = rc.predict(X_test)\n",
    "      print(\"Accuracy for %s estimators :%s\" %(n,accuracy_score(y_test, y_pred)))"
   ]
  },
  {
   "cell_type": "code",
   "execution_count": 16,
   "id": "f4b271f4",
   "metadata": {},
   "outputs": [
    {
     "name": "stdout",
     "output_type": "stream",
     "text": [
      "BaggingClassifier(base_estimator=DecisionTreeClassifier(), n_estimators=5,\n",
      "                  random_state=0)  :  98.54545454545455\n",
      "AdaBoostClassifier(learning_rate=1, n_estimators=22)  :  100.0\n",
      "GradientBoostingClassifier(learning_rate=1.0, max_depth=2, n_estimators=24)  :  100.0\n",
      "XGBClassifier(base_score=None, booster=None, callbacks=None,\n",
      "              colsample_bylevel=None, colsample_bynode=None,\n",
      "              colsample_bytree=None, device=None, early_stopping_rounds=None,\n",
      "              enable_categorical=False, eval_metric=None, feature_types=None,\n",
      "              gamma=None, grow_policy=None, importance_type=None,\n",
      "              interaction_constraints=None, learning_rate=None, max_bin=None,\n",
      "              max_cat_threshold=None, max_cat_to_onehot=None,\n",
      "              max_delta_step=None, max_depth=None, max_leaves=None,\n",
      "              min_child_weight=None, missing=nan, monotone_constraints=None,\n",
      "              multi_strategy=None, n_estimators=None, n_jobs=None,\n",
      "              num_parallel_tree=None, random_state=None, ...)  :  99.63636363636364\n",
      "RandomForestClassifier(n_estimators=5, random_state=0)  :  98.9090909090909\n"
     ]
    }
   ],
   "source": [
    "#Applying Multiple algorithms at a time\n",
    "bc = BaggingClassifier(DecisionTreeClassifier(),n_estimators = 5, random_state=0)\n",
    "abc = AdaBoostClassifier(n_estimators=22,learning_rate=1)\n",
    "gbc = GradientBoostingClassifier(max_depth=2,n_estimators =24,learning_rate=1.0)\n",
    "xgbc = XGBClassifier()\n",
    "rfc = RandomForestClassifier(n_estimators=5, random_state=0)\n",
    "d1={}\n",
    "for rc in bc,abc,gbc,xgbc,rfc:\n",
    "      rc.fit(X_train, y_train)\n",
    "      y_pred = rc.predict(X_test)\n",
    "      d1[rc]=accuracy_score(y_test, y_pred)*100\n",
    "      \n",
    "for k,v in d1.items():\n",
    "      print(k,\" : \",v)"
   ]
  },
  {
   "cell_type": "code",
   "execution_count": null,
   "id": "9346eb87",
   "metadata": {},
   "outputs": [],
   "source": []
  }
 ],
 "metadata": {
  "kernelspec": {
   "display_name": "Python 3",
   "language": "python",
   "name": "python3"
  },
  "language_info": {
   "codemirror_mode": {
    "name": "ipython",
    "version": 3
   },
   "file_extension": ".py",
   "mimetype": "text/x-python",
   "name": "python",
   "nbconvert_exporter": "python",
   "pygments_lexer": "ipython3",
   "version": "3.8.8"
  }
 },
 "nbformat": 4,
 "nbformat_minor": 5
}
