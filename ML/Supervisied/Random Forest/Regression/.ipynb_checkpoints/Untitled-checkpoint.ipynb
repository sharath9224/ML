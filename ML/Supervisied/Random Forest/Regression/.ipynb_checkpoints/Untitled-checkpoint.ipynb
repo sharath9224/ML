{
 "cells": [
  {
   "cell_type": "code",
   "execution_count": 1,
   "id": "0cfa3ef0",
   "metadata": {},
   "outputs": [],
   "source": [
    "import pandas as pd\n",
    "import numpy as np\n",
    "from sklearn import metrics"
   ]
  },
  {
   "cell_type": "code",
   "execution_count": 2,
   "id": "9290a31a",
   "metadata": {},
   "outputs": [],
   "source": [
    "dataset = pd.read_csv('petrol_consumption.csv')\n",
    "X = dataset.iloc[:, 0:4].values\n",
    "y = dataset.iloc[:, 4].values"
   ]
  },
  {
   "cell_type": "code",
   "execution_count": 3,
   "id": "e74860ea",
   "metadata": {},
   "outputs": [],
   "source": [
    "from sklearn.model_selection import train_test_split\n",
    "X_train, X_test, y_train, y_test = train_test_split(X, y, test_size=0.2, random_state=0)\n"
   ]
  },
  {
   "cell_type": "code",
   "execution_count": 4,
   "id": "c70efd9f",
   "metadata": {},
   "outputs": [],
   "source": [
    "# Feature Scaling\n",
    "from sklearn.preprocessing import StandardScaler\n",
    "sc = StandardScaler()\n",
    "X_train = sc.fit_transform(X_train)\n",
    "X_test = sc.transform(X_test)\n"
   ]
  },
  {
   "cell_type": "code",
   "execution_count": 5,
   "id": "eac7f215",
   "metadata": {},
   "outputs": [],
   "source": [
    "from sklearn.ensemble import GradientBoostingRegressor,RandomForestRegressor\n",
    "from sklearn.ensemble import AdaBoostRegressor\n",
    "from xgboost import XGBRegressor"
   ]
  },
  {
   "cell_type": "code",
   "execution_count": 8,
   "id": "a4fa35b6",
   "metadata": {},
   "outputs": [],
   "source": [
    "rr = RandomForestRegressor(n_estimators=5,random_state=0)\n",
    "#rr = GradientBoostingRegressor(max_depth=2,n_estimators =8,learning_rate=1.0)\n",
    "#rr= AdaBoostRegressor(n_estimators = 32,learning_rate=1)\n",
    "#rr = XGBRegressor()"
   ]
  },
  {
   "cell_type": "code",
   "execution_count": 9,
   "id": "dcce07ae",
   "metadata": {},
   "outputs": [
    {
     "name": "stdout",
     "output_type": "stream",
     "text": [
      "Mean Absolute Error: 58.720000000000006\n",
      "Mean Squared Error: 5408.984000000001\n",
      "Root Mean Squared Error: 73.54579525710496\n"
     ]
    }
   ],
   "source": [
    "rr.fit(X_train, y_train)\n",
    "y_pred = rr.predict(X_test)\n",
    "from sklearn import metrics\n",
    "print('Mean Absolute Error:', metrics.mean_absolute_error(y_test, y_pred))\n",
    "print('Mean Squared Error:', metrics.mean_squared_error(y_test, y_pred))\n",
    "print('Root Mean Squared Error:', np.sqrt(metrics.mean_squared_error(y_test, y_pred)))"
   ]
  },
  {
   "cell_type": "code",
   "execution_count": 10,
   "id": "ed49f6db",
   "metadata": {},
   "outputs": [
    {
     "name": "stdout",
     "output_type": "stream",
     "text": [
      "RMSE for 1 estimators :84.94554219550835\n",
      "RMSE for 2 estimators :66.05089183727954\n",
      "RMSE for 3 estimators :57.768906860521916\n",
      "RMSE for 4 estimators :69.54008992130355\n",
      "RMSE for 5 estimators :79.49652525622243\n",
      "RMSE for 6 estimators :81.35428943920645\n",
      "RMSE for 7 estimators :57.176674001612064\n",
      "RMSE for 8 estimators :65.31915168642745\n",
      "RMSE for 9 estimators :65.08005534068731\n",
      "RMSE for 10 estimators :63.51306612099528\n",
      "RMSE for 11 estimators :64.92739363868827\n",
      "RMSE for 12 estimators :62.99627891858609\n",
      "RMSE for 13 estimators :60.25204161085603\n",
      "RMSE for 14 estimators :67.87556209077258\n",
      "RMSE for 15 estimators :66.70155071718955\n",
      "RMSE for 16 estimators :59.68214757413637\n",
      "RMSE for 17 estimators :65.98351577122129\n",
      "RMSE for 18 estimators :66.41758865753368\n",
      "RMSE for 19 estimators :68.05298706539058\n",
      "RMSE for 20 estimators :72.90070950069071\n",
      "RMSE for 21 estimators :61.52805880991609\n",
      "RMSE for 22 estimators :64.47706465258132\n",
      "RMSE for 23 estimators :58.76593559933424\n",
      "RMSE for 24 estimators :59.38596089833339\n",
      "RMSE for 25 estimators :66.50938957410791\n",
      "RMSE for 26 estimators :66.68610457901583\n",
      "RMSE for 27 estimators :72.46467758532259\n",
      "RMSE for 28 estimators :65.28713515944436\n",
      "RMSE for 29 estimators :64.16549238859365\n",
      "RMSE for 30 estimators :64.50328883953733\n",
      "RMSE for 31 estimators :71.13800684274966\n",
      "RMSE for 32 estimators :68.79028950736382\n",
      "RMSE for 33 estimators :62.31023165892272\n",
      "RMSE for 34 estimators :69.04999922644855\n",
      "RMSE for 35 estimators :58.283456671494186\n",
      "RMSE for 36 estimators :64.13456557289518\n",
      "RMSE for 37 estimators :62.62879614215177\n",
      "RMSE for 38 estimators :61.50064484750685\n",
      "RMSE for 39 estimators :55.59469268945663\n",
      "RMSE for 40 estimators :60.73503707847681\n",
      "RMSE for 41 estimators :63.40581204260614\n",
      "RMSE for 42 estimators :62.84333796468176\n",
      "RMSE for 43 estimators :61.03121551389772\n",
      "RMSE for 44 estimators :61.03278785250038\n",
      "RMSE for 45 estimators :60.36284135191321\n",
      "RMSE for 46 estimators :61.17314508890786\n",
      "RMSE for 47 estimators :63.3097605424703\n",
      "RMSE for 48 estimators :61.92407481106421\n",
      "RMSE for 49 estimators :65.81367987502321\n"
     ]
    }
   ],
   "source": [
    "#Finding the number of n_estimators\n",
    "\n",
    "for n in range(1,50):\n",
    "      rr =AdaBoostRegressor(n_estimators=n,learning_rate=1)\n",
    "      rr.fit(X_train, y_train)\n",
    "      y_pred = rr.predict(X_test)\n",
    "      print(\"RMSE for %s estimators :%s\" %(n,np.sqrt(metrics.mean_squared_error(y_test, y_pred))))"
   ]
  },
  {
   "cell_type": "code",
   "execution_count": 11,
   "id": "9f249e5d",
   "metadata": {},
   "outputs": [
    {
     "data": {
      "text/plain": [
       "'\\nfor n in range(1,25):\\n      rr =GradientBoostingRegressor(max_depth=1,n_estimators =n,learning_rate=1)\\n      rr.fit(X_train, y_train)\\n      y_pred = rr.predict(X_test)\\n      print(\"RMSE for %s estimators :%s\" %(n,np.sqrt(metrics.mean_squared_error(y_test, y_pred))))\\n'"
      ]
     },
     "execution_count": 11,
     "metadata": {},
     "output_type": "execute_result"
    }
   ],
   "source": [
    "'''\n",
    "for n in range(1,25):\n",
    "      rr =GradientBoostingRegressor(max_depth=1,n_estimators =n,learning_rate=1)\n",
    "      rr.fit(X_train, y_train)\n",
    "      y_pred = rr.predict(X_test)\n",
    "      print(\"RMSE for %s estimators :%s\" %(n,np.sqrt(metrics.mean_squared_error(y_test, y_pred))))\n",
    "'''"
   ]
  },
  {
   "cell_type": "code",
   "execution_count": 12,
   "id": "de0dc456",
   "metadata": {},
   "outputs": [
    {
     "name": "stdout",
     "output_type": "stream",
     "text": [
      "RandomForestRegressor(n_estimators=5, random_state=0)  :  73.54579525710496\n",
      "GradientBoostingRegressor(learning_rate=1.0, max_depth=1, n_estimators=8)  :  55.556169635719165\n",
      "XGBRegressor(base_score=None, booster=None, callbacks=None,\n",
      "             colsample_bylevel=None, colsample_bynode=None,\n",
      "             colsample_bytree=None, device=None, early_stopping_rounds=None,\n",
      "             enable_categorical=False, eval_metric=None, feature_types=None,\n",
      "             gamma=None, grow_policy=None, importance_type=None,\n",
      "             interaction_constraints=None, learning_rate=None, max_bin=None,\n",
      "             max_cat_threshold=None, max_cat_to_onehot=None,\n",
      "             max_delta_step=None, max_depth=None, max_leaves=None,\n",
      "             min_child_weight=None, missing=nan, monotone_constraints=None,\n",
      "             multi_strategy=None, n_estimators=None, n_jobs=None,\n",
      "             num_parallel_tree=None, random_state=None, ...)  :  64.79119593270755\n",
      "AdaBoostRegressor(learning_rate=1, n_estimators=5, random_state=0)  :  83.47595962688312\n"
     ]
    }
   ],
   "source": [
    "rfr = RandomForestRegressor(n_estimators=5,random_state=0)\n",
    "gbr = GradientBoostingRegressor(max_depth=1,n_estimators =8,learning_rate=1.0)\n",
    "xgb_r = XGBRegressor()\n",
    "abr= AdaBoostRegressor(n_estimators = 5,learning_rate=1,random_state=0)\n",
    "d1={}\n",
    "\n",
    "for rr in rfr,gbr,xgb_r,abr:\n",
    "    rr.fit(X_train, y_train)\n",
    "    y_pred = rr.predict(X_test)\n",
    "    d1[rr]= np.sqrt(metrics.mean_squared_error(y_test, y_pred))\n",
    "\n",
    "for k,v in d1.items():\n",
    "    print(k,\" : \",v)"
   ]
  },
  {
   "cell_type": "code",
   "execution_count": null,
   "id": "d93ad06f",
   "metadata": {},
   "outputs": [],
   "source": []
  }
 ],
 "metadata": {
  "kernelspec": {
   "display_name": "Python 3",
   "language": "python",
   "name": "python3"
  },
  "language_info": {
   "codemirror_mode": {
    "name": "ipython",
    "version": 3
   },
   "file_extension": ".py",
   "mimetype": "text/x-python",
   "name": "python",
   "nbconvert_exporter": "python",
   "pygments_lexer": "ipython3",
   "version": "3.8.8"
  }
 },
 "nbformat": 4,
 "nbformat_minor": 5
}
