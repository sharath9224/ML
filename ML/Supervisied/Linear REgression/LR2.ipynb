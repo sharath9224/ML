{
 "cells": [
  {
   "cell_type": "code",
   "execution_count": 1,
   "id": "6c1d86a3",
   "metadata": {},
   "outputs": [],
   "source": [
    "import pandas as pd\n",
    "import numpy as np\n",
    "import matplotlib.pyplot as plt"
   ]
  },
  {
   "cell_type": "code",
   "execution_count": 2,
   "id": "627b7083",
   "metadata": {},
   "outputs": [
    {
     "data": {
      "text/html": [
       "<div>\n",
       "<style scoped>\n",
       "    .dataframe tbody tr th:only-of-type {\n",
       "        vertical-align: middle;\n",
       "    }\n",
       "\n",
       "    .dataframe tbody tr th {\n",
       "        vertical-align: top;\n",
       "    }\n",
       "\n",
       "    .dataframe thead th {\n",
       "        text-align: right;\n",
       "    }\n",
       "</style>\n",
       "<table border=\"1\" class=\"dataframe\">\n",
       "  <thead>\n",
       "    <tr style=\"text-align: right;\">\n",
       "      <th></th>\n",
       "      <th>distance_to_city_center</th>\n",
       "      <th>rooms</th>\n",
       "      <th>size</th>\n",
       "      <th>price</th>\n",
       "    </tr>\n",
       "  </thead>\n",
       "  <tbody>\n",
       "    <tr>\n",
       "      <th>0</th>\n",
       "      <td>2.4</td>\n",
       "      <td>1.0</td>\n",
       "      <td>19.35</td>\n",
       "      <td>191.565</td>\n",
       "    </tr>\n",
       "    <tr>\n",
       "      <th>1</th>\n",
       "      <td>2.4</td>\n",
       "      <td>2.0</td>\n",
       "      <td>13.08</td>\n",
       "      <td>221.568</td>\n",
       "    </tr>\n",
       "    <tr>\n",
       "      <th>2</th>\n",
       "      <td>5.0</td>\n",
       "      <td>1.0</td>\n",
       "      <td>24.66</td>\n",
       "      <td>185.936</td>\n",
       "    </tr>\n",
       "    <tr>\n",
       "      <th>3</th>\n",
       "      <td>1.9</td>\n",
       "      <td>1.0</td>\n",
       "      <td>24.82</td>\n",
       "      <td>275.502</td>\n",
       "    </tr>\n",
       "    <tr>\n",
       "      <th>4</th>\n",
       "      <td>1.9</td>\n",
       "      <td>1.0</td>\n",
       "      <td>25.39</td>\n",
       "      <td>241.205</td>\n",
       "    </tr>\n",
       "  </tbody>\n",
       "</table>\n",
       "</div>"
      ],
      "text/plain": [
       "   distance_to_city_center  rooms   size    price\n",
       "0                      2.4    1.0  19.35  191.565\n",
       "1                      2.4    2.0  13.08  221.568\n",
       "2                      5.0    1.0  24.66  185.936\n",
       "3                      1.9    1.0  24.82  275.502\n",
       "4                      1.9    1.0  25.39  241.205"
      ]
     },
     "execution_count": 2,
     "metadata": {},
     "output_type": "execute_result"
    }
   ],
   "source": [
    "df=pd.read_csv(\"C:/Users/Sharath Reddy/OneDrive/Desktop/sharath/ML/supervisied/Linear REgression/cracow_apartments.csv\")\n",
    "df.head()"
   ]
  },
  {
   "cell_type": "code",
   "execution_count": 3,
   "id": "13106152",
   "metadata": {},
   "outputs": [
    {
     "data": {
      "text/plain": [
       "(76, 4)"
      ]
     },
     "execution_count": 3,
     "metadata": {},
     "output_type": "execute_result"
    }
   ],
   "source": [
    "df.shape"
   ]
  },
  {
   "cell_type": "code",
   "execution_count": 4,
   "id": "223b67ce",
   "metadata": {},
   "outputs": [
    {
     "data": {
      "text/plain": [
       "distance_to_city_center    0\n",
       "rooms                      0\n",
       "size                       0\n",
       "price                      0\n",
       "dtype: int64"
      ]
     },
     "execution_count": 4,
     "metadata": {},
     "output_type": "execute_result"
    }
   ],
   "source": [
    "df.isnull().sum()"
   ]
  },
  {
   "cell_type": "code",
   "execution_count": 5,
   "id": "53bf1186",
   "metadata": {},
   "outputs": [],
   "source": [
    "#define \n",
    "X=df.iloc[:,0:3].values\n",
    "y=df.iloc[:,3].values"
   ]
  },
  {
   "cell_type": "code",
   "execution_count": 6,
   "id": "6d33ac5c",
   "metadata": {},
   "outputs": [],
   "source": [
    "# spliting the dataset\n",
    "from sklearn.model_selection import train_test_split\n",
    "X_train,X_test,y_train,y_test=train_test_split(X,y,test_size=0.2,random_state=0)"
   ]
  },
  {
   "cell_type": "code",
   "execution_count": 7,
   "id": "da4ce815",
   "metadata": {},
   "outputs": [],
   "source": [
    "#model \n",
    "from sklearn.linear_model import LinearRegression\n"
   ]
  },
  {
   "cell_type": "code",
   "execution_count": 8,
   "id": "62f5d944",
   "metadata": {},
   "outputs": [],
   "source": [
    "lr=LinearRegression()"
   ]
  },
  {
   "cell_type": "code",
   "execution_count": 11,
   "id": "87763512",
   "metadata": {},
   "outputs": [
    {
     "data": {
      "text/plain": [
       "LinearRegression()"
      ]
     },
     "execution_count": 11,
     "metadata": {},
     "output_type": "execute_result"
    }
   ],
   "source": [
    "lr.fit(X_train,y_train)"
   ]
  },
  {
   "cell_type": "code",
   "execution_count": 15,
   "id": "0bfbe15d",
   "metadata": {},
   "outputs": [
    {
     "data": {
      "text/plain": [
       "array([489.09796544, 585.82468507, 312.67064831, 234.88870351,\n",
       "       287.21089241, 241.01251332, 309.51288237, 528.11994608,\n",
       "       348.11315337, 133.06074389, 347.95648386, 583.73174908,\n",
       "       346.27099761, 346.03900847, 333.12595131, 317.40151822])"
      ]
     },
     "execution_count": 15,
     "metadata": {},
     "output_type": "execute_result"
    }
   ],
   "source": [
    "y_pred=lr.predict(X_test)\n",
    "y_pred"
   ]
  },
  {
   "cell_type": "code",
   "execution_count": 16,
   "id": "bdbc2dba",
   "metadata": {},
   "outputs": [
    {
     "data": {
      "text/plain": [
       "0.9480633896446401"
      ]
     },
     "execution_count": 16,
     "metadata": {},
     "output_type": "execute_result"
    }
   ],
   "source": [
    "lr.score(X_train,y_train)"
   ]
  },
  {
   "cell_type": "code",
   "execution_count": 17,
   "id": "2becc5ae",
   "metadata": {},
   "outputs": [
    {
     "data": {
      "text/plain": [
       "0.9369931160084563"
      ]
     },
     "execution_count": 17,
     "metadata": {},
     "output_type": "execute_result"
    }
   ],
   "source": [
    "lr.score(X_test,y_test)"
   ]
  },
  {
   "cell_type": "code",
   "execution_count": 18,
   "id": "789e66fd",
   "metadata": {},
   "outputs": [
    {
     "data": {
      "text/plain": [
       "33.4341201190193"
      ]
     },
     "execution_count": 18,
     "metadata": {},
     "output_type": "execute_result"
    }
   ],
   "source": [
    "#model evalution\n",
    "from sklearn import metrics\n",
    "rmse=np.sqrt(metrics.mean_squared_error(y_test,y_pred))\n",
    "r2=metrics.r2_score(y_test,y_pred)\n",
    "rmse"
   ]
  },
  {
   "cell_type": "code",
   "execution_count": 19,
   "id": "0b36dc14",
   "metadata": {},
   "outputs": [
    {
     "data": {
      "text/plain": [
       "0.9369931160084563"
      ]
     },
     "execution_count": 19,
     "metadata": {},
     "output_type": "execute_result"
    }
   ],
   "source": [
    "r2"
   ]
  },
  {
   "cell_type": "code",
   "execution_count": 20,
   "id": "3191d863",
   "metadata": {},
   "outputs": [
    {
     "data": {
      "text/plain": [
       "array([[<AxesSubplot:title={'center':'distance_to_city_center'}>,\n",
       "        <AxesSubplot:title={'center':'rooms'}>],\n",
       "       [<AxesSubplot:title={'center':'size'}>,\n",
       "        <AxesSubplot:title={'center':'price'}>]], dtype=object)"
      ]
     },
     "execution_count": 20,
     "metadata": {},
     "output_type": "execute_result"
    },
    {
     "data": {
      "image/png": "[encoded data removed]",
      "text/plain": [
       "<Figure size 432x288 with 4 Axes>"
      ]
     },
     "metadata": {
      "needs_background": "light"
     },
     "output_type": "display_data"
    }
   ],
   "source": [
    "df.hist()"
   ]
  },
  {
   "cell_type": "code",
   "execution_count": 25,
   "id": "6e6965a2",
   "metadata": {},
   "outputs": [
    {
     "name": "stdout",
     "output_type": "stream",
     "text": [
      "predicted_price [322.84461703]\n"
     ]
    }
   ],
   "source": [
    "print(\"predicted_price\",lr.predict([[2.9,3,38.5]]))"
   ]
  },
  {
   "cell_type": "code",
   "execution_count": 26,
   "id": "99c78c68",
   "metadata": {},
   "outputs": [],
   "source": [
    "import pickle"
   ]
  },
  {
   "cell_type": "code",
   "execution_count": 27,
   "id": "6e0f2492",
   "metadata": {},
   "outputs": [],
   "source": [
    "with open(\"model_picklejuly\",'wb')as f:\n",
    "    pickle.dump(lr,f)"
   ]
  },
  {
   "cell_type": "code",
   "execution_count": 28,
   "id": "3b6a6d00",
   "metadata": {},
   "outputs": [],
   "source": [
    "import joblib"
   ]
  },
  {
   "cell_type": "code",
   "execution_count": 30,
   "id": "18e91ccf",
   "metadata": {},
   "outputs": [
    {
     "data": {
      "text/plain": [
       "['model_joblibjuly']"
      ]
     },
     "execution_count": 30,
     "metadata": {},
     "output_type": "execute_result"
    }
   ],
   "source": [
    "joblib.dump(lr,\"model_joblibjuly\")"
   ]
  },
  {
   "cell_type": "code",
   "execution_count": null,
   "id": "eb62d8e2",
   "metadata": {},
   "outputs": [],
   "source": []
  }
 ],
 "metadata": {
  "kernelspec": {
   "display_name": "Python 3",
   "language": "python",
   "name": "python3"
  },
  "language_info": {
   "codemirror_mode": {
    "name": "ipython",
    "version": 3
   },
   "file_extension": ".py",
   "mimetype": "text/x-python",
   "name": "python",
   "nbconvert_exporter": "python",
   "pygments_lexer": "ipython3",
   "version": "3.8.8"
  }
 },
 "nbformat": 4,
 "nbformat_minor": 5
}
