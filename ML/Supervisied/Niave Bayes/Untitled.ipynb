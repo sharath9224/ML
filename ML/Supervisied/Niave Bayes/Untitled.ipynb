{
 "cells": [
  {
   "cell_type": "code",
   "execution_count": null,
   "id": "6412b75c",
   "metadata": {},
   "outputs": [],
   "source": [
    "import pandas as pd\n",
    "import numpy as np"
   ]
  },
  {
   "cell_type": "code",
   "execution_count": null,
   "id": "7b4aba2b",
   "metadata": {},
   "outputs": [],
   "source": [
    "df=pd.read_csv(\"weather.csv\")\n",
    "df.head()"
   ]
  },
  {
   "cell_type": "code",
   "execution_count": null,
   "id": "9ae194c9",
   "metadata": {},
   "outputs": [],
   "source": [
    "#converting text to num\n",
    "df[\"play\"]=pd.factorize(df['play'])[0]\n",
    "df[\"outlook\"]=pd.factorize(df['outlook'])[0]\n",
    "df[\"temperature\"]=pd.factorize(df['temperature'])[0]\n",
    "df[\"humidity\"]=pd.factorize(df['humidity'])[0]\n",
    "df[\"windy\"]=pd.factorize(df['windy'])[0]"
   ]
  },
  {
   "cell_type": "code",
   "execution_count": null,
   "id": "aa39a045",
   "metadata": {},
   "outputs": [],
   "source": [
    "#df=df.apply(lambda x :pd.factorize(x)[0])"
   ]
  },
  {
   "cell_type": "code",
   "execution_count": null,
   "id": "b2f05fb0",
   "metadata": {},
   "outputs": [],
   "source": [
    "df.head()"
   ]
  },
  {
   "cell_type": "code",
   "execution_count": null,
   "id": "2e8217a7",
   "metadata": {},
   "outputs": [],
   "source": [
    "#defining X & Y\n",
    "X=df.iloc[:,:-1]\n",
    "y=df.iloc[:,-1]\n"
   ]
  },
  {
   "cell_type": "code",
   "execution_count": null,
   "id": "2a764ed4",
   "metadata": {},
   "outputs": [],
   "source": [
    "from sklearn.model_selection import train_test_split"
   ]
  },
  {
   "cell_type": "code",
   "execution_count": null,
   "id": "eae4a92c",
   "metadata": {},
   "outputs": [],
   "source": [
    "X_train,X_test,y_train,y_test=train_test_split(X,y,test_size=0.1,random_state=0)"
   ]
  },
  {
   "cell_type": "code",
   "execution_count": null,
   "id": "92db877b",
   "metadata": {},
   "outputs": [],
   "source": [
    "from sklearn.naive_bayes import GaussianNB"
   ]
  },
  {
   "cell_type": "code",
   "execution_count": null,
   "id": "700f9322",
   "metadata": {},
   "outputs": [],
   "source": [
    "model=GaussianNB().fit(X_train,y_train)"
   ]
  },
  {
   "cell_type": "code",
   "execution_count": null,
   "id": "cff48d9a",
   "metadata": {},
   "outputs": [],
   "source": [
    "y_pred=model.predict(X_test)\n",
    "y_pred"
   ]
  },
  {
   "cell_type": "code",
   "execution_count": null,
   "id": "e8d5f2ae",
   "metadata": {},
   "outputs": [],
   "source": [
    "from sklearn.metrics import accuracy_score,confusion_matrix"
   ]
  },
  {
   "cell_type": "code",
   "execution_count": null,
   "id": "efaec1a0",
   "metadata": {},
   "outputs": [],
   "source": [
    "cm=confusion_matrix(y_test,y_pred)\n",
    "print(\"confusion_matrix:\",cm)"
   ]
  },
  {
   "cell_type": "code",
   "execution_count": null,
   "id": "413c4ea9",
   "metadata": {},
   "outputs": [],
   "source": [
    "print(\"accuracy:\",accuracy_score(y_test,y_pred))"
   ]
  },
  {
   "cell_type": "code",
   "execution_count": null,
   "id": "b33ea820",
   "metadata": {},
   "outputs": [],
   "source": [
    "#create a new features\n",
    "new =pd.DataFrame()"
   ]
  },
  {
   "cell_type": "code",
   "execution_count": null,
   "id": "70a539cf",
   "metadata": {},
   "outputs": [],
   "source": [
    "outlook=input('enter Outlook(sunny/overcast/rainy):')\n",
    "if (outlook==\"sunny\"):\n",
    "    outlook=0\n",
    "elif(outlook==\"overcast\"):\n",
    "    outlook=1\n",
    "elif(outlook==\"rainy\"):\n",
    "    outlook=2\n",
    "'''\n",
    "temp=input('enter temperature(hot/mild/cold):')\n",
    "if(temp==\"hot\"):\n",
    "    temp=0\n",
    "elif(temp==\"mild\"):\n",
    "    temp=1\n",
    "elif(temp==\"cold\"):\n",
    "    temp=2\n",
    "    \n",
    "hum=input(\"enter Humidity(high/normal):\")\n",
    "if(hum==\"high\"):\n",
    "    hum=0\n",
    "elif(hum==\"normal\"):\n",
    "    hum=1\n",
    "\n",
    "wind=input(\"enter windy(false/true):\")\n",
    "if(wind==\"false\"):\n",
    "    wind=0\n",
    "elif(wind==\"true\"):\n",
    "    wind=1\n",
    "new['outlook']=[outlook]\n",
    "new['temp']=[temp]\n",
    "new['hum']=[hum]\n",
    "new['wind']=[wind]\n",
    "print(new)\n",
    "'''"
   ]
  },
  {
   "cell_type": "code",
   "execution_count": null,
   "id": "e77249c1",
   "metadata": {},
   "outputs": [],
   "source": [
    "new['outlook']=[outlook]\n",
    "new['temp']=[temp]\n",
    "new['hum']=[hum]\n",
    "new['wind']=[wind]\n",
    "print(new)"
   ]
  },
  {
   "cell_type": "code",
   "execution_count": null,
   "id": "e0e5591d",
   "metadata": {},
   "outputs": [],
   "source": [
    "y_pred=model.predict(new)\n",
    "if(y_pred==1):\n",
    "    print(\"play possible\")\n",
    "else:\n",
    "    print(\"play not possible\")"
   ]
  },
  {
   "cell_type": "code",
   "execution_count": null,
   "id": "fd0fbc71",
   "metadata": {},
   "outputs": [],
   "source": []
  },
  {
   "cell_type": "code",
   "execution_count": null,
   "id": "307292c0",
   "metadata": {},
   "outputs": [],
   "source": []
  }
 ],
 "metadata": {
  "kernelspec": {
   "display_name": "Python 3",
   "language": "python",
   "name": "python3"
  },
  "language_info": {
   "codemirror_mode": {
    "name": "ipython",
    "version": 3
   },
   "file_extension": ".py",
   "mimetype": "text/x-python",
   "name": "python",
   "nbconvert_exporter": "python",
   "pygments_lexer": "ipython3",
   "version": "3.8.8"
  }
 },
 "nbformat": 4,
 "nbformat_minor": 5
}
