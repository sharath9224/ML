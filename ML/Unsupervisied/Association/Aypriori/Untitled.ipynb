{
 "cells": [
  {
   "cell_type": "code",
   "execution_count": 1,
   "id": "75ed8184",
   "metadata": {},
   "outputs": [
    {
     "name": "stdout",
     "output_type": "stream",
     "text": [
      "Collecting apyori\n",
      "  Downloading apyori-1.1.2.tar.gz (8.6 kB)\n",
      "Building wheels for collected packages: apyori\n",
      "  Building wheel for apyori (setup.py): started\n",
      "  Building wheel for apyori (setup.py): finished with status 'done'\n",
      "  Created wheel for apyori: filename=apyori-1.1.2-py3-none-any.whl size=5975 sha256=bae04e4be5cc6a2dab1b164e55c5955bab74817470776bf3dda9651dfcbedbd8\n",
      "  Stored in directory: c:\\users\\sharath reddy\\appdata\\local\\pip\\cache\\wheels\\1b\\02\\6c\\a45230be8603bd95c0a51cd2b289aefdd860c1a100eab73661\n",
      "Successfully built apyori\n",
      "Installing collected packages: apyori\n",
      "Successfully installed apyori-1.1.2\n"
     ]
    }
   ],
   "source": [
    "#!pip install apyori"
   ]
  },
  {
   "cell_type": "code",
   "execution_count": 2,
   "id": "39934c52",
   "metadata": {},
   "outputs": [],
   "source": [
    "import numpy as np\n",
    "import pandas as pd\n",
    "from apyori import apriori"
   ]
  },
  {
   "cell_type": "code",
   "execution_count": 6,
   "id": "65eca211",
   "metadata": {},
   "outputs": [],
   "source": [
    "store_data = pd.read_csv('store_data.csv', header=None)  \n",
    "#print(store_data.head())\n"
   ]
  },
  {
   "cell_type": "code",
   "execution_count": 5,
   "id": "b5d44975",
   "metadata": {},
   "outputs": [
    {
     "name": "stdout",
     "output_type": "stream",
     "text": [
      "(7501, 20)\n"
     ]
    }
   ],
   "source": [
    "print(store_data.shape)"
   ]
  },
  {
   "cell_type": "code",
   "execution_count": 9,
   "id": "858e84e7",
   "metadata": {},
   "outputs": [],
   "source": [
    "records = []\n",
    "for i in range(0, 7501):\n",
    "    records.append([str(store_data.values[i,j]) for j in range(0, 20)])"
   ]
  },
  {
   "cell_type": "code",
   "execution_count": 10,
   "id": "cca3e6bc",
   "metadata": {},
   "outputs": [],
   "source": [
    "association_rules = apriori(records, min_support=0.0045, min_confidence=0.2, min_lift=4, min_length=5)\n",
    "association_results = list(association_rules)\n"
   ]
  },
  {
   "cell_type": "code",
   "execution_count": 11,
   "id": "7a1574d9",
   "metadata": {},
   "outputs": [
    {
     "name": "stdout",
     "output_type": "stream",
     "text": [
      "10\n"
     ]
    }
   ],
   "source": [
    "print(len(association_results)) # //to check the Total Number of Rules mined\n",
    "#print(association_results[0])  #// to print the first item the association_rules list to see the first rule"
   ]
  },
  {
   "cell_type": "code",
   "execution_count": 14,
   "id": "7364bfac",
   "metadata": {},
   "outputs": [
    {
     "data": {
      "text/plain": [
       "'for rule in association_results:\\n    print(rule)'"
      ]
     },
     "execution_count": 14,
     "metadata": {},
     "output_type": "execute_result"
    }
   ],
   "source": [
    "#Total association rules\n",
    "\n",
    "'''for rule in association_results:\n",
    "    print(rule)'''\n"
   ]
  },
  {
   "cell_type": "code",
   "execution_count": 15,
   "id": "f7f1dc6c",
   "metadata": {},
   "outputs": [
    {
     "name": "stdout",
     "output_type": "stream",
     "text": [
      "Rule: light cream -> chicken\n",
      "Rule: escalope -> pasta\n",
      "Rule: olive oil -> whole wheat pasta\n",
      "Rule: shrimp -> pasta\n",
      "Rule: nan -> light cream\n",
      "Rule: nan -> escalope\n",
      "Rule: spaghetti -> herb & pepper\n",
      "Rule: nan -> olive oil\n",
      "Rule: nan -> shrimp\n",
      "Rule: nan -> spaghetti\n"
     ]
    }
   ],
   "source": [
    "# // to display the rule, the support, the confidence,\n",
    "#     and lift for each rule in a more clear way:\n",
    "for item in association_results:                                         \n",
    "\n",
    "    # first index of the inner list\n",
    "    # Contains base item and add item\n",
    "    pair = item[0] \n",
    "    items = [x for x in pair]\n",
    "    print(\"Rule: \" + items[0] + \" -> \" + items[1])\n"
   ]
  },
  {
   "cell_type": "code",
   "execution_count": null,
   "id": "303d15e9",
   "metadata": {},
   "outputs": [],
   "source": []
  }
 ],
 "metadata": {
  "kernelspec": {
   "display_name": "Python 3",
   "language": "python",
   "name": "python3"
  },
  "language_info": {
   "codemirror_mode": {
    "name": "ipython",
    "version": 3
   },
   "file_extension": ".py",
   "mimetype": "text/x-python",
   "name": "python",
   "nbconvert_exporter": "python",
   "pygments_lexer": "ipython3",
   "version": "3.8.8"
  }
 },
 "nbformat": 4,
 "nbformat_minor": 5
}
