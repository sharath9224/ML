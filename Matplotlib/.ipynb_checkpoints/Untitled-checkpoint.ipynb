{
 "cells": [
  {
   "cell_type": "code",
   "execution_count": 28,
   "id": "cbd0aa57",
   "metadata": {},
   "outputs": [],
   "source": [
    "import pandas as pd\n",
    "import matplotlib.pyplot as plt"
   ]
  },
  {
   "cell_type": "code",
   "execution_count": 29,
   "id": "8fd16506",
   "metadata": {},
   "outputs": [
    {
     "data": {
      "text/html": [
       "<div>\n",
       "<style scoped>\n",
       "    .dataframe tbody tr th:only-of-type {\n",
       "        vertical-align: middle;\n",
       "    }\n",
       "\n",
       "    .dataframe tbody tr th {\n",
       "        vertical-align: top;\n",
       "    }\n",
       "\n",
       "    .dataframe thead th {\n",
       "        text-align: right;\n",
       "    }\n",
       "</style>\n",
       "<table border=\"1\" class=\"dataframe\">\n",
       "  <thead>\n",
       "    <tr style=\"text-align: right;\">\n",
       "      <th></th>\n",
       "      <th>crop</th>\n",
       "      <th>year</th>\n",
       "      <th>area</th>\n",
       "      <th>msp</th>\n",
       "      <th>yields</th>\n",
       "    </tr>\n",
       "  </thead>\n",
       "  <tbody>\n",
       "    <tr>\n",
       "      <th>0</th>\n",
       "      <td>rice</td>\n",
       "      <td>2014-15</td>\n",
       "      <td>15759</td>\n",
       "      <td>1360</td>\n",
       "      <td>378216</td>\n",
       "    </tr>\n",
       "    <tr>\n",
       "      <th>1</th>\n",
       "      <td>rice</td>\n",
       "      <td>2015-16</td>\n",
       "      <td>15987</td>\n",
       "      <td>1414</td>\n",
       "      <td>383688</td>\n",
       "    </tr>\n",
       "    <tr>\n",
       "      <th>2</th>\n",
       "      <td>rice</td>\n",
       "      <td>2016-17</td>\n",
       "      <td>15747</td>\n",
       "      <td>1470</td>\n",
       "      <td>377928</td>\n",
       "    </tr>\n",
       "    <tr>\n",
       "      <th>3</th>\n",
       "      <td>rice</td>\n",
       "      <td>2017-18</td>\n",
       "      <td>15958</td>\n",
       "      <td>1550</td>\n",
       "      <td>382992</td>\n",
       "    </tr>\n",
       "    <tr>\n",
       "      <th>4</th>\n",
       "      <td>rice</td>\n",
       "      <td>2018-19</td>\n",
       "      <td>15848</td>\n",
       "      <td>1750</td>\n",
       "      <td>380352</td>\n",
       "    </tr>\n",
       "    <tr>\n",
       "      <th>...</th>\n",
       "      <td>...</td>\n",
       "      <td>...</td>\n",
       "      <td>...</td>\n",
       "      <td>...</td>\n",
       "      <td>...</td>\n",
       "    </tr>\n",
       "    <tr>\n",
       "      <th>95</th>\n",
       "      <td>errachandanam</td>\n",
       "      <td>2014-15</td>\n",
       "      <td>5</td>\n",
       "      <td>150000</td>\n",
       "      <td>10</td>\n",
       "    </tr>\n",
       "    <tr>\n",
       "      <th>96</th>\n",
       "      <td>errachandanam</td>\n",
       "      <td>2015-16</td>\n",
       "      <td>5</td>\n",
       "      <td>160000</td>\n",
       "      <td>10</td>\n",
       "    </tr>\n",
       "    <tr>\n",
       "      <th>97</th>\n",
       "      <td>errachandanam</td>\n",
       "      <td>2016-17</td>\n",
       "      <td>9</td>\n",
       "      <td>190000</td>\n",
       "      <td>10</td>\n",
       "    </tr>\n",
       "    <tr>\n",
       "      <th>98</th>\n",
       "      <td>errachandanam</td>\n",
       "      <td>2017-18</td>\n",
       "      <td>10</td>\n",
       "      <td>195000</td>\n",
       "      <td>10</td>\n",
       "    </tr>\n",
       "    <tr>\n",
       "      <th>99</th>\n",
       "      <td>errachandanam</td>\n",
       "      <td>2018-19</td>\n",
       "      <td>12</td>\n",
       "      <td>209000</td>\n",
       "      <td>10</td>\n",
       "    </tr>\n",
       "  </tbody>\n",
       "</table>\n",
       "<p>100 rows × 5 columns</p>\n",
       "</div>"
      ],
      "text/plain": [
       "             crop     year   area     msp  yields\n",
       "0            rice  2014-15  15759    1360  378216\n",
       "1            rice  2015-16  15987    1414  383688\n",
       "2            rice  2016-17  15747    1470  377928\n",
       "3            rice  2017-18  15958    1550  382992\n",
       "4            rice  2018-19  15848    1750  380352\n",
       "..            ...      ...    ...     ...     ...\n",
       "95  errachandanam  2014-15      5  150000      10\n",
       "96  errachandanam  2015-16      5  160000      10\n",
       "97  errachandanam  2016-17      9  190000      10\n",
       "98  errachandanam  2017-18     10  195000      10\n",
       "99  errachandanam  2018-19     12  209000      10\n",
       "\n",
       "[100 rows x 5 columns]"
      ]
     },
     "execution_count": 29,
     "metadata": {},
     "output_type": "execute_result"
    }
   ],
   "source": [
    "df=pd.read_csv(\"data/crops.csv\")\n",
    "df"
   ]
  },
  {
   "cell_type": "code",
   "execution_count": 32,
   "id": "f5045e51",
   "metadata": {},
   "outputs": [
    {
     "data": {
      "image/png": "[encoded data removed]",
      "text/plain": [
       "<Figure size 432x288 with 1 Axes>"
      ]
     },
     "metadata": {
      "needs_background": "light"
     },
     "output_type": "display_data"
    }
   ],
   "source": [
    "plt.scatter(df.area,df.msp,label=\"msp\")\n",
    "plt.scatter(df.area,df.yields,label=\"yields\")\n",
    "plt.title(\"area vs msp\")\n",
    "plt.xlabel(\"area\")\n",
    "plt.ylabel(\"msp\")\n",
    "plt.legend()\n",
    "plt.show()"
   ]
  },
  {
   "cell_type": "code",
   "execution_count": null,
   "id": "d699af98",
   "metadata": {},
   "outputs": [],
   "source": []
  }
 ],
 "metadata": {
  "kernelspec": {
   "display_name": "Python 3",
   "language": "python",
   "name": "python3"
  },
  "language_info": {
   "codemirror_mode": {
    "name": "ipython",
    "version": 3
   },
   "file_extension": ".py",
   "mimetype": "text/x-python",
   "name": "python",
   "nbconvert_exporter": "python",
   "pygments_lexer": "ipython3",
   "version": "3.8.8"
  }
 },
 "nbformat": 4,
 "nbformat_minor": 5
}
