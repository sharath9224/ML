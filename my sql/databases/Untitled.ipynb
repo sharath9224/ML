{
 "cells": [
  {
   "cell_type": "code",
   "execution_count": 1,
   "id": "4e8ec47a",
   "metadata": {},
   "outputs": [],
   "source": [
    "import mysql.connector"
   ]
  },
  {
   "cell_type": "code",
   "execution_count": 4,
   "id": "27e22754",
   "metadata": {},
   "outputs": [
    {
     "name": "stdout",
     "output_type": "stream",
     "text": [
      "('crops',)\n",
      "('employee',)\n"
     ]
    }
   ],
   "source": [
    "mydb=mysql.connector.connect(host=\"localhost\",user=\"root\",password=\"Sharath@9224\",database=\"reddy\")\n",
    "mycursor=mydb.cursor()\n",
    "mycursor.execute(\"show tables\")\n",
    "for i in mycursor:\n",
    "    print(i)"
   ]
  },
  {
   "cell_type": "code",
   "execution_count": 5,
   "id": "6be075f2",
   "metadata": {},
   "outputs": [
    {
     "name": "stdout",
     "output_type": "stream",
     "text": [
      "before updating a record\n",
      "(102, 'obul', 21, 78000)\n",
      "(103, 'kumar', 22, 48000)\n",
      "(106, 'sai', 22, 48000)\n",
      "(109, 'kiran', 25, 54000)\n"
     ]
    }
   ],
   "source": [
    "print(\"before updating a record\")\n",
    "mycursor.execute(\"select * from employee\")\n",
    "for i in mycursor:\n",
    "    print(i)"
   ]
  },
  {
   "cell_type": "code",
   "execution_count": 12,
   "id": "8f97911e",
   "metadata": {},
   "outputs": [
    {
     "name": "stdout",
     "output_type": "stream",
     "text": [
      "after updating a record\n",
      "(103, 'kumar', 22, 48000)\n",
      "(106, 'sai', 22, 48000)\n",
      "(109, 'kiran', 25, 54000)\n"
     ]
    }
   ],
   "source": [
    "mycursor.execute(\"DELETE FROM employee where sno=102\")\n",
    "mydb.commit()\n",
    "print(\"after updating a record\")\n",
    "mycursor.execute(\"select * from employee\")\n",
    "for i in mycursor:\n",
    "    print(i)"
   ]
  },
  {
   "cell_type": "code",
   "execution_count": null,
   "id": "8f291f99",
   "metadata": {},
   "outputs": [],
   "source": []
  }
 ],
 "metadata": {
  "kernelspec": {
   "display_name": "Python 3",
   "language": "python",
   "name": "python3"
  },
  "language_info": {
   "codemirror_mode": {
    "name": "ipython",
    "version": 3
   },
   "file_extension": ".py",
   "mimetype": "text/x-python",
   "name": "python",
   "nbconvert_exporter": "python",
   "pygments_lexer": "ipython3",
   "version": "3.8.8"
  }
 },
 "nbformat": 4,
 "nbformat_minor": 5
}
