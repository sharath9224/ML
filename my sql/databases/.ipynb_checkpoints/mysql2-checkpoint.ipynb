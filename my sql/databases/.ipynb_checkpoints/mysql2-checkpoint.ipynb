{
 "cells": [
  {
   "cell_type": "code",
   "execution_count": 1,
   "id": "5276509a",
   "metadata": {},
   "outputs": [],
   "source": [
    "import mysql.connector"
   ]
  },
  {
   "cell_type": "code",
   "execution_count": 2,
   "id": "da6cb43c",
   "metadata": {},
   "outputs": [
    {
     "name": "stdout",
     "output_type": "stream",
     "text": [
      "('rice', '2014-15', 15759)\n",
      "('rice', '2015-16', 15987)\n",
      "('rice', '2016-17', 15747)\n",
      "('rice', '2017-18', 15958)\n",
      "('rice', '2018-19', 15848)\n",
      "('maize', '2014-15', 1199)\n",
      "('maize', '2015-16', 1227)\n",
      "('maize', '2016-17', 1325)\n",
      "('maize', '2017-18', 1369)\n",
      "('maize', '2018-19', 951)\n",
      "('greengram', '2014-15', 45)\n",
      "('greengram', '2015-16', 40)\n",
      "('greengram', '2016-17', 51)\n",
      "('greengram', '2017-18', 40)\n",
      "('greengram', '2018-19', 38)\n",
      "('redgram', '2014-15', 27)\n",
      "('red gram', '2015-16', 12)\n",
      "('red gram', '2016-17', 16)\n",
      "('red gram', '2017-18', 33)\n",
      "('red gram', '2018-19', 30)\n",
      "('cotton', '2014-15', 183)\n",
      "('cotton', '2015-16', 176)\n",
      "('cotton', '2016-17', 135)\n",
      "('cotton', '2017-18', 157)\n",
      "('cotton', '2018-19', 79)\n",
      "('turmeric', '2014-15', 3)\n",
      "('turmeric', '2015-16', 7)\n",
      "('turmeric', '2016-17', 2)\n",
      "('turmeric', '2017-18', 3)\n",
      "('turmeric', '2018-19', 6)\n",
      "('sugarcane', '2014-15', 2627)\n",
      "('sugarcane', '2015-16', 1863)\n",
      "('sugarcane', '2016-17', 1711)\n",
      "('sugarcane', '2017-18', 1448)\n",
      "('sugarcane', '2018-19', 1266)\n",
      "('mango', '2014-15', 3408)\n",
      "('mango', '2015-16', 2527)\n",
      "('mango', '2016-17', 2092)\n",
      "('mango', '2017-18', 1829)\n",
      "('mango', '2018-19', 1627)\n",
      "('cashew nut', '2014-15', 284)\n",
      "('cashew nut', '2015-16', 254)\n",
      "('cashew nut', '2016-17', 223)\n",
      "('cashew nut', '2017-18', 226)\n",
      "('cashew nut', '2018-19', 189)\n",
      "('banana', '2014-15', 116)\n",
      "('banana', '2015-16', 235)\n",
      "('banana', '2016-17', 76)\n",
      "('banana', '2017-18', 70)\n",
      "('banana', '2018-19', 36)\n",
      "('guava', '2014-15', 176)\n",
      "('guava', '2015-16', 242)\n",
      "('guava', '2016-17', 302)\n",
      "('guava', '2017-18', 345)\n",
      "('guava', '2018-19', 363)\n",
      "('lemon', '2014-15', 49)\n",
      "('lemon', '2015-16', 54)\n",
      "('lemon', '2016-17', 67)\n",
      "('lemon', '2017-18', 95)\n",
      "('lemon', '2018-19', 95)\n",
      "('coconut', '2014-15', 188)\n",
      "('coconut', '2015-16', 169)\n",
      "('coconut', '2016-17', 137)\n",
      "('coconut', '2017-18', 152)\n",
      "('coconut', '2018-19', 155)\n",
      "('sapota', '2014-15', 21)\n",
      "('sapota', '2015-16', 79)\n",
      "('sapota', '2016-17', 68)\n",
      "('sapota', '2017-18', 74)\n",
      "('sapota', '2018-19', 70)\n",
      "('palmoil', '2014-15', 1487)\n",
      "('palmoil', '2015-16', 1792)\n",
      "('palmoil', '2016-17', 1866)\n",
      "('palmoil', '2017-18', 1915)\n",
      "('palmoil', '2018-19', 1955)\n",
      "('eukalptus', '2014-15', 2003)\n",
      "('eukalptus', '2015-16', 2548)\n",
      "('eukalytus', '2016-17', 2585)\n",
      "('eukalytus', '2017-18', 2664)\n",
      "('eukalytus', '2018-19', 2668)\n",
      "('malbari', '2014-15', 5)\n",
      "('malbari', '2015-16', 5)\n",
      "('malbari', '2016-17', 19)\n",
      "('malbari', '2017-18', 17)\n",
      "('malbari', '2018-19', 19)\n",
      "('chedu vepa', '2014-15', 15)\n",
      "('chedu vepa', '2015-16', 15)\n",
      "('chedu vepa', '2016-17', 15)\n",
      "('chedu vepa', '2017-18', 19)\n",
      "('chedu vepa', '2018-19', 19)\n",
      "('tekku', '2014-15', 25)\n",
      "('tekku', '2015-16', 32)\n",
      "('tekku', '2016-17', 34)\n",
      "('tekku', '2017-18', 40)\n",
      "('tekku', '2018-19', 40)\n",
      "('errachandanam', '2014-15', 5)\n",
      "('errachandanam', '2015-16', 5)\n",
      "('errachandanam', '2016-17', 9)\n",
      "('errachandanam', '2017-18', 10)\n",
      "('errachandanam', '2018-19', 12)\n"
     ]
    }
   ],
   "source": [
    "mydb=mysql.connector.connect(host=\"localhost\",user=\"root\",password=\"Sharath@9224\",database=\"reddy\")\n",
    "mycursor=mydb.cursor()\n",
    "#mycursor.execute(\"select * from crops\")\n",
    "sql=\"select crop,year,area from crops\"\n",
    "\n",
    "mycursor.execute(sql)\n",
    "for i in mycursor:\n",
    "    print(i)"
   ]
  },
  {
   "cell_type": "code",
   "execution_count": 3,
   "id": "2c0fd0ed",
   "metadata": {},
   "outputs": [
    {
     "name": "stdout",
     "output_type": "stream",
     "text": [
      "('rice', '2014-15')\n",
      "('rice', '2015-16')\n",
      "('rice', '2016-17')\n",
      "('rice', '2017-18')\n",
      "('rice', '2018-19')\n"
     ]
    }
   ],
   "source": [
    "mycursor.execute(\"select crop,year from crops where crop='rice'\")\n",
    "for i in mycursor:\n",
    "    print(i)\n",
    "                 "
   ]
  },
  {
   "cell_type": "code",
   "execution_count": 4,
   "id": "d693de01",
   "metadata": {},
   "outputs": [
    {
     "name": "stdout",
     "output_type": "stream",
     "text": [
      "('rice', '2014-15', 15759, '1360', 378216)\n",
      "('rice', '2015-16', 15987, '1414', 383688)\n",
      "('rice', '2016-17', 15747, '1470', 377928)\n",
      "('rice', '2017-18', 15958, '1550', 382992)\n",
      "('rice', '2018-19', 15848, '1750', 380352)\n",
      "('sugarcane', '2014-15', 2627, '220', 525400)\n",
      "('mango', '2014-15', 3408, '10000', 51015)\n",
      "('mango', '2015-16', 2527, '10100', 37905)\n",
      "('mango', '2016-17', 2092, '11000', 31380)\n",
      "('eukalptus', '2014-15', 2003, '8000', 460690)\n",
      "('eukalptus', '2015-16', 2548, '8500', 586040)\n",
      "('eukalytus', '2016-17', 2585, '9000', 594550)\n",
      "('eukalytus', '2017-18', 2664, '9500', 612720)\n",
      "('eukalytus', '2018-19', 2668, '10000', 613640)\n"
     ]
    }
   ],
   "source": [
    "mycursor.execute(\"select * from crops where area>2000\")\n",
    "for i in mycursor:\n",
    "    print(i)\n",
    "                 "
   ]
  },
  {
   "cell_type": "code",
   "execution_count": 5,
   "id": "59841ebc",
   "metadata": {},
   "outputs": [
    {
     "name": "stdout",
     "output_type": "stream",
     "text": [
      "('sugarcane', '2014-15')\n",
      "('mango', '2014-15')\n",
      "('mango', '2015-16')\n",
      "('mango', '2016-17')\n",
      "('eukalptus', '2014-15')\n",
      "('eukalptus', '2015-16')\n",
      "('eukalytus', '2016-17')\n",
      "('eukalytus', '2017-18')\n",
      "('eukalytus', '2018-19')\n"
     ]
    }
   ],
   "source": [
    "mycursor.execute(\"select crop,year from crops where area>2000 and area<4000\")\n",
    "for i in mycursor:\n",
    "    print(i)\n",
    "                 "
   ]
  },
  {
   "cell_type": "code",
   "execution_count": 6,
   "id": "36b8a822",
   "metadata": {},
   "outputs": [
    {
     "name": "stdout",
     "output_type": "stream",
     "text": [
      "(9,)\n"
     ]
    }
   ],
   "source": [
    "mycursor.execute(\"select count(*) from crops where area>2000 and area<4000\")\n",
    "for i in mycursor:\n",
    "    print(i)\n",
    "                 "
   ]
  },
  {
   "cell_type": "code",
   "execution_count": 7,
   "id": "fa6f3344",
   "metadata": {},
   "outputs": [
    {
     "name": "stdout",
     "output_type": "stream",
     "text": [
      "('maize', '2016-17', 1325, '1365', 33125)\n",
      "('maize', '2017-18', 1369, '1425', 34225)\n"
     ]
    }
   ],
   "source": [
    "mycursor.execute(\"select * from crops where( area>1300 and crop='maize')\")\n",
    "for i in mycursor:\n",
    "    print(i)\n",
    "                 "
   ]
  },
  {
   "cell_type": "code",
   "execution_count": 17,
   "id": "a919bc20",
   "metadata": {},
   "outputs": [
    {
     "name": "stdout",
     "output_type": "stream",
     "text": [
      "('mango', '2014-15', 3408, '10000', 51015)\n",
      "('eukalytus', '2018-19', 2668, '10000', 613640)\n",
      "('eukalytus', '2017-18', 2664, '9500', 612720)\n",
      "('sugarcane', '2014-15', 2627, '220', 525400)\n",
      "('eukalytus', '2016-17', 2585, '9000', 594550)\n",
      "('eukalptus', '2015-16', 2548, '8500', 586040)\n",
      "('mango', '2015-16', 2527, '10100', 37905)\n",
      "('mango', '2016-17', 2092, '11000', 31380)\n",
      "('eukalptus', '2014-15', 2003, '8000', 460690)\n",
      "('palmoil', '2018-19', 1955, '40000', 508300)\n",
      "('palmoil', '2017-18', 1915, '38000', 497900)\n",
      "('palmoil', '2016-17', 1866, '36000', 485160)\n",
      "('sugarcane', '2015-16', 1863, '230', 372600)\n",
      "('mango', '2017-18', 1829, '11500', 87435)\n",
      "('palmoil', '2015-16', 1792, '35000', 465920)\n",
      "('sugarcane', '2016-17', 1711, '230', 342200)\n",
      "('mango', '2018-19', 1627, '13000', 24405)\n",
      "('palmoil', '2014-15', 1487, '30000', 386620)\n",
      "('sugarcane', '2017-18', 1448, '255', 289600)\n",
      "('maize', '2017-18', 1369, '1425', 34225)\n",
      "('maize', '2016-17', 1325, '1365', 33125)\n"
     ]
    }
   ],
   "source": [
    "mycursor.execute(\"select * from crops where (area>1300 and area<4000)order by area desc\")\n",
    "for i in mycursor:\n",
    "    print(i)\n",
    "                 "
   ]
  },
  {
   "cell_type": "code",
   "execution_count": 22,
   "id": "ed7fc2ed",
   "metadata": {},
   "outputs": [
    {
     "name": "stdout",
     "output_type": "stream",
     "text": [
      "('rice', '2015-16', 15987, '1414', 383688)\n",
      "('rice', '2017-18', 15958, '1550', 382992)\n",
      "('rice', '2018-19', 15848, '1750', 380352)\n",
      "('rice', '2014-15', 15759, '1360', 378216)\n",
      "('rice', '2016-17', 15747, '1470', 377928)\n",
      "('mango', '2014-15', 3408, '10000', 51015)\n",
      "('eukalytus', '2018-19', 2668, '10000', 613640)\n",
      "('eukalytus', '2017-18', 2664, '9500', 612720)\n",
      "('sugarcane', '2014-15', 2627, '220', 525400)\n",
      "('eukalytus', '2016-17', 2585, '9000', 594550)\n"
     ]
    }
   ],
   "source": [
    "mycursor.execute(\"select * from crops order by area desc limit 10\")\n",
    "for i in mycursor:\n",
    "    print(i)\n",
    "                 "
   ]
  },
  {
   "cell_type": "code",
   "execution_count": 23,
   "id": "434a2b2f",
   "metadata": {},
   "outputs": [
    {
     "name": "stdout",
     "output_type": "stream",
     "text": [
      "('maize', '2016-17', 1325, '1365', 33125)\n",
      "('maize', '2017-18', 1369, '1425', 34225)\n",
      "('sugarcane', '2014-15', 2627, '220', 525400)\n",
      "('sugarcane', '2015-16', 1863, '230', 372600)\n",
      "('sugarcane', '2016-17', 1711, '230', 342200)\n",
      "('sugarcane', '2017-18', 1448, '255', 289600)\n",
      "('sugarcane', '2018-19', 1266, '275', 253200)\n"
     ]
    }
   ],
   "source": [
    "mycursor.execute(\"select * from crops where (area>1300 and crop='maize' or crop='sugarcane')\")\n",
    "for i in mycursor:\n",
    "    print(i)\n",
    "                 "
   ]
  },
  {
   "cell_type": "code",
   "execution_count": 24,
   "id": "5dda8e07",
   "metadata": {},
   "outputs": [
    {
     "name": "stdout",
     "output_type": "stream",
     "text": [
      "('rice', Decimal('79299'))\n",
      "('maize', Decimal('6071'))\n",
      "('greengram', Decimal('214'))\n",
      "('redgram', Decimal('27'))\n",
      "('red gram', Decimal('91'))\n",
      "('cotton', Decimal('730'))\n",
      "('turmeric', Decimal('21'))\n",
      "('sugarcane', Decimal('8915'))\n",
      "('mango', Decimal('11483'))\n",
      "('cashew nut', Decimal('1176'))\n",
      "('banana', Decimal('533'))\n",
      "('guava', Decimal('1428'))\n",
      "('lemon', Decimal('360'))\n",
      "('coconut', Decimal('801'))\n",
      "('sapota', Decimal('312'))\n",
      "('palmoil', Decimal('9015'))\n",
      "('eukalptus', Decimal('4551'))\n",
      "('eukalytus', Decimal('7917'))\n",
      "('malbari', Decimal('65'))\n",
      "('chedu vepa', Decimal('83'))\n",
      "('tekku', Decimal('171'))\n",
      "('errachandanam', Decimal('41'))\n"
     ]
    }
   ],
   "source": [
    "mycursor.execute(\"select crop,sum(area) from crops group by crop\")\n",
    "for i in mycursor:\n",
    "    print(i)\n",
    "                 "
   ]
  },
  {
   "cell_type": "code",
   "execution_count": 25,
   "id": "817bcff9",
   "metadata": {},
   "outputs": [
    {
     "name": "stdout",
     "output_type": "stream",
     "text": [
      "('2014-15', 3)\n",
      "('2015-16', 5)\n",
      "('2016-17', 2)\n",
      "('2017-18', 3)\n",
      "('2018-19', 6)\n"
     ]
    }
   ],
   "source": [
    "mycursor.execute(\"select year,Min(area)from crops group by year\")\n",
    "for i in mycursor:\n",
    "    print(i)\n",
    "                 "
   ]
  },
  {
   "cell_type": "code",
   "execution_count": 26,
   "id": "e6c07e0b",
   "metadata": {},
   "outputs": [
    {
     "name": "stdout",
     "output_type": "stream",
     "text": [
      "('rice', '2014-15', 15759, '1360', 378216)\n",
      "('rice', '2015-16', 15987, '1414', 383688)\n",
      "('rice', '2016-17', 15747, '1470', 377928)\n",
      "('rice', '2017-18', 15958, '1550', 382992)\n",
      "('rice', '2018-19', 15848, '1750', 380352)\n",
      "('maize', '2014-15', 1199, '1310', 29975)\n",
      "('maize', '2015-16', 1227, '1325', 30675)\n",
      "('maize', '2016-17', 1325, '1365', 33125)\n",
      "('maize', '2017-18', 1369, '1425', 34225)\n",
      "('maize', '2018-19', 951, '1700', 23775)\n"
     ]
    }
   ],
   "source": [
    "mycursor.execute(\"select * from crops limit 10\")\n",
    "for i in mycursor:\n",
    "    print(i)\n",
    "                 "
   ]
  },
  {
   "cell_type": "code",
   "execution_count": 27,
   "id": "71110856",
   "metadata": {},
   "outputs": [
    {
     "name": "stdout",
     "output_type": "stream",
     "text": [
      "('mango', '2014-15', 3408, '10000', 51015)\n",
      "('mango', '2015-16', 2527, '10100', 37905)\n",
      "('mango', '2016-17', 2092, '11000', 31380)\n",
      "('mango', '2017-18', 1829, '11500', 87435)\n",
      "('mango', '2018-19', 1627, '13000', 24405)\n",
      "('cashew nut', '2014-15', 284, '10000', 568)\n",
      "('cashew nut', '2015-16', 254, '11000', 508)\n",
      "('cashew nut', '2016-17', 223, '12000', 446)\n",
      "('cashew nut', '2017-18', 226, '13000', 452)\n",
      "('cashew nut', '2018-19', 189, '19000', 378)\n",
      "('banana', '2014-15', 116, '6000', 18560)\n",
      "('banana', '2015-16', 235, '7000', 43600)\n",
      "('banana', '2016-17', 76, '9000', 12160)\n",
      "('banana', '2017-18', 70, '10000', 11200)\n",
      "('banana', '2018-19', 36, '15000', 5760)\n"
     ]
    }
   ],
   "source": [
    "mycursor.execute(\"select * from crops limit 15 offset 35\")\n",
    "for i in mycursor:\n",
    "    print(i)\n",
    "                 "
   ]
  },
  {
   "cell_type": "code",
   "execution_count": null,
   "id": "461ebcde",
   "metadata": {},
   "outputs": [],
   "source": []
  }
 ],
 "metadata": {
  "kernelspec": {
   "display_name": "Python 3",
   "language": "python",
   "name": "python3"
  },
  "language_info": {
   "codemirror_mode": {
    "name": "ipython",
    "version": 3
   },
   "file_extension": ".py",
   "mimetype": "text/x-python",
   "name": "python",
   "nbconvert_exporter": "python",
   "pygments_lexer": "ipython3",
   "version": "3.8.8"
  }
 },
 "nbformat": 4,
 "nbformat_minor": 5
}
