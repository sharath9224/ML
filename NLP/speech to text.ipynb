{
 "cells": [
  {
   "cell_type": "code",
   "execution_count": 10,
   "id": "90613781",
   "metadata": {},
   "outputs": [
    {
     "name": "stdout",
     "output_type": "stream",
     "text": [
      "Requirement already satisfied: SpeechRecognition in c:\\users\\sharath reddy\\anaconda3\\lib\\site-packages (3.10.0)\n",
      "Requirement already satisfied: requests>=2.26.0 in c:\\users\\sharath reddy\\anaconda3\\lib\\site-packages (from SpeechRecognition) (2.31.0)\n",
      "Requirement already satisfied: certifi>=2017.4.17 in c:\\users\\sharath reddy\\anaconda3\\lib\\site-packages (from requests>=2.26.0->SpeechRecognition) (2020.12.5)\n",
      "Requirement already satisfied: charset-normalizer<4,>=2 in c:\\users\\sharath reddy\\anaconda3\\lib\\site-packages (from requests>=2.26.0->SpeechRecognition) (3.3.1)\n",
      "Requirement already satisfied: idna<4,>=2.5 in c:\\users\\sharath reddy\\anaconda3\\lib\\site-packages (from requests>=2.26.0->SpeechRecognition) (2.10)\n",
      "Requirement already satisfied: urllib3<3,>=1.21.1 in c:\\users\\sharath reddy\\anaconda3\\lib\\site-packages (from requests>=2.26.0->SpeechRecognition) (1.26.4)\n"
     ]
    }
   ],
   "source": [
    "!pip install SpeechRecognition"
   ]
  },
  {
   "cell_type": "code",
   "execution_count": 19,
   "id": "79112fe3",
   "metadata": {},
   "outputs": [
    {
     "name": "stdout",
     "output_type": "stream",
     "text": [
      "Collecting PyAudio\n",
      "  Downloading PyAudio-0.2.13-cp38-cp38-win_amd64.whl (164 kB)\n",
      "Installing collected packages: PyAudio\n",
      "Successfully installed PyAudio-0.2.13\n"
     ]
    }
   ],
   "source": [
    "!pip install PyAudio"
   ]
  },
  {
   "cell_type": "code",
   "execution_count": 20,
   "id": "9c6df40e",
   "metadata": {},
   "outputs": [
    {
     "name": "stdout",
     "output_type": "stream",
     "text": [
      "Speak....\n",
      "text:speak\n"
     ]
    }
   ],
   "source": [
    "import speech_recognition as sr\n",
    "r = sr.Recognizer()\n",
    "with sr.Microphone() as source:\n",
    "    print(\"Speak....\")\n",
    "    audio = r.listen(source)\n",
    "try:\n",
    "    print(\"text:\" + r.recognize_google(audio))\n",
    "except Exception:\n",
    "    print(\"Its not clear...\")"
   ]
  },
  {
   "cell_type": "code",
   "execution_count": null,
   "id": "4f0d41f1",
   "metadata": {},
   "outputs": [],
   "source": [
    "#pip install pipwin"
   ]
  }
 ],
 "metadata": {
  "kernelspec": {
   "display_name": "Python 3",
   "language": "python",
   "name": "python3"
  },
  "language_info": {
   "codemirror_mode": {
    "name": "ipython",
    "version": 3
   },
   "file_extension": ".py",
   "mimetype": "text/x-python",
   "name": "python",
   "nbconvert_exporter": "python",
   "pygments_lexer": "ipython3",
   "version": "3.8.8"
  }
 },
 "nbformat": 4,
 "nbformat_minor": 5
}
