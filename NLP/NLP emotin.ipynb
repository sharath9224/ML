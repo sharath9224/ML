{
 "cells": [
  {
   "cell_type": "code",
   "execution_count": 14,
   "id": "49bfd036",
   "metadata": {},
   "outputs": [],
   "source": [
    "#!pip install pysentimiento"
   ]
  },
  {
   "cell_type": "code",
   "execution_count": 1,
   "id": "620ad8d7",
   "metadata": {},
   "outputs": [],
   "source": [
    "from pysentimiento import create_analyzer"
   ]
  },
  {
   "cell_type": "code",
   "execution_count": 6,
   "id": "cdc35f5e",
   "metadata": {},
   "outputs": [],
   "source": [
    "a=create_analyzer(task=\"emotion\",lang='en')\n"
   ]
  },
  {
   "cell_type": "code",
   "execution_count": 10,
   "id": "f569775f",
   "metadata": {},
   "outputs": [],
   "source": [
    "result=a.predict(\"get out of my mother land\")"
   ]
  },
  {
   "cell_type": "code",
   "execution_count": 11,
   "id": "04fa93ca",
   "metadata": {},
   "outputs": [
    {
     "data": {
      "text/plain": [
       "'anger'"
      ]
     },
     "execution_count": 11,
     "metadata": {},
     "output_type": "execute_result"
    }
   ],
   "source": [
    "result.output"
   ]
  },
  {
   "cell_type": "markdown",
   "id": "3c01e990",
   "metadata": {},
   "source": [
    "# hate speech detection\n"
   ]
  },
  {
   "cell_type": "code",
   "execution_count": 22,
   "id": "67fcb2d3",
   "metadata": {},
   "outputs": [
    {
     "data": {
      "text/plain": [
       "('hateful', 0.030543195083737373)"
      ]
     },
     "execution_count": 22,
     "metadata": {},
     "output_type": "execute_result"
    }
   ],
   "source": [
    "hatespeech=create_analyzer(task='hate_speech',lang='en')\n",
    "result=hatespeech.predict(\"i love playing basketball\")\n",
    "next(iter(result.probas.items()),None)"
   ]
  },
  {
   "cell_type": "code",
   "execution_count": null,
   "id": "7f3e75f8",
   "metadata": {},
   "outputs": [],
   "source": []
  }
 ],
 "metadata": {
  "kernelspec": {
   "display_name": "Python 3",
   "language": "python",
   "name": "python3"
  },
  "language_info": {
   "codemirror_mode": {
    "name": "ipython",
    "version": 3
   },
   "file_extension": ".py",
   "mimetype": "text/x-python",
   "name": "python",
   "nbconvert_exporter": "python",
   "pygments_lexer": "ipython3",
   "version": "3.8.8"
  }
 },
 "nbformat": 4,
 "nbformat_minor": 5
}
