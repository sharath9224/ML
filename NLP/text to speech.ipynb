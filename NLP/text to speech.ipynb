{
 "cells": [
  {
   "cell_type": "code",
   "execution_count": 5,
   "id": "29e309ec",
   "metadata": {},
   "outputs": [],
   "source": [
    "#!pip install gtts\n",
    "#!pip install newspaper3k\n"
   ]
  },
  {
   "cell_type": "code",
   "execution_count": 6,
   "id": "19171712",
   "metadata": {},
   "outputs": [],
   "source": [
    "from newspaper import Article\n",
    "import nltk\n",
    "from gtts import gTTS #google text to speech\n",
    "import os"
   ]
  },
  {
   "cell_type": "code",
   "execution_count": 7,
   "id": "4212407e",
   "metadata": {},
   "outputs": [
    {
     "data": {
      "text/plain": [
       "0"
      ]
     },
     "execution_count": 7,
     "metadata": {},
     "output_type": "execute_result"
    }
   ],
   "source": [
    "'''\n",
    "test=\"hi every one ,god morning ,have a nice day\"\n",
    "language=\"en\"\n",
    "myobj=gTTS(text=test, lang=language, slow=False)\n",
    "\n",
    "myobj.save(\"read.mp3\")\n",
    "os.system(\"start read.mp3\")\n",
    "'''"
   ]
  },
  {
   "cell_type": "code",
   "execution_count": 12,
   "id": "adcf66c8",
   "metadata": {},
   "outputs": [],
   "source": [
    "#article=Article(\"https://www.timesnownews.com/india/imd-weather-update-fresh-rainfall-spell-to-commencer-over-parts-of-south-india-from-nov-2-complete-forecast-article-104824612\")\n",
    "article=Article(\"https://www.jagran.com/news/national-kerala-blasts-who-is-kochi-blast-accused-dominic-martin-neighbors-made-shocking-revelations-23568791.html\")"
   ]
  },
  {
   "cell_type": "code",
   "execution_count": 13,
   "id": "82ac03fe",
   "metadata": {},
   "outputs": [
    {
     "data": {
      "text/plain": [
       "'\\narticle.download()\\narticle.parse()\\narticle.nlp()\\nlanguage=\"en\"\\nmytext=article.text\\nmyobj=gTTS(text=mytext,lang=language,slow=False)\\nmyobj.save(\"read2.mp3\")\\nos.system(\"start read2.mp3\")\\n'"
      ]
     },
     "execution_count": 13,
     "metadata": {},
     "output_type": "execute_result"
    }
   ],
   "source": [
    "#english\n",
    "'''\n",
    "article.download()\n",
    "article.parse()\n",
    "article.nlp()\n",
    "language=\"en\"\n",
    "mytext=article.text\n",
    "myobj=gTTS(text=mytext,lang=language,slow=False)\n",
    "myobj.save(\"read2.mp3\")\n",
    "os.system(\"start read2.mp3\")\n",
    "'''"
   ]
  },
  {
   "cell_type": "code",
   "execution_count": 16,
   "id": "e1bd32ab",
   "metadata": {},
   "outputs": [
    {
     "data": {
      "text/plain": [
       "0"
      ]
     },
     "execution_count": 16,
     "metadata": {},
     "output_type": "execute_result"
    }
   ],
   "source": [
    "#hindi\n",
    "article.download()\n",
    "article.parse()\n",
    "article.nlp()\n",
    "language=\"hi\"\n",
    "mytext=article.text\n",
    "myobj=gTTS(text=mytext,lang=language,slow=False)\n",
    "myobj.save(\"read3.mp3\")\n",
    "os.system(\"start read3.mp3\")"
   ]
  },
  {
   "cell_type": "code",
   "execution_count": null,
   "id": "ab6825e4",
   "metadata": {},
   "outputs": [],
   "source": []
  }
 ],
 "metadata": {
  "kernelspec": {
   "display_name": "Python 3",
   "language": "python",
   "name": "python3"
  },
  "language_info": {
   "codemirror_mode": {
    "name": "ipython",
    "version": 3
   },
   "file_extension": ".py",
   "mimetype": "text/x-python",
   "name": "python",
   "nbconvert_exporter": "python",
   "pygments_lexer": "ipython3",
   "version": "3.8.8"
  }
 },
 "nbformat": 4,
 "nbformat_minor": 5
}
