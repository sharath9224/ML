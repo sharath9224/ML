{
 "cells": [
  {
   "cell_type": "code",
   "execution_count": 1,
   "id": "64f02704",
   "metadata": {},
   "outputs": [],
   "source": [
    "import numpy as np\n",
    "import matplotlib.pyplot as plt\n",
    "import pandas as pd"
   ]
  },
  {
   "cell_type": "code",
   "execution_count": 2,
   "id": "1f106fcc",
   "metadata": {},
   "outputs": [],
   "source": [
    "dataset = pd.read_csv('Churn_Modelling.csv')"
   ]
  },
  {
   "cell_type": "code",
   "execution_count": 3,
   "id": "5e1b2cee",
   "metadata": {},
   "outputs": [],
   "source": [
    "X = dataset.iloc[:, 3:13].values\n",
    "y = dataset.iloc[:, 13].values"
   ]
  },
  {
   "cell_type": "code",
   "execution_count": 4,
   "id": "1718fa94",
   "metadata": {},
   "outputs": [],
   "source": [
    "from sklearn.preprocessing import LabelEncoder, OneHotEncoder"
   ]
  },
  {
   "cell_type": "code",
   "execution_count": 5,
   "id": "ebf3c582",
   "metadata": {},
   "outputs": [],
   "source": [
    "labelencoder_X_1 = LabelEncoder()\n",
    "X[:, 1] = labelencoder_X_1.fit_transform(X[:, 1])\n",
    "labelencoder_X_2 = LabelEncoder()\n",
    "X[:, 2] = labelencoder_X_2.fit_transform(X[:, 2])"
   ]
  },
  {
   "cell_type": "code",
   "execution_count": 6,
   "id": "964b1eae",
   "metadata": {},
   "outputs": [],
   "source": [
    "from sklearn.preprocessing import OneHotEncoder\n",
    "from sklearn.compose import ColumnTransformer\n",
    "transformer = ColumnTransformer(transformers=[(\"dummy\",OneHotEncoder(categories='auto'),[1])],remainder='passthrough')"
   ]
  },
  {
   "cell_type": "code",
   "execution_count": 7,
   "id": "b0b56056",
   "metadata": {},
   "outputs": [],
   "source": [
    "X = transformer.fit_transform(X.tolist())\n",
    "X = X[:, 1:]"
   ]
  },
  {
   "cell_type": "code",
   "execution_count": 8,
   "id": "49e7179a",
   "metadata": {},
   "outputs": [],
   "source": [
    "from sklearn.model_selection import train_test_split\n",
    "X_train, X_test, y_train, y_test = train_test_split(X, y, test_size = 0.2)"
   ]
  },
  {
   "cell_type": "code",
   "execution_count": 9,
   "id": "b2b3170d",
   "metadata": {},
   "outputs": [],
   "source": [
    "from sklearn.preprocessing import StandardScaler\n",
    "sc = StandardScaler()\n",
    "X_train = sc.fit_transform(X_train)\n",
    "X_test = sc.transform(X_test)"
   ]
  },
  {
   "cell_type": "code",
   "execution_count": 10,
   "id": "a458ffe1",
   "metadata": {},
   "outputs": [],
   "source": [
    "import keras\n",
    "from keras.models import Sequential\n",
    "from keras.layers import Dense"
   ]
  },
  {
   "cell_type": "code",
   "execution_count": 11,
   "id": "dd80cd9d",
   "metadata": {},
   "outputs": [],
   "source": [
    "#Initializing Neural Network\n",
    "classifier = Sequential()"
   ]
  },
  {
   "cell_type": "code",
   "execution_count": 12,
   "id": "a5a4bda4",
   "metadata": {},
   "outputs": [],
   "source": [
    "# Adding the input layer and the first hidden layer\n",
    "classifier.add(Dense(units = 6, kernel_initializer = 'uniform', activation = 'relu', input_dim = 11))\n",
    "classifier.add(Dense(units = 6, kernel_initializer = 'uniform', activation = 'relu'))\n",
    "classifier.add(Dense(activation=\"sigmoid\", units=1, kernel_initializer=\"uniform\"))"
   ]
  },
  {
   "cell_type": "code",
   "execution_count": 25,
   "id": "3367252a",
   "metadata": {},
   "outputs": [
    {
     "name": "stdout",
     "output_type": "stream",
     "text": [
      "Epoch 1/25\n",
      "250/250 [==============================] - 1s 1ms/step - loss: 0.4041 - accuracy: 0.8349\n",
      "Epoch 2/25\n",
      "250/250 [==============================] - 0s 1ms/step - loss: 0.4035 - accuracy: 0.8354\n",
      "Epoch 3/25\n",
      "250/250 [==============================] - 0s 1ms/step - loss: 0.4035 - accuracy: 0.8355\n",
      "Epoch 4/25\n",
      "250/250 [==============================] - 0s 1ms/step - loss: 0.4034 - accuracy: 0.8353\n",
      "Epoch 5/25\n",
      "250/250 [==============================] - 0s 1ms/step - loss: 0.4033 - accuracy: 0.8357\n",
      "Epoch 6/25\n",
      "250/250 [==============================] - 0s 1ms/step - loss: 0.4030 - accuracy: 0.8364\n",
      "Epoch 7/25\n",
      "250/250 [==============================] - 0s 1ms/step - loss: 0.4036 - accuracy: 0.8344\n",
      "Epoch 8/25\n",
      "250/250 [==============================] - 0s 1ms/step - loss: 0.4031 - accuracy: 0.8355\n",
      "Epoch 9/25\n",
      "250/250 [==============================] - 0s 1ms/step - loss: 0.4033 - accuracy: 0.8357\n",
      "Epoch 10/25\n",
      "250/250 [==============================] - 0s 1ms/step - loss: 0.4031 - accuracy: 0.8342\n",
      "Epoch 11/25\n",
      "250/250 [==============================] - 0s 1ms/step - loss: 0.4028 - accuracy: 0.8361\n",
      "Epoch 12/25\n",
      "250/250 [==============================] - 0s 1ms/step - loss: 0.4029 - accuracy: 0.8365\n",
      "Epoch 13/25\n",
      "250/250 [==============================] - 0s 1ms/step - loss: 0.4032 - accuracy: 0.8340\n",
      "Epoch 14/25\n",
      "250/250 [==============================] - 0s 1ms/step - loss: 0.4022 - accuracy: 0.8357\n",
      "Epoch 15/25\n",
      "250/250 [==============================] - 0s 1ms/step - loss: 0.4027 - accuracy: 0.8357\n",
      "Epoch 16/25\n",
      "250/250 [==============================] - 0s 1ms/step - loss: 0.4026 - accuracy: 0.8353\n",
      "Epoch 17/25\n",
      "250/250 [==============================] - 0s 1ms/step - loss: 0.4030 - accuracy: 0.8363\n",
      "Epoch 18/25\n",
      "250/250 [==============================] - 0s 1ms/step - loss: 0.4024 - accuracy: 0.8349\n",
      "Epoch 19/25\n",
      "250/250 [==============================] - 0s 1ms/step - loss: 0.4025 - accuracy: 0.8351\n",
      "Epoch 20/25\n",
      "250/250 [==============================] - 0s 1ms/step - loss: 0.4023 - accuracy: 0.8350\n",
      "Epoch 21/25\n",
      "250/250 [==============================] - 0s 1ms/step - loss: 0.4022 - accuracy: 0.8355\n",
      "Epoch 22/25\n",
      "250/250 [==============================] - 0s 1ms/step - loss: 0.4023 - accuracy: 0.8344\n",
      "Epoch 23/25\n",
      "250/250 [==============================] - 0s 1ms/step - loss: 0.4024 - accuracy: 0.8354\n",
      "Epoch 24/25\n",
      "250/250 [==============================] - 0s 1ms/step - loss: 0.4019 - accuracy: 0.8349\n",
      "Epoch 25/25\n",
      "250/250 [==============================] - 0s 1ms/step - loss: 0.4022 - accuracy: 0.8353\n"
     ]
    },
    {
     "data": {
      "text/plain": [
       "<keras.src.callbacks.History at 0x213293942e0>"
      ]
     },
     "execution_count": 25,
     "metadata": {},
     "output_type": "execute_result"
    }
   ],
   "source": [
    "# Compiling Neural Network\n",
    "classifier.compile(optimizer = 'adam', loss = 'binary_crossentropy', metrics = ['accuracy'])\n",
    "# Fitting our model \n",
    "classifier.fit(X_train, y_train, batch_size = 32, epochs = 25)\n"
   ]
  },
  {
   "cell_type": "code",
   "execution_count": 26,
   "id": "563bf324",
   "metadata": {},
   "outputs": [
    {
     "name": "stdout",
     "output_type": "stream",
     "text": [
      "63/63 [==============================] - 0s 863us/step\n"
     ]
    }
   ],
   "source": [
    "# Predicting the Test set results\n",
    "y_pred = classifier.predict(X_test)\n",
    "y_pred = (y_pred > 0.5)"
   ]
  },
  {
   "cell_type": "code",
   "execution_count": 27,
   "id": "fb507a87",
   "metadata": {},
   "outputs": [
    {
     "name": "stdout",
     "output_type": "stream",
     "text": [
      "[[1559   48]\n",
      " [ 277  116]]\n",
      "Accuracy : 0.8375\n"
     ]
    }
   ],
   "source": [
    "from sklearn import metrics\n",
    "from sklearn.metrics import confusion_matrix\n",
    "cm = confusion_matrix(y_test, y_pred)\n",
    "print(cm)\n",
    "print(\"Accuracy :\",metrics.accuracy_score(y_test, y_pred))"
   ]
  },
  {
   "cell_type": "code",
   "execution_count": null,
   "id": "eb9d5be0",
   "metadata": {},
   "outputs": [],
   "source": []
  }
 ],
 "metadata": {
  "kernelspec": {
   "display_name": "Python 3",
   "language": "python",
   "name": "python3"
  },
  "language_info": {
   "codemirror_mode": {
    "name": "ipython",
    "version": 3
   },
   "file_extension": ".py",
   "mimetype": "text/x-python",
   "name": "python",
   "nbconvert_exporter": "python",
   "pygments_lexer": "ipython3",
   "version": "3.8.8"
  }
 },
 "nbformat": 4,
 "nbformat_minor": 5
}
