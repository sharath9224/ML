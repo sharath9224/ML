{
 "cells": [
  {
   "cell_type": "markdown",
   "id": "320baa57",
   "metadata": {},
   "source": [
    "# Data Preprocessing"
   ]
  },
  {
   "cell_type": "code",
   "execution_count": 1,
   "id": "58581288",
   "metadata": {},
   "outputs": [],
   "source": [
    "import numpy as np\n",
    "import pandas as pd\n",
    "import matplotlib.pyplot as plt\n",
    "from sklearn.datasets import load_digits\n",
    "from sklearn.model_selection import train_test_split"
   ]
  },
  {
   "cell_type": "code",
   "execution_count": 2,
   "id": "b370e419",
   "metadata": {},
   "outputs": [
    {
     "data": {
      "text/plain": [
       "{'data': array([[ 0.,  0.,  5., ...,  0.,  0.,  0.],\n",
       "        [ 0.,  0.,  0., ..., 10.,  0.,  0.],\n",
       "        [ 0.,  0.,  0., ..., 16.,  9.,  0.],\n",
       "        ...,\n",
       "        [ 0.,  0.,  1., ...,  6.,  0.,  0.],\n",
       "        [ 0.,  0.,  2., ..., 12.,  0.,  0.],\n",
       "        [ 0.,  0., 10., ..., 12.,  1.,  0.]]),\n",
       " 'target': array([0, 1, 2, ..., 8, 9, 8]),\n",
       " 'frame': None,\n",
       " 'feature_names': ['pixel_0_0',\n",
       "  'pixel_0_1',\n",
       "  'pixel_0_2',\n",
       "  'pixel_0_3',\n",
       "  'pixel_0_4',\n",
       "  'pixel_0_5',\n",
       "  'pixel_0_6',\n",
       "  'pixel_0_7',\n",
       "  'pixel_1_0',\n",
       "  'pixel_1_1',\n",
       "  'pixel_1_2',\n",
       "  'pixel_1_3',\n",
       "  'pixel_1_4',\n",
       "  'pixel_1_5',\n",
       "  'pixel_1_6',\n",
       "  'pixel_1_7',\n",
       "  'pixel_2_0',\n",
       "  'pixel_2_1',\n",
       "  'pixel_2_2',\n",
       "  'pixel_2_3',\n",
       "  'pixel_2_4',\n",
       "  'pixel_2_5',\n",
       "  'pixel_2_6',\n",
       "  'pixel_2_7',\n",
       "  'pixel_3_0',\n",
       "  'pixel_3_1',\n",
       "  'pixel_3_2',\n",
       "  'pixel_3_3',\n",
       "  'pixel_3_4',\n",
       "  'pixel_3_5',\n",
       "  'pixel_3_6',\n",
       "  'pixel_3_7',\n",
       "  'pixel_4_0',\n",
       "  'pixel_4_1',\n",
       "  'pixel_4_2',\n",
       "  'pixel_4_3',\n",
       "  'pixel_4_4',\n",
       "  'pixel_4_5',\n",
       "  'pixel_4_6',\n",
       "  'pixel_4_7',\n",
       "  'pixel_5_0',\n",
       "  'pixel_5_1',\n",
       "  'pixel_5_2',\n",
       "  'pixel_5_3',\n",
       "  'pixel_5_4',\n",
       "  'pixel_5_5',\n",
       "  'pixel_5_6',\n",
       "  'pixel_5_7',\n",
       "  'pixel_6_0',\n",
       "  'pixel_6_1',\n",
       "  'pixel_6_2',\n",
       "  'pixel_6_3',\n",
       "  'pixel_6_4',\n",
       "  'pixel_6_5',\n",
       "  'pixel_6_6',\n",
       "  'pixel_6_7',\n",
       "  'pixel_7_0',\n",
       "  'pixel_7_1',\n",
       "  'pixel_7_2',\n",
       "  'pixel_7_3',\n",
       "  'pixel_7_4',\n",
       "  'pixel_7_5',\n",
       "  'pixel_7_6',\n",
       "  'pixel_7_7'],\n",
       " 'target_names': array([0, 1, 2, 3, 4, 5, 6, 7, 8, 9]),\n",
       " 'images': array([[[ 0.,  0.,  5., ...,  1.,  0.,  0.],\n",
       "         [ 0.,  0., 13., ..., 15.,  5.,  0.],\n",
       "         [ 0.,  3., 15., ..., 11.,  8.,  0.],\n",
       "         ...,\n",
       "         [ 0.,  4., 11., ..., 12.,  7.,  0.],\n",
       "         [ 0.,  2., 14., ..., 12.,  0.,  0.],\n",
       "         [ 0.,  0.,  6., ...,  0.,  0.,  0.]],\n",
       " \n",
       "        [[ 0.,  0.,  0., ...,  5.,  0.,  0.],\n",
       "         [ 0.,  0.,  0., ...,  9.,  0.,  0.],\n",
       "         [ 0.,  0.,  3., ...,  6.,  0.,  0.],\n",
       "         ...,\n",
       "         [ 0.,  0.,  1., ...,  6.,  0.,  0.],\n",
       "         [ 0.,  0.,  1., ...,  6.,  0.,  0.],\n",
       "         [ 0.,  0.,  0., ..., 10.,  0.,  0.]],\n",
       " \n",
       "        [[ 0.,  0.,  0., ..., 12.,  0.,  0.],\n",
       "         [ 0.,  0.,  3., ..., 14.,  0.,  0.],\n",
       "         [ 0.,  0.,  8., ..., 16.,  0.,  0.],\n",
       "         ...,\n",
       "         [ 0.,  9., 16., ...,  0.,  0.,  0.],\n",
       "         [ 0.,  3., 13., ..., 11.,  5.,  0.],\n",
       "         [ 0.,  0.,  0., ..., 16.,  9.,  0.]],\n",
       " \n",
       "        ...,\n",
       " \n",
       "        [[ 0.,  0.,  1., ...,  1.,  0.,  0.],\n",
       "         [ 0.,  0., 13., ...,  2.,  1.,  0.],\n",
       "         [ 0.,  0., 16., ..., 16.,  5.,  0.],\n",
       "         ...,\n",
       "         [ 0.,  0., 16., ..., 15.,  0.,  0.],\n",
       "         [ 0.,  0., 15., ..., 16.,  0.,  0.],\n",
       "         [ 0.,  0.,  2., ...,  6.,  0.,  0.]],\n",
       " \n",
       "        [[ 0.,  0.,  2., ...,  0.,  0.,  0.],\n",
       "         [ 0.,  0., 14., ..., 15.,  1.,  0.],\n",
       "         [ 0.,  4., 16., ..., 16.,  7.,  0.],\n",
       "         ...,\n",
       "         [ 0.,  0.,  0., ..., 16.,  2.,  0.],\n",
       "         [ 0.,  0.,  4., ..., 16.,  2.,  0.],\n",
       "         [ 0.,  0.,  5., ..., 12.,  0.,  0.]],\n",
       " \n",
       "        [[ 0.,  0., 10., ...,  1.,  0.,  0.],\n",
       "         [ 0.,  2., 16., ...,  1.,  0.,  0.],\n",
       "         [ 0.,  0., 15., ..., 15.,  0.,  0.],\n",
       "         ...,\n",
       "         [ 0.,  4., 16., ..., 16.,  6.,  0.],\n",
       "         [ 0.,  8., 16., ..., 16.,  8.,  0.],\n",
       "         [ 0.,  1.,  8., ..., 12.,  1.,  0.]]]),\n",
       " 'DESCR': \".. _digits_dataset:\\n\\nOptical recognition of handwritten digits dataset\\n--------------------------------------------------\\n\\n**Data Set Characteristics:**\\n\\n    :Number of Instances: 1797\\n    :Number of Attributes: 64\\n    :Attribute Information: 8x8 image of integer pixels in the range 0..16.\\n    :Missing Attribute Values: None\\n    :Creator: E. Alpaydin (alpaydin '@' boun.edu.tr)\\n    :Date: July; 1998\\n\\nThis is a copy of the test set of the UCI ML hand-written digits datasets\\nhttps://archive.ics.uci.edu/ml/datasets/Optical+Recognition+of+Handwritten+Digits\\n\\nThe data set contains images of hand-written digits: 10 classes where\\neach class refers to a digit.\\n\\nPreprocessing programs made available by NIST were used to extract\\nnormalized bitmaps of handwritten digits from a preprinted form. From a\\ntotal of 43 people, 30 contributed to the training set and different 13\\nto the test set. 32x32 bitmaps are divided into nonoverlapping blocks of\\n4x4 and the number of on pixels are counted in each block. This generates\\nan input matrix of 8x8 where each element is an integer in the range\\n0..16. This reduces dimensionality and gives invariance to small\\ndistortions.\\n\\nFor info on NIST preprocessing routines, see M. D. Garris, J. L. Blue, G.\\nT. Candela, D. L. Dimmick, J. Geist, P. J. Grother, S. A. Janet, and C.\\nL. Wilson, NIST Form-Based Handprint Recognition System, NISTIR 5469,\\n1994.\\n\\n|details-start|\\n**References**\\n|details-split|\\n\\n- C. Kaynak (1995) Methods of Combining Multiple Classifiers and Their\\n  Applications to Handwritten Digit Recognition, MSc Thesis, Institute of\\n  Graduate Studies in Science and Engineering, Bogazici University.\\n- E. Alpaydin, C. Kaynak (1998) Cascading Classifiers, Kybernetika.\\n- Ken Tang and Ponnuthurai N. Suganthan and Xi Yao and A. Kai Qin.\\n  Linear dimensionalityreduction using relevance weighted LDA. School of\\n  Electrical and Electronic Engineering Nanyang Technological University.\\n  2005.\\n- Claudio Gentile. A New Approximate Maximal Margin Classification\\n  Algorithm. NIPS. 2000.\\n\\n|details-end|\"}"
      ]
     },
     "execution_count": 2,
     "metadata": {},
     "output_type": "execute_result"
    }
   ],
   "source": [
    "digits=load_digits()\n",
    "#digits"
   ]
  },
  {
   "cell_type": "code",
   "execution_count": 3,
   "id": "f83c3c95",
   "metadata": {},
   "outputs": [
    {
     "data": {
      "text/plain": [
       "['DESCR', 'data', 'feature_names', 'frame', 'images', 'target', 'target_names']"
      ]
     },
     "execution_count": 3,
     "metadata": {},
     "output_type": "execute_result"
    }
   ],
   "source": [
    "dir(digits)"
   ]
  },
  {
   "cell_type": "code",
   "execution_count": 4,
   "id": "21bd4a8c",
   "metadata": {},
   "outputs": [
    {
     "data": {
      "text/plain": [
       "array([[ 0.,  0.,  5., ...,  0.,  0.,  0.],\n",
       "       [ 0.,  0.,  0., ..., 10.,  0.,  0.],\n",
       "       [ 0.,  0.,  0., ..., 16.,  9.,  0.],\n",
       "       ...,\n",
       "       [ 0.,  0.,  1., ...,  6.,  0.,  0.],\n",
       "       [ 0.,  0.,  2., ..., 12.,  0.,  0.],\n",
       "       [ 0.,  0., 10., ..., 12.,  1.,  0.]])"
      ]
     },
     "execution_count": 4,
     "metadata": {},
     "output_type": "execute_result"
    }
   ],
   "source": [
    "digits.data"
   ]
  },
  {
   "cell_type": "code",
   "execution_count": 5,
   "id": "728a4032",
   "metadata": {},
   "outputs": [
    {
     "data": {
      "text/plain": [
       "array([[ 0.,  0.,  5., ...,  0.,  0.,  0.],\n",
       "       [ 0.,  0.,  0., ..., 10.,  0.,  0.],\n",
       "       [ 0.,  0.,  0., ..., 16.,  9.,  0.],\n",
       "       ...,\n",
       "       [ 0.,  0.,  1., ...,  6.,  0.,  0.],\n",
       "       [ 0.,  0.,  2., ..., 12.,  0.,  0.],\n",
       "       [ 0.,  0., 10., ..., 12.,  1.,  0.]])"
      ]
     },
     "execution_count": 5,
     "metadata": {},
     "output_type": "execute_result"
    }
   ],
   "source": [
    "data = digits.images.reshape((len(digits.images), -1))\n",
    "data"
   ]
  },
  {
   "cell_type": "code",
   "execution_count": 6,
   "id": "ffcc9bbc",
   "metadata": {},
   "outputs": [
    {
     "data": {
      "text/plain": [
       "array([[0., 0., 0., ..., 0., 0., 0.],\n",
       "       [0., 0., 0., ..., 0., 0., 0.],\n",
       "       [0., 0., 0., ..., 9., 0., 0.],\n",
       "       ...,\n",
       "       [0., 0., 0., ..., 0., 0., 0.],\n",
       "       [0., 0., 0., ..., 0., 0., 0.],\n",
       "       [0., 0., 0., ..., 1., 0., 0.]])"
      ]
     },
     "execution_count": 6,
     "metadata": {},
     "output_type": "execute_result"
    }
   ],
   "source": [
    "data = np.pad(data, ((0, 0), (1, 1)), mode='constant')\n",
    "data"
   ]
  },
  {
   "cell_type": "code",
   "execution_count": 7,
   "id": "60a6968a",
   "metadata": {},
   "outputs": [],
   "source": [
    "X_train, X_temp, y_train, y_temp = train_test_split(data, digits.target, test_size=0.2, stratify=digits.target)\n",
    "X_val, X_test, y_val, y_test = train_test_split(X_temp, y_temp, test_size=0.5, stratify=y_temp)\n"
   ]
  },
  {
   "cell_type": "code",
   "execution_count": 8,
   "id": "0b4e092c",
   "metadata": {},
   "outputs": [
    {
     "data": {
      "text/plain": [
       "(1437, 66)"
      ]
     },
     "execution_count": 8,
     "metadata": {},
     "output_type": "execute_result"
    }
   ],
   "source": [
    "X_train.shape"
   ]
  },
  {
   "cell_type": "code",
   "execution_count": 9,
   "id": "29d724b8",
   "metadata": {},
   "outputs": [
    {
     "data": {
      "text/plain": [
       "(180, 66)"
      ]
     },
     "execution_count": 9,
     "metadata": {},
     "output_type": "execute_result"
    }
   ],
   "source": [
    "X_test.shape"
   ]
  },
  {
   "cell_type": "code",
   "execution_count": 10,
   "id": "d6aa9cbf",
   "metadata": {},
   "outputs": [
    {
     "data": {
      "text/plain": [
       "(360, 66)"
      ]
     },
     "execution_count": 10,
     "metadata": {},
     "output_type": "execute_result"
    }
   ],
   "source": [
    "X_temp.shape"
   ]
  },
  {
   "cell_type": "code",
   "execution_count": null,
   "id": "bfda9607",
   "metadata": {},
   "outputs": [],
   "source": []
  },
  {
   "cell_type": "markdown",
   "id": "aba55a5f",
   "metadata": {},
   "source": [
    "# Implement perceptron and evaluate its performance"
   ]
  },
  {
   "cell_type": "code",
   "execution_count": 49,
   "id": "6b2a0dd0",
   "metadata": {},
   "outputs": [],
   "source": [
    "class Perceptron:\n",
    "    def __init__(self, learning_rate, epochs):\n",
    "        self.lr = learning_rate\n",
    "        self.epochs = epochs\n",
    "        self.weights = np.zeros(X_train.shape[1])\n",
    "\n",
    "    def fit(self, X, y):\n",
    "        for epoch in range(self.epochs):\n",
    "            for i in range(X.shape[0]):\n",
    "                x = X[i]\n",
    "                y_pred = np.dot(self.weights, x)\n",
    "                y_error = y[i] - y_pred\n",
    "                self.weights += self.lr * y_error * x\n",
    "\n",
    "    def predict(self, X):\n",
    "        y_pred = np.dot(self.weights, X.T)\n",
    "        return np.sign(y_pred)\n"
   ]
  },
  {
   "cell_type": "code",
   "execution_count": 14,
   "id": "cf2ba152",
   "metadata": {},
   "outputs": [
    {
     "name": "stdout",
     "output_type": "stream",
     "text": [
      "\n",
      "Training Perceptron with linear activation:\n",
      "Epoch 1/30 - Training Loss: 2.3234\n",
      "Epoch 2/30 - Training Loss: 2.3234\n",
      "Epoch 3/30 - Training Loss: 2.3234\n",
      "Epoch 4/30 - Training Loss: 2.3234\n",
      "Epoch 5/30 - Training Loss: 2.3234\n",
      "Epoch 6/30 - Training Loss: 2.3234\n",
      "Epoch 7/30 - Training Loss: 2.3234\n",
      "Epoch 8/30 - Training Loss: 2.3234\n",
      "Epoch 9/30 - Training Loss: 2.3234\n",
      "Epoch 10/30 - Training Loss: 2.3234\n",
      "Epoch 11/30 - Training Loss: 2.3234\n",
      "Epoch 12/30 - Training Loss: 2.3234\n",
      "Epoch 13/30 - Training Loss: 2.3234\n",
      "Epoch 14/30 - Training Loss: 2.3234\n",
      "Epoch 15/30 - Training Loss: 2.3234\n",
      "Epoch 16/30 - Training Loss: 2.3234\n",
      "Epoch 17/30 - Training Loss: 2.3234\n",
      "Epoch 18/30 - Training Loss: 2.3234\n",
      "Epoch 19/30 - Training Loss: 2.3234\n",
      "Epoch 20/30 - Training Loss: 2.3234\n",
      "Epoch 21/30 - Training Loss: 2.3234\n",
      "Epoch 22/30 - Training Loss: 2.3234\n",
      "Epoch 23/30 - Training Loss: 2.3234\n",
      "Epoch 24/30 - Training Loss: 2.3234\n",
      "Epoch 25/30 - Training Loss: 2.3234\n",
      "Epoch 26/30 - Training Loss: 2.3234\n",
      "Epoch 27/30 - Training Loss: 2.3234\n",
      "Epoch 28/30 - Training Loss: 2.3234\n",
      "Epoch 29/30 - Training Loss: 2.3234\n",
      "Epoch 30/30 - Training Loss: 2.3234\n"
     ]
    },
    {
     "data": {
      "image/png": "[encoded data removed]",
      "text/plain": [
       "<Figure size 432x288 with 1 Axes>"
      ]
     },
     "metadata": {
      "needs_background": "light"
     },
     "output_type": "display_data"
    },
    {
     "name": "stdout",
     "output_type": "stream",
     "text": [
      "Activation function: linear\n",
      "F1 score: 0.0000\n",
      "\n",
      "Training Perceptron with sigmoid activation:\n",
      "Epoch 1/30 - Training Loss: 20.7024\n",
      "Epoch 2/30 - Training Loss: 20.7024\n",
      "Epoch 3/30 - Training Loss: 20.7024\n",
      "Epoch 4/30 - Training Loss: 20.7024\n",
      "Epoch 5/30 - Training Loss: 20.7024\n",
      "Epoch 6/30 - Training Loss: 20.7024\n",
      "Epoch 7/30 - Training Loss: 20.7024\n",
      "Epoch 8/30 - Training Loss: 20.7024\n",
      "Epoch 9/30 - Training Loss: 20.7024\n",
      "Epoch 10/30 - Training Loss: 20.7024\n",
      "Epoch 11/30 - Training Loss: 20.7024\n",
      "Epoch 12/30 - Training Loss: 20.7024\n",
      "Epoch 13/30 - Training Loss: 20.7024\n",
      "Epoch 14/30 - Training Loss: 20.7024\n",
      "Epoch 15/30 - Training Loss: 20.7024\n",
      "Epoch 16/30 - Training Loss: 20.7024\n",
      "Epoch 17/30 - Training Loss: 20.7024\n",
      "Epoch 18/30 - Training Loss: 20.7024\n",
      "Epoch 19/30 - Training Loss: 20.7024\n",
      "Epoch 20/30 - Training Loss: 20.7024\n",
      "Epoch 21/30 - Training Loss: 20.7024\n",
      "Epoch 22/30 - Training Loss: 20.7024\n",
      "Epoch 23/30 - Training Loss: 20.7024\n",
      "Epoch 24/30 - Training Loss: 20.7024\n",
      "Epoch 25/30 - Training Loss: 20.7024\n",
      "Epoch 26/30 - Training Loss: 20.7024\n",
      "Epoch 27/30 - Training Loss: 20.7024\n",
      "Epoch 28/30 - Training Loss: 20.7024\n",
      "Epoch 29/30 - Training Loss: 20.7024\n",
      "Epoch 30/30 - Training Loss: 20.7024\n"
     ]
    },
    {
     "data": {
      "image/png": "[encoded data removed]",
      "text/plain": [
       "<Figure size 432x288 with 1 Axes>"
      ]
     },
     "metadata": {
      "needs_background": "light"
     },
     "output_type": "display_data"
    },
    {
     "name": "stdout",
     "output_type": "stream",
     "text": [
      "Activation function: sigmoid\n",
      "F1 score: 0.0955\n",
      "\n",
      "Training Perceptron with relu activation:\n",
      "Epoch 1/30 - Training Loss: 2.3234\n",
      "Epoch 2/30 - Training Loss: 2.3234\n",
      "Epoch 3/30 - Training Loss: 2.3234\n",
      "Epoch 4/30 - Training Loss: 2.3234\n",
      "Epoch 5/30 - Training Loss: 2.3234\n",
      "Epoch 6/30 - Training Loss: 2.3234\n",
      "Epoch 7/30 - Training Loss: 2.3234\n",
      "Epoch 8/30 - Training Loss: 2.3234\n",
      "Epoch 9/30 - Training Loss: 2.3234\n",
      "Epoch 10/30 - Training Loss: 2.3234\n",
      "Epoch 11/30 - Training Loss: 2.3234\n",
      "Epoch 12/30 - Training Loss: 2.3234\n",
      "Epoch 13/30 - Training Loss: 2.3234\n",
      "Epoch 14/30 - Training Loss: 2.3234\n",
      "Epoch 15/30 - Training Loss: 2.3234\n",
      "Epoch 16/30 - Training Loss: 2.3234\n",
      "Epoch 17/30 - Training Loss: 2.3234\n",
      "Epoch 18/30 - Training Loss: 2.3234\n",
      "Epoch 19/30 - Training Loss: 2.3234\n",
      "Epoch 20/30 - Training Loss: 2.3234\n",
      "Epoch 21/30 - Training Loss: 2.3234\n",
      "Epoch 22/30 - Training Loss: 2.3234\n",
      "Epoch 23/30 - Training Loss: 2.3234\n",
      "Epoch 24/30 - Training Loss: 2.3234\n",
      "Epoch 25/30 - Training Loss: 2.3234\n",
      "Epoch 26/30 - Training Loss: 2.3234\n",
      "Epoch 27/30 - Training Loss: 2.3234\n",
      "Epoch 28/30 - Training Loss: 2.3234\n",
      "Epoch 29/30 - Training Loss: 2.3234\n",
      "Epoch 30/30 - Training Loss: 2.3234\n"
     ]
    },
    {
     "data": {
      "image/png": "[encoded data removed]",
      "text/plain": [
       "<Figure size 432x288 with 1 Axes>"
      ]
     },
     "metadata": {
      "needs_background": "light"
     },
     "output_type": "display_data"
    },
    {
     "name": "stdout",
     "output_type": "stream",
     "text": [
      "Activation function: relu\n",
      "F1 score: 0.4721\n"
     ]
    }
   ],
   "source": [
    "import numpy as np\n",
    "import matplotlib.pyplot as plt\n",
    "from sklearn.metrics import f1_score\n",
    "\n",
    "def convert_to_binary(labels, digit):\n",
    "    return np.array([1 if label == digit else 0 for label in labels])\n",
    "\n",
    "class Perceptron:\n",
    "    def __init__(self, input_size, activation_fn):\n",
    "        self.weights = np.zeros(input_size)\n",
    "        self.bias = 0\n",
    "        self.activation_fn = activation_fn\n",
    "        self.lr = 0.01\n",
    "\n",
    "    def sigmoid(self, x):\n",
    "        return 1 / (1 + np.exp(-x))\n",
    "\n",
    "    def relu(self, x):\n",
    "        return np.maximum(0, x)\n",
    "\n",
    "    def linear(self, x):\n",
    "        return x\n",
    "\n",
    "    def activate(self, x):\n",
    "        if self.activation_fn == 'sigmoid':\n",
    "            return self.sigmoid(x)\n",
    "        elif self.activation_fn == 'relu':\n",
    "            return self.relu(x)\n",
    "        elif self.activation_fn == 'linear':\n",
    "            return self.linear(x)\n",
    "        else:\n",
    "            raise ValueError(\"Invalid activation function\")\n",
    "\n",
    "    def predict(self, X):\n",
    "        return self.activate(np.dot(X, self.weights) + self.bias)\n",
    "\n",
    "    def train(self, X, y, epochs, learning_rate):\n",
    "        epsilon = 1e-10\n",
    "        losses_train = []\n",
    "\n",
    "        for epoch in range(epochs):\n",
    "            for xi, yi in zip(X, y):\n",
    "                prediction = self.predict(xi)\n",
    "                prediction = np.clip(prediction, epsilon, 1 - epsilon)\n",
    "\n",
    "                y_error = prediction - yi\n",
    "\n",
    "                # Update weights and bias\n",
    "                self.weights += self.lr * y_error * xi\n",
    "                self.bias += self.lr * y_error\n",
    "\n",
    "            # Calculate and record training loss\n",
    "            loss_train = self.calculate_loss(X, y)\n",
    "            losses_train.append(loss_train)\n",
    "\n",
    "            # Print progress\n",
    "            print(f\"Epoch {epoch + 1}/{epochs} - Training Loss: {loss_train:.4f}\")\n",
    "\n",
    "        # Plot learning curves\n",
    "        plt.plot(range(1, epochs + 1), losses_train, label='Training Loss')\n",
    "        plt.xlabel('Epochs')\n",
    "        plt.ylabel('Cross-Entropy Loss')\n",
    "        plt.title(f'Learning Curves ({self.activation_fn} activation)')\n",
    "        plt.legend()\n",
    "        plt.show()\n",
    "\n",
    "    def calculate_loss(self, X, y):\n",
    "        epsilon = 1e-10\n",
    "        predictions = self.predict(X)\n",
    "        predictions = np.clip(predictions, epsilon, 1 - epsilon)\n",
    "        return -np.mean(y * np.log(predictions) + (1 - y) * np.log(1 - predictions))\n",
    "\n",
    "# Example usage\n",
    "activation_functions = ['linear', 'sigmoid', 'relu']\n",
    "\n",
    "for activation_function in activation_functions:\n",
    "    print(f\"\\nTraining Perceptron with {activation_function} activation:\")\n",
    "    perceptron = Perceptron(input_size=X_train.shape[1], activation_fn=activation_function)\n",
    "    perceptron.train(X_train, convert_to_binary(y_train, digit=5), epochs=30, learning_rate=0.01)\n",
    "\n",
    "    # Evaluate on the test set\n",
    "    predictions_test = perceptron.predict(X_test)\n",
    "    predictions_test_binary = np.round(predictions_test)\n",
    "    f1 = f1_score(convert_to_binary(y_test, digit=5), predictions_test_binary, average='macro')\n",
    "    print(f\"Activation function: {activation_function}\")\n",
    "    print(f\"F1 score: {f1:.4f}\")\n"
   ]
  },
  {
   "cell_type": "code",
   "execution_count": 18,
   "id": "c5b25314",
   "metadata": {},
   "outputs": [
    {
     "name": "stdout",
     "output_type": "stream",
     "text": [
      "Epoch 1/30 - Training Loss: 2.0422\n",
      "Epoch 2/30 - Training Loss: 2.0833\n",
      "Epoch 3/30 - Training Loss: 2.0579\n",
      "Epoch 4/30 - Training Loss: 2.0272\n",
      "Epoch 5/30 - Training Loss: 1.9851\n",
      "Epoch 6/30 - Training Loss: 1.9261\n",
      "Epoch 7/30 - Training Loss: 1.8314\n",
      "Epoch 8/30 - Training Loss: 1.6225\n",
      "Epoch 9/30 - Training Loss: 1.1963\n",
      "Epoch 10/30 - Training Loss: 1.2027\n",
      "Epoch 11/30 - Training Loss: 1.1938\n",
      "Epoch 12/30 - Training Loss: 1.1829\n",
      "Epoch 13/30 - Training Loss: 1.1719\n",
      "Epoch 14/30 - Training Loss: 1.1637\n",
      "Epoch 15/30 - Training Loss: 1.1577\n",
      "Epoch 16/30 - Training Loss: 1.1688\n",
      "Epoch 17/30 - Training Loss: 1.2253\n",
      "Epoch 18/30 - Training Loss: 1.2233\n",
      "Epoch 19/30 - Training Loss: 1.2194\n",
      "Epoch 20/30 - Training Loss: 1.2120\n",
      "Epoch 21/30 - Training Loss: 1.2019\n",
      "Epoch 22/30 - Training Loss: 1.1886\n",
      "Epoch 23/30 - Training Loss: 1.1748\n",
      "Epoch 24/30 - Training Loss: 1.1620\n",
      "Epoch 25/30 - Training Loss: 1.1464\n",
      "Epoch 26/30 - Training Loss: 1.1352\n",
      "Epoch 27/30 - Training Loss: 1.1080\n",
      "Epoch 28/30 - Training Loss: 1.0906\n",
      "Epoch 29/30 - Training Loss: 1.0736\n",
      "Epoch 30/30 - Training Loss: 1.0754\n"
     ]
    },
    {
     "data": {
      "image/png": "[encoded data removed]",
      "text/plain": [
       "<Figure size 432x288 with 1 Axes>"
      ]
     },
     "metadata": {
      "needs_background": "light"
     },
     "output_type": "display_data"
    },
    {
     "ename": "ValueError",
     "evalue": "operands could not be broadcast together with shapes (1437,) (1437,10) ",
     "output_type": "error",
     "traceback": [
      "\u001b[1;31m---------------------------------------------------------------------------\u001b[0m",
      "\u001b[1;31mValueError\u001b[0m                                Traceback (most recent call last)",
      "\u001b[1;32m<ipython-input-18-7bc37e2f4fbb>\u001b[0m in \u001b[0;36m<module>\u001b[1;34m\u001b[0m\n\u001b[0;32m     77\u001b[0m \u001b[0mnn_model\u001b[0m \u001b[1;33m=\u001b[0m \u001b[0mNeuralNetwork\u001b[0m\u001b[1;33m(\u001b[0m\u001b[0minput_size\u001b[0m\u001b[1;33m=\u001b[0m\u001b[0mX_train\u001b[0m\u001b[1;33m.\u001b[0m\u001b[0mshape\u001b[0m\u001b[1;33m[\u001b[0m\u001b[1;36m1\u001b[0m\u001b[1;33m]\u001b[0m\u001b[1;33m,\u001b[0m \u001b[0mhidden_size\u001b[0m\u001b[1;33m=\u001b[0m\u001b[1;36m64\u001b[0m\u001b[1;33m,\u001b[0m \u001b[0moutput_size\u001b[0m\u001b[1;33m=\u001b[0m\u001b[0mlen\u001b[0m\u001b[1;33m(\u001b[0m\u001b[0mnp\u001b[0m\u001b[1;33m.\u001b[0m\u001b[0munique\u001b[0m\u001b[1;33m(\u001b[0m\u001b[0my_train\u001b[0m\u001b[1;33m)\u001b[0m\u001b[1;33m)\u001b[0m\u001b[1;33m)\u001b[0m\u001b[1;33m\u001b[0m\u001b[1;33m\u001b[0m\u001b[0m\n\u001b[0;32m     78\u001b[0m \u001b[0mbinary_labels_train\u001b[0m \u001b[1;33m=\u001b[0m \u001b[0mconvert_to_binary\u001b[0m\u001b[1;33m(\u001b[0m\u001b[0my_train\u001b[0m\u001b[1;33m,\u001b[0m \u001b[0mdigit\u001b[0m\u001b[1;33m=\u001b[0m\u001b[1;36m5\u001b[0m\u001b[1;33m)\u001b[0m\u001b[1;33m\u001b[0m\u001b[1;33m\u001b[0m\u001b[0m\n\u001b[1;32m---> 79\u001b[1;33m \u001b[0mnn_model\u001b[0m\u001b[1;33m.\u001b[0m\u001b[0mtrain\u001b[0m\u001b[1;33m(\u001b[0m\u001b[0mX_train\u001b[0m\u001b[1;33m,\u001b[0m \u001b[0mbinary_labels_train\u001b[0m\u001b[1;33m,\u001b[0m \u001b[0mepochs\u001b[0m\u001b[1;33m=\u001b[0m\u001b[1;36m30\u001b[0m\u001b[1;33m,\u001b[0m \u001b[0mlearning_rate\u001b[0m\u001b[1;33m=\u001b[0m\u001b[1;36m0.01\u001b[0m\u001b[1;33m)\u001b[0m\u001b[1;33m\u001b[0m\u001b[1;33m\u001b[0m\u001b[0m\n\u001b[0m\u001b[0;32m     80\u001b[0m \u001b[1;33m\u001b[0m\u001b[0m\n\u001b[0;32m     81\u001b[0m \u001b[1;31m# Evaluate on the test set\u001b[0m\u001b[1;33m\u001b[0m\u001b[1;33m\u001b[0m\u001b[1;33m\u001b[0m\u001b[0m\n",
      "\u001b[1;32m<ipython-input-18-7bc37e2f4fbb>\u001b[0m in \u001b[0;36mtrain\u001b[1;34m(self, X, y, epochs, learning_rate)\u001b[0m\n\u001b[0;32m     49\u001b[0m         \u001b[1;32mfor\u001b[0m \u001b[0mepoch\u001b[0m \u001b[1;32min\u001b[0m \u001b[0mrange\u001b[0m\u001b[1;33m(\u001b[0m\u001b[0mepochs\u001b[0m\u001b[1;33m)\u001b[0m\u001b[1;33m:\u001b[0m\u001b[1;33m\u001b[0m\u001b[1;33m\u001b[0m\u001b[0m\n\u001b[0;32m     50\u001b[0m             \u001b[0mself\u001b[0m\u001b[1;33m.\u001b[0m\u001b[0mforward\u001b[0m\u001b[1;33m(\u001b[0m\u001b[0mX\u001b[0m\u001b[1;33m)\u001b[0m\u001b[1;33m\u001b[0m\u001b[1;33m\u001b[0m\u001b[0m\n\u001b[1;32m---> 51\u001b[1;33m             \u001b[0mself\u001b[0m\u001b[1;33m.\u001b[0m\u001b[0mbackward\u001b[0m\u001b[1;33m(\u001b[0m\u001b[0mX\u001b[0m\u001b[1;33m,\u001b[0m \u001b[0my\u001b[0m\u001b[1;33m,\u001b[0m \u001b[0mlearning_rate\u001b[0m\u001b[1;33m)\u001b[0m\u001b[1;33m\u001b[0m\u001b[1;33m\u001b[0m\u001b[0m\n\u001b[0m\u001b[0;32m     52\u001b[0m \u001b[1;33m\u001b[0m\u001b[0m\n\u001b[0;32m     53\u001b[0m             \u001b[1;31m# Calculate and record training loss\u001b[0m\u001b[1;33m\u001b[0m\u001b[1;33m\u001b[0m\u001b[1;33m\u001b[0m\u001b[0m\n",
      "\u001b[1;32m<ipython-input-18-7bc37e2f4fbb>\u001b[0m in \u001b[0;36mbackward\u001b[1;34m(self, X, y, learning_rate)\u001b[0m\n\u001b[0;32m     30\u001b[0m \u001b[1;33m\u001b[0m\u001b[0m\n\u001b[0;32m     31\u001b[0m     \u001b[1;32mdef\u001b[0m \u001b[0mbackward\u001b[0m\u001b[1;33m(\u001b[0m\u001b[0mself\u001b[0m\u001b[1;33m,\u001b[0m \u001b[0mX\u001b[0m\u001b[1;33m,\u001b[0m \u001b[0my\u001b[0m\u001b[1;33m,\u001b[0m \u001b[0mlearning_rate\u001b[0m\u001b[1;33m)\u001b[0m\u001b[1;33m:\u001b[0m\u001b[1;33m\u001b[0m\u001b[1;33m\u001b[0m\u001b[0m\n\u001b[1;32m---> 32\u001b[1;33m         \u001b[0moutput_error\u001b[0m \u001b[1;33m=\u001b[0m \u001b[0my\u001b[0m \u001b[1;33m-\u001b[0m \u001b[0mself\u001b[0m\u001b[1;33m.\u001b[0m\u001b[0moutput\u001b[0m\u001b[1;33m\u001b[0m\u001b[1;33m\u001b[0m\u001b[0m\n\u001b[0m\u001b[0;32m     33\u001b[0m         \u001b[0moutput_delta\u001b[0m \u001b[1;33m=\u001b[0m \u001b[0moutput_error\u001b[0m \u001b[1;33m*\u001b[0m \u001b[0mself\u001b[0m\u001b[1;33m.\u001b[0m\u001b[0msigmoid_derivative\u001b[0m\u001b[1;33m(\u001b[0m\u001b[0mself\u001b[0m\u001b[1;33m.\u001b[0m\u001b[0moutput\u001b[0m\u001b[1;33m)\u001b[0m\u001b[1;33m\u001b[0m\u001b[1;33m\u001b[0m\u001b[0m\n\u001b[0;32m     34\u001b[0m \u001b[1;33m\u001b[0m\u001b[0m\n",
      "\u001b[1;31mValueError\u001b[0m: operands could not be broadcast together with shapes (1437,) (1437,10) "
     ]
    }
   ],
   "source": [
    "from sklearn.preprocessing import LabelBinarizer\n",
    "\n",
    "def convert_to_one_hot(labels):\n",
    "    lb = LabelBinarizer()\n",
    "    return lb.fit_transform(labels)\n",
    "\n",
    "# Example usage\n",
    "binary_labels_train = convert_to_one_hot(y_train)\n",
    "nn_model.train(X_train, binary_labels_train, epochs=30, learning_rate=0.01)\n",
    "\n",
    "class NeuralNetwork:\n",
    "    def __init__(self, input_size, hidden_size, output_size):\n",
    "        # Initialize weights and biases\n",
    "        self.weights_hidden = np.random.randn(input_size, hidden_size)\n",
    "        self.bias_hidden = np.zeros((1, hidden_size))\n",
    "        self.weights_out = np.random.randn(hidden_size, output_size)\n",
    "        self.bias_out = np.zeros((1, output_size))\n",
    "\n",
    "    def sigmoid(self, x):\n",
    "        return 1 / (1 + np.exp(-x))\n",
    "\n",
    "    def sigmoid_derivative(self, x):\n",
    "        return x * (1 - x)\n",
    "\n",
    "    def forward(self, X):\n",
    "        self.hidden_layer_output = self.sigmoid(np.dot(X, self.weights_hidden) + self.bias_hidden)\n",
    "        self.output = self.sigmoid(np.dot(self.hidden_layer_output, self.weights_out) + self.bias_out)\n",
    "\n",
    "        return self.output\n",
    "\n",
    "    def backward(self, X, y, learning_rate):\n",
    "        output_error = y - self.output\n",
    "        output_delta = output_error * self.sigmoid_derivative(self.output)\n",
    "\n",
    "        hidden_layer_error = output_delta.dot(self.weights_out.T)\n",
    "        hidden_layer_delta = hidden_layer_error * self.sigmoid_derivative(self.hidden_layer_output)\n",
    "\n",
    "        # Update weights and biases\n",
    "        self.weights_out += learning_rate * self.hidden_layer_output.T.dot(output_delta)\n",
    "        self.bias_out += learning_rate * np.sum(output_delta, axis=0, keepdims=True)\n",
    "\n",
    "        self.weights_hidden += learning_rate * X.T.dot(hidden_layer_delta)\n",
    "        self.bias_hidden += learning_rate * np.sum(hidden_layer_delta, axis=0, keepdims=True)\n",
    "\n",
    "\n",
    "    def train(self, X, y, epochs, learning_rate):\n",
    "        losses_train = []\n",
    "\n",
    "        for epoch in range(epochs):\n",
    "            self.forward(X)\n",
    "            self.backward(X, y, learning_rate)\n",
    "\n",
    "            # Calculate and record training loss\n",
    "            loss_train = self.calculate_loss(X, y)\n",
    "            losses_train.append(loss_train)\n",
    "\n",
    "            # Print progress\n",
    "            print(f\"Epoch {epoch + 1}/{epochs} - Training Loss: {loss_train:.4f}\")\n",
    "\n",
    "        # Plot learning curve\n",
    "        plt.plot(range(1, epochs + 1), losses_train, label='Training Loss')\n",
    "        plt.xlabel('Epochs')\n",
    "        plt.ylabel('Cross-Entropy Loss')\n",
    "        plt.title('Neural Network Learning Curve')\n",
    "        plt.legend()\n",
    "        plt.show()\n",
    "\n",
    "    def calculate_loss(self, X, y):\n",
    "        predictions = self.forward(X)\n",
    "        return -np.mean(y * np.log(predictions) + (1 - y) * np.log(1 - predictions))\n",
    "\n",
    "    def predict(self, X):\n",
    "        return np.round(self.forward(X))\n",
    "\n",
    "\n",
    "# Example usage\n",
    "nn_model = NeuralNetwork(input_size=X_train.shape[1], hidden_size=64, output_size=len(np.unique(y_train)))\n",
    "binary_labels_train = convert_to_binary(y_train, digit=5)\n",
    "nn_model.train(X_train, binary_labels_train, epochs=30, learning_rate=0.01)\n",
    "\n",
    "# Evaluate on the test set\n",
    "predictions_test = nn_model.predict(X_test)\n",
    "f1 = f1_score(convert_to_binary(y_test, digit=5), predictions_test, average='macro')\n",
    "print(f\"F1 score: {f1:.4f}\")"
   ]
  },
  {
   "cell_type": "code",
   "execution_count": null,
   "id": "38dddc58",
   "metadata": {},
   "outputs": [],
   "source": []
  }
 ],
 "metadata": {
  "kernelspec": {
   "display_name": "Python 3",
   "language": "python",
   "name": "python3"
  },
  "language_info": {
   "codemirror_mode": {
    "name": "ipython",
    "version": 3
   },
   "file_extension": ".py",
   "mimetype": "text/x-python",
   "name": "python",
   "nbconvert_exporter": "python",
   "pygments_lexer": "ipython3",
   "version": "3.8.8"
  }
 },
 "nbformat": 4,
 "nbformat_minor": 5
}
