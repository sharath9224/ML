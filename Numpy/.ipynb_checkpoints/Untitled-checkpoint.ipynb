{
 "cells": [
  {
   "cell_type": "code",
   "execution_count": 1,
   "id": "e6aaf8e4",
   "metadata": {},
   "outputs": [],
   "source": [
    "import numpy as np"
   ]
  },
  {
   "cell_type": "code",
   "execution_count": 7,
   "id": "add120fc",
   "metadata": {},
   "outputs": [
    {
     "data": {
      "text/plain": [
       "array([[1. , 2. , 3. ],\n",
       "       [4. , 5. , 6. ],\n",
       "       [7. , 8. , 9.3],\n",
       "       [0. , 3. , 6. ]])"
      ]
     },
     "execution_count": 7,
     "metadata": {},
     "output_type": "execute_result"
    }
   ],
   "source": [
    "arr =np.array([[1,2,3],[4,5,6],[7,8,9.3],[0,3,6]])\n",
    "arr"
   ]
  },
  {
   "cell_type": "code",
   "execution_count": 8,
   "id": "5b301646",
   "metadata": {},
   "outputs": [
    {
     "data": {
      "text/plain": [
       "(4, 3)"
      ]
     },
     "execution_count": 8,
     "metadata": {},
     "output_type": "execute_result"
    }
   ],
   "source": [
    "arr.shape"
   ]
  },
  {
   "cell_type": "code",
   "execution_count": 9,
   "id": "871004b9",
   "metadata": {},
   "outputs": [
    {
     "data": {
      "text/plain": [
       "12"
      ]
     },
     "execution_count": 9,
     "metadata": {},
     "output_type": "execute_result"
    }
   ],
   "source": [
    "arr.size"
   ]
  },
  {
   "cell_type": "code",
   "execution_count": 10,
   "id": "9fc7964e",
   "metadata": {},
   "outputs": [
    {
     "data": {
      "text/plain": [
       "dtype('float64')"
      ]
     },
     "execution_count": 10,
     "metadata": {},
     "output_type": "execute_result"
    }
   ],
   "source": [
    "arr.dtype"
   ]
  },
  {
   "cell_type": "code",
   "execution_count": 11,
   "id": "737c96f8",
   "metadata": {},
   "outputs": [
    {
     "data": {
      "text/plain": [
       "[[1.0, 2.0, 3.0], [4.0, 5.0, 6.0], [7.0, 8.0, 9.3], [0.0, 3.0, 6.0]]"
      ]
     },
     "execution_count": 11,
     "metadata": {},
     "output_type": "execute_result"
    }
   ],
   "source": [
    "arr.tolist()"
   ]
  },
  {
   "cell_type": "code",
   "execution_count": 12,
   "id": "b9d50b0d",
   "metadata": {},
   "outputs": [],
   "source": [
    "a=4"
   ]
  },
  {
   "cell_type": "code",
   "execution_count": 13,
   "id": "5e9ad9a5",
   "metadata": {},
   "outputs": [
    {
     "name": "stdout",
     "output_type": "stream",
     "text": [
      "address of A: 140704649848720\n",
      "address of B: 140704649848720\n",
      "address of c: 2906316301584\n"
     ]
    }
   ],
   "source": [
    "print(\"address of A:\",id(a))\n",
    "b=a\n",
    "print(\"address of B:\",id(b))\n",
    "c=np.copy(a)\n",
    "print(\"address of c:\",id(c))"
   ]
  },
  {
   "cell_type": "code",
   "execution_count": 14,
   "id": "4f24c34a",
   "metadata": {},
   "outputs": [
    {
     "name": "stdout",
     "output_type": "stream",
     "text": [
      "address of arr: 2906316300432\n",
      "address of arr1: 2906316300432\n",
      "address of arr2: 2906316300624\n"
     ]
    }
   ],
   "source": [
    "arr=np.array([[3,2,6],[9,8,6]])\n",
    "arr\n",
    "print(\"address of arr:\",id(arr))\n",
    "arr1=arr\n",
    "print(\"address of arr1:\",id(arr1))\n",
    "arr2=np.copy(arr)\n",
    "print(\"address of arr2:\",id(arr2))"
   ]
  },
  {
   "cell_type": "code",
   "execution_count": 15,
   "id": "947cf2da",
   "metadata": {},
   "outputs": [
    {
     "data": {
      "text/plain": [
       "array([[3, 2, 5, 9, 8]])"
      ]
     },
     "execution_count": 15,
     "metadata": {},
     "output_type": "execute_result"
    }
   ],
   "source": [
    "arr=np.array([[3,2,5,9,8]])\n",
    "arr"
   ]
  },
  {
   "cell_type": "code",
   "execution_count": 16,
   "id": "cf95cbf1",
   "metadata": {},
   "outputs": [
    {
     "data": {
      "text/plain": [
       "array([[2, 3, 5, 8, 9]])"
      ]
     },
     "execution_count": 16,
     "metadata": {},
     "output_type": "execute_result"
    }
   ],
   "source": [
    "np.sort(arr)"
   ]
  },
  {
   "cell_type": "code",
   "execution_count": 18,
   "id": "4dafec69",
   "metadata": {},
   "outputs": [
    {
     "data": {
      "text/plain": [
       "array([[2, 3, 5],\n",
       "       [5, 6, 8]])"
      ]
     },
     "execution_count": 18,
     "metadata": {},
     "output_type": "execute_result"
    }
   ],
   "source": [
    "arr =np.array([[3,2,5],[6,8,5]])\n",
    "arr\n",
    "np.sort(arr)"
   ]
  },
  {
   "cell_type": "code",
   "execution_count": 19,
   "id": "8efab9cd",
   "metadata": {},
   "outputs": [
    {
     "data": {
      "text/plain": [
       "array([['22', '36', '69', '8', 'abc', 'siva']], dtype='<U11')"
      ]
     },
     "execution_count": 19,
     "metadata": {},
     "output_type": "execute_result"
    }
   ],
   "source": [
    "arr=np.array([[\"siva\",22,69,8,\"abc\",36]])\n",
    "np.sort(arr)"
   ]
  },
  {
   "cell_type": "code",
   "execution_count": 20,
   "id": "918aca71",
   "metadata": {},
   "outputs": [
    {
     "data": {
      "text/plain": [
       "array([[ 3,  2,  5],\n",
       "       [11,  8,  6],\n",
       "       [ 9,  5,  6]])"
      ]
     },
     "execution_count": 20,
     "metadata": {},
     "output_type": "execute_result"
    }
   ],
   "source": [
    "arr=np.array([[3,2,5],[11,8,6],[9,5,6]])\n",
    "arr"
   ]
  },
  {
   "cell_type": "code",
   "execution_count": 21,
   "id": "a6e06cee",
   "metadata": {},
   "outputs": [
    {
     "data": {
      "text/plain": [
       "array([ 3,  2,  5, 11,  8,  6,  9,  5,  6])"
      ]
     },
     "execution_count": 21,
     "metadata": {},
     "output_type": "execute_result"
    }
   ],
   "source": [
    "arr.flatten()"
   ]
  },
  {
   "cell_type": "code",
   "execution_count": 22,
   "id": "32c5cd53",
   "metadata": {},
   "outputs": [
    {
     "data": {
      "text/plain": [
       "array([[ 3, 11,  9],\n",
       "       [ 2,  8,  5],\n",
       "       [ 5,  6,  6]])"
      ]
     },
     "execution_count": 22,
     "metadata": {},
     "output_type": "execute_result"
    }
   ],
   "source": [
    "arr.T"
   ]
  },
  {
   "cell_type": "code",
   "execution_count": 25,
   "id": "d7e8a485",
   "metadata": {},
   "outputs": [
    {
     "data": {
      "text/plain": [
       "array([[ 3,  2,  5],\n",
       "       [11,  8,  6],\n",
       "       [ 9,  5,  6]])"
      ]
     },
     "execution_count": 25,
     "metadata": {},
     "output_type": "execute_result"
    }
   ],
   "source": [
    "arr.reshape(3,3)"
   ]
  },
  {
   "cell_type": "code",
   "execution_count": 33,
   "id": "b84d81b3",
   "metadata": {},
   "outputs": [
    {
     "data": {
      "text/plain": [
       "array([[ 3,  2,  5, 11,  8,  6],\n",
       "       [ 9,  5,  6,  3,  2,  5],\n",
       "       [11,  8,  6,  9,  5,  6],\n",
       "       [ 3,  2,  5, 11,  8,  6],\n",
       "       [ 9,  5,  6,  3,  2,  5],\n",
       "       [11,  8,  6,  9,  5,  6]])"
      ]
     },
     "execution_count": 33,
     "metadata": {},
     "output_type": "execute_result"
    }
   ],
   "source": [
    "np.resize(arr,(6,6))"
   ]
  },
  {
   "cell_type": "markdown",
   "id": "fba67f93",
   "metadata": {},
   "source": [
    "adding removing data"
   ]
  },
  {
   "cell_type": "code",
   "execution_count": 34,
   "id": "24c5bce1",
   "metadata": {},
   "outputs": [
    {
     "data": {
      "text/plain": [
       "array([[ 2,  3,  5,  6],\n",
       "       [ 6,  8,  2,  9],\n",
       "       [55, 22,  6,  7],\n",
       "       [88, 66, 77, 22]])"
      ]
     },
     "execution_count": 34,
     "metadata": {},
     "output_type": "execute_result"
    }
   ],
   "source": [
    "arr=np.array([[2,3,5,6],[6,8,2,9],[55,22,6,7],[88,66,77,22]])\n",
    "arr"
   ]
  },
  {
   "cell_type": "code",
   "execution_count": 35,
   "id": "968c7cef",
   "metadata": {},
   "outputs": [],
   "source": [
    "arr1=np.append(arr,[20,30,40,50])"
   ]
  },
  {
   "cell_type": "code",
   "execution_count": 36,
   "id": "a0a89120",
   "metadata": {},
   "outputs": [
    {
     "data": {
      "text/plain": [
       "array([[ 2,  3,  5,  6],\n",
       "       [ 6,  8,  2,  9],\n",
       "       [55, 22,  6,  7],\n",
       "       [88, 66, 77, 22],\n",
       "       [20, 30, 40, 50]])"
      ]
     },
     "execution_count": 36,
     "metadata": {},
     "output_type": "execute_result"
    }
   ],
   "source": [
    "arr1.reshape(5,4)"
   ]
  },
  {
   "cell_type": "code",
   "execution_count": 43,
   "id": "84c6393e",
   "metadata": {},
   "outputs": [],
   "source": [
    "arr1=np.insert(arr,6,[60,70,80,90])"
   ]
  },
  {
   "cell_type": "code",
   "execution_count": 44,
   "id": "daa29e9d",
   "metadata": {},
   "outputs": [
    {
     "data": {
      "text/plain": [
       "array([[ 2,  3,  5,  6],\n",
       "       [ 6,  8, 60, 70],\n",
       "       [80, 90,  2,  9],\n",
       "       [55, 22,  6,  7],\n",
       "       [88, 66, 77, 22]])"
      ]
     },
     "execution_count": 44,
     "metadata": {},
     "output_type": "execute_result"
    }
   ],
   "source": [
    "arr1.reshape(5,4)"
   ]
  },
  {
   "cell_type": "code",
   "execution_count": 47,
   "id": "8900c754",
   "metadata": {},
   "outputs": [
    {
     "data": {
      "text/plain": [
       "array([[ 2,  3,  5,  6],\n",
       "       [55, 22,  6,  7],\n",
       "       [88, 66, 77, 22]])"
      ]
     },
     "execution_count": 47,
     "metadata": {},
     "output_type": "execute_result"
    }
   ],
   "source": [
    "arr1=np.delete(arr,1,axis=0)\n",
    "arr1"
   ]
  },
  {
   "cell_type": "code",
   "execution_count": 48,
   "id": "b62ebee0",
   "metadata": {},
   "outputs": [
    {
     "data": {
      "text/plain": [
       "array([[ 2,  3,  6],\n",
       "       [ 6,  8,  9],\n",
       "       [55, 22,  7],\n",
       "       [88, 66, 22]])"
      ]
     },
     "execution_count": 48,
     "metadata": {},
     "output_type": "execute_result"
    }
   ],
   "source": [
    "np.delete(arr,2,axis=1)"
   ]
  },
  {
   "cell_type": "code",
   "execution_count": null,
   "id": "5264bc41",
   "metadata": {},
   "outputs": [],
   "source": []
  }
 ],
 "metadata": {
  "kernelspec": {
   "display_name": "Python 3",
   "language": "python",
   "name": "python3"
  },
  "language_info": {
   "codemirror_mode": {
    "name": "ipython",
    "version": 3
   },
   "file_extension": ".py",
   "mimetype": "text/x-python",
   "name": "python",
   "nbconvert_exporter": "python",
   "pygments_lexer": "ipython3",
   "version": "3.8.8"
  }
 },
 "nbformat": 4,
 "nbformat_minor": 5
}
