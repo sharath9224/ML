{
 "cells": [
  {
   "cell_type": "code",
   "execution_count": 1,
   "id": "155b6ccd",
   "metadata": {},
   "outputs": [],
   "source": [
    "import numpy as np"
   ]
  },
  {
   "cell_type": "code",
   "execution_count": 2,
   "id": "718bd9c6",
   "metadata": {},
   "outputs": [],
   "source": [
    "arr=np.array([[3,2,6,8],[6,8,2,3],[8,6,7,2],[0,6,8,2]])\n",
    "arr1=np.array([[3,6,9,5],[22,6,7,9],[66,8,2,5]])\n",
    "arr2=np.array([[3,6,7,2],[3,8,2,4],[22,44,66,88],[7,0,5,9]])"
   ]
  },
  {
   "cell_type": "code",
   "execution_count": 3,
   "id": "69ff8cb2",
   "metadata": {},
   "outputs": [
    {
     "data": {
      "text/plain": [
       "array([[ 3,  2,  6,  8],\n",
       "       [ 6,  8,  2,  3],\n",
       "       [ 8,  6,  7,  2],\n",
       "       [ 0,  6,  8,  2],\n",
       "       [ 3,  6,  9,  5],\n",
       "       [22,  6,  7,  9],\n",
       "       [66,  8,  2,  5]])"
      ]
     },
     "execution_count": 3,
     "metadata": {},
     "output_type": "execute_result"
    }
   ],
   "source": [
    "np.concatenate((arr,arr1),axis=0)"
   ]
  },
  {
   "cell_type": "code",
   "execution_count": 4,
   "id": "8afeafd1",
   "metadata": {},
   "outputs": [
    {
     "data": {
      "text/plain": [
       "array([[ 3,  2,  6,  8],\n",
       "       [ 6,  8,  2,  3],\n",
       "       [ 8,  6,  7,  2],\n",
       "       [ 0,  6,  8,  2],\n",
       "       [ 3,  6,  7,  2],\n",
       "       [ 3,  8,  2,  4],\n",
       "       [22, 44, 66, 88],\n",
       "       [ 7,  0,  5,  9]])"
      ]
     },
     "execution_count": 4,
     "metadata": {},
     "output_type": "execute_result"
    }
   ],
   "source": [
    "np.concatenate((arr,arr2),axis=0)"
   ]
  },
  {
   "cell_type": "code",
   "execution_count": 5,
   "id": "3dbca984",
   "metadata": {},
   "outputs": [],
   "source": [
    "arr=np.array([[3,6,7,2],[3,8,2,4],[22,44,66,88],[7,0,5,9]])"
   ]
  },
  {
   "cell_type": "code",
   "execution_count": 6,
   "id": "5b260cd7",
   "metadata": {},
   "outputs": [
    {
     "data": {
      "text/plain": [
       "[array([[3, 6, 7, 2],\n",
       "        [3, 8, 2, 4]]),\n",
       " array([[22, 44, 66, 88],\n",
       "        [ 7,  0,  5,  9]])]"
      ]
     },
     "execution_count": 6,
     "metadata": {},
     "output_type": "execute_result"
    }
   ],
   "source": [
    "np.split(arr,2)"
   ]
  },
  {
   "cell_type": "code",
   "execution_count": 7,
   "id": "a7daa6a0",
   "metadata": {},
   "outputs": [],
   "source": [
    "arr=np.array([[3,6,7,2],[3,8,2,4],[22,44,66,88],[7,0,5,9],[22,66,33,55],[88,55,66,44],[77,22,99,44]])"
   ]
  },
  {
   "cell_type": "code",
   "execution_count": 8,
   "id": "38e7dc88",
   "metadata": {},
   "outputs": [
    {
     "data": {
      "text/plain": [
       "[array([[ 3],\n",
       "        [ 3],\n",
       "        [22],\n",
       "        [ 7],\n",
       "        [22],\n",
       "        [88],\n",
       "        [77]]),\n",
       " array([[ 6],\n",
       "        [ 8],\n",
       "        [44],\n",
       "        [ 0],\n",
       "        [66],\n",
       "        [55],\n",
       "        [22]]),\n",
       " array([[ 7],\n",
       "        [ 2],\n",
       "        [66],\n",
       "        [ 5],\n",
       "        [33],\n",
       "        [66],\n",
       "        [99]]),\n",
       " array([[ 2],\n",
       "        [ 4],\n",
       "        [88],\n",
       "        [ 9],\n",
       "        [55],\n",
       "        [44],\n",
       "        [44]])]"
      ]
     },
     "execution_count": 8,
     "metadata": {},
     "output_type": "execute_result"
    }
   ],
   "source": [
    "np.hsplit(arr,4)"
   ]
  },
  {
   "cell_type": "code",
   "execution_count": 9,
   "id": "e33baac3",
   "metadata": {},
   "outputs": [],
   "source": [
    "arr =np.array([3,2,6,5,9,12])\n",
    "arr1=np.array([[12,19,3,4,16,18],[2,1,23,4,25,26]])"
   ]
  },
  {
   "cell_type": "code",
   "execution_count": 10,
   "id": "69247a27",
   "metadata": {},
   "outputs": [
    {
     "data": {
      "text/plain": [
       "9"
      ]
     },
     "execution_count": 10,
     "metadata": {},
     "output_type": "execute_result"
    }
   ],
   "source": [
    "arr[4]"
   ]
  },
  {
   "cell_type": "code",
   "execution_count": 11,
   "id": "63d08b3e",
   "metadata": {},
   "outputs": [
    {
     "data": {
      "text/plain": [
       "4"
      ]
     },
     "execution_count": 11,
     "metadata": {},
     "output_type": "execute_result"
    }
   ],
   "source": [
    "arr1[1,3]"
   ]
  },
  {
   "cell_type": "code",
   "execution_count": 12,
   "id": "aef114c1",
   "metadata": {},
   "outputs": [
    {
     "data": {
      "text/plain": [
       "array([ 3,  9,  6,  5,  9, 12])"
      ]
     },
     "execution_count": 12,
     "metadata": {},
     "output_type": "execute_result"
    }
   ],
   "source": [
    "arr[1]=9\n",
    "arr"
   ]
  },
  {
   "cell_type": "code",
   "execution_count": 13,
   "id": "b556200c",
   "metadata": {},
   "outputs": [
    {
     "data": {
      "text/plain": [
       "array([[12, 19,  3,  4, 16, 18],\n",
       "       [ 2,  1, 23,  4, 10, 26]])"
      ]
     },
     "execution_count": 13,
     "metadata": {},
     "output_type": "execute_result"
    }
   ],
   "source": [
    "arr1[1,4]=10\n",
    "arr1"
   ]
  },
  {
   "cell_type": "code",
   "execution_count": 14,
   "id": "5ece5303",
   "metadata": {},
   "outputs": [
    {
     "data": {
      "text/plain": [
       "array([3, 9, 6])"
      ]
     },
     "execution_count": 14,
     "metadata": {},
     "output_type": "execute_result"
    }
   ],
   "source": [
    "arr[:3]"
   ]
  },
  {
   "cell_type": "code",
   "execution_count": 15,
   "id": "ccc18a59",
   "metadata": {},
   "outputs": [
    {
     "data": {
      "text/plain": [
       "array([[12],\n",
       "       [ 2]])"
      ]
     },
     "execution_count": 15,
     "metadata": {},
     "output_type": "execute_result"
    }
   ],
   "source": [
    "arr1[0:2,0:1]"
   ]
  },
  {
   "cell_type": "code",
   "execution_count": 16,
   "id": "0e225f53",
   "metadata": {},
   "outputs": [
    {
     "data": {
      "text/plain": [
       "array([[12, 19,  3,  4, 16, 18]])"
      ]
     },
     "execution_count": 16,
     "metadata": {},
     "output_type": "execute_result"
    }
   ],
   "source": [
    "arr1[:1]"
   ]
  },
  {
   "cell_type": "code",
   "execution_count": 17,
   "id": "1a9a07a4",
   "metadata": {},
   "outputs": [
    {
     "data": {
      "text/plain": [
       "array([[12, 19],\n",
       "       [ 2,  1]])"
      ]
     },
     "execution_count": 17,
     "metadata": {},
     "output_type": "execute_result"
    }
   ],
   "source": [
    "arr1[:,:2]"
   ]
  },
  {
   "cell_type": "code",
   "execution_count": 18,
   "id": "391c2433",
   "metadata": {},
   "outputs": [
    {
     "data": {
      "text/plain": [
       "array([ True, False, False, False, False, False])"
      ]
     },
     "execution_count": 18,
     "metadata": {},
     "output_type": "execute_result"
    }
   ],
   "source": [
    "arr<5"
   ]
  },
  {
   "cell_type": "code",
   "execution_count": 19,
   "id": "d83486ab",
   "metadata": {},
   "outputs": [
    {
     "data": {
      "text/plain": [
       "array([False, False, False, False, False, False])"
      ]
     },
     "execution_count": 19,
     "metadata": {},
     "output_type": "execute_result"
    }
   ],
   "source": [
    "(arr>3)& (arr<5)"
   ]
  },
  {
   "cell_type": "code",
   "execution_count": 20,
   "id": "85718bb3",
   "metadata": {},
   "outputs": [
    {
     "data": {
      "text/plain": [
       "array([[False, False,  True,  True, False, False],\n",
       "       [ True,  True, False,  True, False, False]])"
      ]
     },
     "execution_count": 20,
     "metadata": {},
     "output_type": "execute_result"
    }
   ],
   "source": [
    "arr1<5"
   ]
  },
  {
   "cell_type": "code",
   "execution_count": 21,
   "id": "c417f126",
   "metadata": {},
   "outputs": [
    {
     "data": {
      "text/plain": [
       "array([ 5, 11,  8,  7, 11, 14])"
      ]
     },
     "execution_count": 21,
     "metadata": {},
     "output_type": "execute_result"
    }
   ],
   "source": [
    "np.add(arr,2)"
   ]
  },
  {
   "cell_type": "code",
   "execution_count": 22,
   "id": "76fb03c0",
   "metadata": {},
   "outputs": [
    {
     "data": {
      "text/plain": [
       "array([[14, 21,  5,  6, 18, 20],\n",
       "       [ 4,  3, 25,  6, 12, 28]])"
      ]
     },
     "execution_count": 22,
     "metadata": {},
     "output_type": "execute_result"
    }
   ],
   "source": [
    "np.add(arr1,2)"
   ]
  },
  {
   "cell_type": "code",
   "execution_count": 23,
   "id": "131a2bc8",
   "metadata": {},
   "outputs": [
    {
     "data": {
      "text/plain": [
       "array([[10, 17,  1,  2, 14, 16],\n",
       "       [ 0, -1, 21,  2,  8, 24]])"
      ]
     },
     "execution_count": 23,
     "metadata": {},
     "output_type": "execute_result"
    }
   ],
   "source": [
    "np.subtract(arr1,2)"
   ]
  },
  {
   "cell_type": "code",
   "execution_count": 24,
   "id": "89bff513",
   "metadata": {},
   "outputs": [
    {
     "data": {
      "text/plain": [
       "array([[ 60,  95,  15,  20,  80,  90],\n",
       "       [ 10,   5, 115,  20,  50, 130]])"
      ]
     },
     "execution_count": 24,
     "metadata": {},
     "output_type": "execute_result"
    }
   ],
   "source": [
    "np.multiply(arr1,5)"
   ]
  },
  {
   "cell_type": "code",
   "execution_count": 25,
   "id": "6800847b",
   "metadata": {},
   "outputs": [
    {
     "data": {
      "text/plain": [
       "array([[3.  , 4.75, 0.75, 1.  , 4.  , 4.5 ],\n",
       "       [0.5 , 0.25, 5.75, 1.  , 2.5 , 6.5 ]])"
      ]
     },
     "execution_count": 25,
     "metadata": {},
     "output_type": "execute_result"
    }
   ],
   "source": [
    "np.divide(arr1,4)"
   ]
  },
  {
   "cell_type": "code",
   "execution_count": 26,
   "id": "2c5a55f7",
   "metadata": {},
   "outputs": [
    {
     "data": {
      "text/plain": [
       "array([  9,  81,  36,  25,  81, 144], dtype=int32)"
      ]
     },
     "execution_count": 26,
     "metadata": {},
     "output_type": "execute_result"
    }
   ],
   "source": [
    "np.power(arr,2)"
   ]
  },
  {
   "cell_type": "code",
   "execution_count": null,
   "id": "64f5bb2b",
   "metadata": {},
   "outputs": [],
   "source": []
  },
  {
   "cell_type": "code",
   "execution_count": 27,
   "id": "7e9f8000",
   "metadata": {},
   "outputs": [],
   "source": [
    "arr=np.array([[1.1,2.3,6.8,8],[2.2,6,6.8,9.5]])\n",
    "arr1=np.array([[9,3,6,8,5],[8,5,2,3,4]])\n",
    "arr2=np.array([[9,3,6,8,5],[8,5,6,-3,5,]])"
   ]
  },
  {
   "cell_type": "code",
   "execution_count": 28,
   "id": "ecce0ce2",
   "metadata": {},
   "outputs": [
    {
     "data": {
      "text/plain": [
       "False"
      ]
     },
     "execution_count": 28,
     "metadata": {},
     "output_type": "execute_result"
    }
   ],
   "source": [
    "np.array_equal(arr2,arr1)"
   ]
  },
  {
   "cell_type": "code",
   "execution_count": 29,
   "id": "62e44056",
   "metadata": {},
   "outputs": [
    {
     "data": {
      "text/plain": [
       "5.0"
      ]
     },
     "execution_count": 29,
     "metadata": {},
     "output_type": "execute_result"
    }
   ],
   "source": [
    "np.sqrt(25)"
   ]
  },
  {
   "cell_type": "code",
   "execution_count": 30,
   "id": "a20cae90",
   "metadata": {},
   "outputs": [
    {
     "name": "stderr",
     "output_type": "stream",
     "text": [
      "<ipython-input-30-aa262e2109e4>:1: RuntimeWarning: invalid value encountered in sqrt\n",
      "  np.sqrt(arr2)\n"
     ]
    },
    {
     "data": {
      "text/plain": [
       "array([[3.        , 1.73205081, 2.44948974, 2.82842712, 2.23606798],\n",
       "       [2.82842712, 2.23606798, 2.44948974,        nan, 2.23606798]])"
      ]
     },
     "execution_count": 30,
     "metadata": {},
     "output_type": "execute_result"
    }
   ],
   "source": [
    "np.sqrt(arr2)"
   ]
  },
  {
   "cell_type": "code",
   "execution_count": 31,
   "id": "b1c673c6",
   "metadata": {},
   "outputs": [
    {
     "data": {
      "text/plain": [
       "array([[-0.91113026, -0.9899925 ,  0.96017029, -0.14550003,  0.28366219],\n",
       "       [-0.14550003,  0.28366219,  0.96017029, -0.9899925 ,  0.28366219]])"
      ]
     },
     "execution_count": 31,
     "metadata": {},
     "output_type": "execute_result"
    }
   ],
   "source": [
    "np.cos(arr2)"
   ]
  },
  {
   "cell_type": "code",
   "execution_count": 32,
   "id": "78fc5319",
   "metadata": {},
   "outputs": [
    {
     "data": {
      "text/plain": [
       "0.8939966636005579"
      ]
     },
     "execution_count": 32,
     "metadata": {},
     "output_type": "execute_result"
    }
   ],
   "source": [
    "np.sin(90)"
   ]
  },
  {
   "cell_type": "code",
   "execution_count": 33,
   "id": "d9f636cc",
   "metadata": {},
   "outputs": [
    {
     "name": "stderr",
     "output_type": "stream",
     "text": [
      "<ipython-input-33-0fb2bd2eb7ae>:1: RuntimeWarning: invalid value encountered in log\n",
      "  np.log(arr2)\n"
     ]
    },
    {
     "data": {
      "text/plain": [
       "array([[2.19722458, 1.09861229, 1.79175947, 2.07944154, 1.60943791],\n",
       "       [2.07944154, 1.60943791, 1.79175947,        nan, 1.60943791]])"
      ]
     },
     "execution_count": 33,
     "metadata": {},
     "output_type": "execute_result"
    }
   ],
   "source": [
    "np.log(arr2)"
   ]
  },
  {
   "cell_type": "code",
   "execution_count": 34,
   "id": "cadfdcae",
   "metadata": {},
   "outputs": [
    {
     "data": {
      "text/plain": [
       "array([[9, 3, 6, 8, 5],\n",
       "       [8, 5, 2, 3, 4]])"
      ]
     },
     "execution_count": 34,
     "metadata": {},
     "output_type": "execute_result"
    }
   ],
   "source": [
    "np.abs(arr1)"
   ]
  },
  {
   "cell_type": "code",
   "execution_count": 35,
   "id": "9f41b733",
   "metadata": {},
   "outputs": [
    {
     "data": {
      "text/plain": [
       "array([[ 2.,  3.,  7.,  8.],\n",
       "       [ 3.,  6.,  7., 10.]])"
      ]
     },
     "execution_count": 35,
     "metadata": {},
     "output_type": "execute_result"
    }
   ],
   "source": [
    "np.ceil(arr)"
   ]
  },
  {
   "cell_type": "code",
   "execution_count": 36,
   "id": "2b571318",
   "metadata": {},
   "outputs": [
    {
     "data": {
      "text/plain": [
       "array([[1., 2., 6., 8.],\n",
       "       [2., 6., 6., 9.]])"
      ]
     },
     "execution_count": 36,
     "metadata": {},
     "output_type": "execute_result"
    }
   ],
   "source": [
    "np.floor(arr)"
   ]
  },
  {
   "cell_type": "code",
   "execution_count": 37,
   "id": "dd20219a",
   "metadata": {},
   "outputs": [
    {
     "data": {
      "text/plain": [
       "array([[ 1.,  2.,  7.,  8.],\n",
       "       [ 2.,  6.,  7., 10.]])"
      ]
     },
     "execution_count": 37,
     "metadata": {},
     "output_type": "execute_result"
    }
   ],
   "source": [
    "np.round(arr)"
   ]
  },
  {
   "cell_type": "code",
   "execution_count": 38,
   "id": "7cf90f66",
   "metadata": {},
   "outputs": [],
   "source": [
    "arr =np.array([[1,2,3,4],[5,6,7,8]])"
   ]
  },
  {
   "cell_type": "code",
   "execution_count": 39,
   "id": "c24e27fd",
   "metadata": {},
   "outputs": [
    {
     "data": {
      "text/plain": [
       "array([2.5, 6.5])"
      ]
     },
     "execution_count": 39,
     "metadata": {},
     "output_type": "execute_result"
    }
   ],
   "source": [
    "np.mean(arr,axis=1)"
   ]
  },
  {
   "cell_type": "code",
   "execution_count": 40,
   "id": "4eda902f",
   "metadata": {},
   "outputs": [
    {
     "data": {
      "text/plain": [
       "1"
      ]
     },
     "execution_count": 40,
     "metadata": {},
     "output_type": "execute_result"
    }
   ],
   "source": [
    "arr.min()"
   ]
  },
  {
   "cell_type": "code",
   "execution_count": 45,
   "id": "ba0b2002",
   "metadata": {},
   "outputs": [
    {
     "data": {
      "text/plain": [
       "array([5, 6, 7, 8])"
      ]
     },
     "execution_count": 45,
     "metadata": {},
     "output_type": "execute_result"
    }
   ],
   "source": [
    "arr.max(axis=0)\n"
   ]
  },
  {
   "cell_type": "code",
   "execution_count": 46,
   "id": "00b54127",
   "metadata": {},
   "outputs": [],
   "source": [
    "arr=np.array([[3,4],[5,6]])"
   ]
  },
  {
   "cell_type": "code",
   "execution_count": 47,
   "id": "baac3911",
   "metadata": {},
   "outputs": [
    {
     "data": {
      "text/plain": [
       "1.25"
      ]
     },
     "execution_count": 47,
     "metadata": {},
     "output_type": "execute_result"
    }
   ],
   "source": [
    "np.var(arr)"
   ]
  },
  {
   "cell_type": "code",
   "execution_count": 48,
   "id": "f0427c37",
   "metadata": {},
   "outputs": [
    {
     "data": {
      "text/plain": [
       "array([1., 1.])"
      ]
     },
     "execution_count": 48,
     "metadata": {},
     "output_type": "execute_result"
    }
   ],
   "source": [
    "np.var(arr,axis=0)"
   ]
  },
  {
   "cell_type": "code",
   "execution_count": 49,
   "id": "36230d93",
   "metadata": {},
   "outputs": [
    {
     "data": {
      "text/plain": [
       "array([0.5, 0.5])"
      ]
     },
     "execution_count": 49,
     "metadata": {},
     "output_type": "execute_result"
    }
   ],
   "source": [
    "np.std(arr,axis=1)"
   ]
  },
  {
   "cell_type": "code",
   "execution_count": null,
   "id": "7c4fddbf",
   "metadata": {},
   "outputs": [],
   "source": []
  }
 ],
 "metadata": {
  "kernelspec": {
   "display_name": "Python 3",
   "language": "python",
   "name": "python3"
  },
  "language_info": {
   "codemirror_mode": {
    "name": "ipython",
    "version": 3
   },
   "file_extension": ".py",
   "mimetype": "text/x-python",
   "name": "python",
   "nbconvert_exporter": "python",
   "pygments_lexer": "ipython3",
   "version": "3.8.8"
  }
 },
 "nbformat": 4,
 "nbformat_minor": 5
}
